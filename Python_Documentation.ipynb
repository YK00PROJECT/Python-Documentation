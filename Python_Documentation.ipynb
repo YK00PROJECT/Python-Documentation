{
  "nbformat": 4,
  "nbformat_minor": 0,
  "metadata": {
    "colab": {
      "provenance": []
    },
    "kernelspec": {
      "name": "python3",
      "display_name": "Python 3"
    },
    "language_info": {
      "name": "python"
    }
  },
  "cells": [
    {
      "cell_type": "markdown",
      "source": [
        "# Python Comments"
      ],
      "metadata": {
        "id": "pvmAV-4mMKsw"
      }
    },
    {
      "cell_type": "code",
      "execution_count": null,
      "metadata": {
        "colab": {
          "base_uri": "https://localhost:8080/"
        },
        "id": "tZlFq2fX4D-e",
        "outputId": "0917c461-92f4-4879-8943-9ddacf8e7a06"
      },
      "outputs": [
        {
          "output_type": "stream",
          "name": "stdout",
          "text": [
            "Hello world!\n",
            "Hello World!\n",
            "All done!\n"
          ]
        }
      ],
      "source": [
        "# this is a comment\n",
        "print(\"Hello world!\")\n",
        "print(\"Hello World!\") # This is another way to put comment\n",
        "# Multiple comments\n",
        "\"\"\"\n",
        "This is a\n",
        "multiline comment\n",
        "which is more than one line\n",
        "\"\"\"\n",
        "print(\"All done!\")"
      ]
    },
    {
      "cell_type": "markdown",
      "source": [
        "# Variable\n",
        "Variables are containers for storing data values\n"
      ],
      "metadata": {
        "id": "BMzeYkFkM4W1"
      }
    },
    {
      "cell_type": "code",
      "source": [
        "x = 5 # This is a integer type\n",
        "y = \"John\" # This is a string type\n",
        "print(x)\n",
        "print(y)"
      ],
      "metadata": {
        "colab": {
          "base_uri": "https://localhost:8080/"
        },
        "id": "NbZVBJRbMVzG",
        "outputId": "11b3f2af-5a17-46b0-ee5c-3439297a7d76"
      },
      "execution_count": null,
      "outputs": [
        {
          "output_type": "stream",
          "name": "stdout",
          "text": [
            "5\n",
            "John\n"
          ]
        }
      ]
    },
    {
      "cell_type": "markdown",
      "source": [
        "# Casting\n",
        "If you want to specify the data type of a variable, this can be done with casting.\n",
        "\n",
        "One can get the type of a variable using type() function.\n"
      ],
      "metadata": {
        "id": "Dpvhq-O3NTqa"
      }
    },
    {
      "cell_type": "code",
      "source": [
        "x = int(3) # x will be 3\n",
        "y = str(3) # y will be '3'\n",
        "z = float(3) # z will be 3.0\n",
        "print(type(x))\n",
        "print(type(y))\n",
        "print(type(z))"
      ],
      "metadata": {
        "colab": {
          "base_uri": "https://localhost:8080/"
        },
        "id": "rDZesJFvNJkl",
        "outputId": "e19d5111-f853-452b-b162-19f037dee9ae"
      },
      "execution_count": null,
      "outputs": [
        {
          "output_type": "stream",
          "name": "stdout",
          "text": [
            "<class 'int'>\n",
            "<class 'str'>\n",
            "<class 'float'>\n"
          ]
        }
      ]
    },
    {
      "cell_type": "markdown",
      "source": [
        "String Variables can be declared by sigle or double quotes.\n",
        "Variable names are case sensitive.\n"
      ],
      "metadata": {
        "id": "hqmgb1JZODXB"
      }
    },
    {
      "cell_type": "code",
      "source": [
        "x = 'John'\n",
        "y = \"John\"\n",
        "a = 4\n",
        "A = \"Sector\" # A will not overwrite a"
      ],
      "metadata": {
        "id": "hcvox6S4NztF"
      },
      "execution_count": null,
      "outputs": []
    },
    {
      "cell_type": "markdown",
      "source": [
        "# Rules for python variable naming:\n",
        "A varaible can have a short name or a more descriptive name\n",
        "A Variable must start with a letter or the underscore character\n",
        "A Variable can not start with a number\n",
        "A Variable name can ponly contain alpha numeric characters and underscores (A_Z , 0_9 , _)\n",
        "Variable names are case_sensitive\n",
        "A Variable name can not be any of the python keywords"
      ],
      "metadata": {
        "id": "IpxSJF1pOb2W"
      }
    },
    {
      "cell_type": "code",
      "source": [
        "# Legal variable names\n",
        "myvar = \"John\"\n",
        "my_var = \"John\"\n",
        "_my_var = \"John\"\n",
        "myVar = \"John\"\n",
        "MYVAR = \"John\"\n",
        "myvar2 = \"John\"\n",
        "print('\\n')\n",
        "# Wrong Variable names\n",
        "2myvar = \"John\"\n",
        "my-var = \"John\"\n",
        "my var = \"John\""
      ],
      "metadata": {
        "colab": {
          "base_uri": "https://localhost:8080/",
          "height": 144
        },
        "id": "oD2hPmDnOYLP",
        "outputId": "7b715dc9-0860-4ad5-bf33-26d63e7a21c4"
      },
      "execution_count": null,
      "outputs": [
        {
          "output_type": "error",
          "ename": "SyntaxError",
          "evalue": "invalid decimal literal (<ipython-input-35-b89b5ddca213>, line 10)",
          "traceback": [
            "\u001b[0;36m  File \u001b[0;32m\"<ipython-input-35-b89b5ddca213>\"\u001b[0;36m, line \u001b[0;32m10\u001b[0m\n\u001b[0;31m    2myvar = \"John\"\u001b[0m\n\u001b[0m    ^\u001b[0m\n\u001b[0;31mSyntaxError\u001b[0m\u001b[0;31m:\u001b[0m invalid decimal literal\n"
          ]
        }
      ]
    },
    {
      "cell_type": "markdown",
      "source": [
        "# Multi Words Variable Names\n",
        "Variable names with more than one word can be difficult to read.\n",
        "Several techniques can be used:\n",
        "Camel Case: Each words except the first, starts with a capital letter\n",
        "Pascal Case: Each word starts with a capital letter.\n",
        "Snake Case: Each word is separated by an underscore  character"
      ],
      "metadata": {
        "id": "9-1x97FWP3hh"
      }
    },
    {
      "cell_type": "code",
      "source": [
        "# CamelCase Version\n",
        "mYvARIABLE = \"John\"\n",
        "\n",
        "# Pascal Case Version\n",
        "MyVariable = \"John\"\n",
        "\n",
        "# Snake Case Version\n",
        "my_variable = \"John\""
      ],
      "metadata": {
        "id": "x897NQo9Qgky"
      },
      "execution_count": null,
      "outputs": []
    },
    {
      "cell_type": "markdown",
      "source": [
        "# Assigning Multiple Variables\n",
        "\n",
        "Python allows to assign values to multiple variables in one line\n",
        "\n",
        "One value to multiple variables\n",
        "\n",
        "Unpack a collection: if one has a collection of values in a list, tuple, etc, python allows you to extract the values into variables. This is called unpacking."
      ],
      "metadata": {
        "id": "xrQKc7sHQ2Oj"
      }
    },
    {
      "cell_type": "code",
      "source": [
        "# Many values to Multiple Variables\n",
        "\n",
        "x,y,z = \"Orange\",\"Banana\",\"Cherry\"\n",
        "print(x)\n",
        "print(y)\n",
        "print(z)"
      ],
      "metadata": {
        "colab": {
          "base_uri": "https://localhost:8080/"
        },
        "id": "Lece25NKRbpJ",
        "outputId": "211016c4-86f4-4e8b-f901-c1c4f7adf7cb"
      },
      "execution_count": null,
      "outputs": [
        {
          "output_type": "stream",
          "name": "stdout",
          "text": [
            "Orange\n",
            "Banana\n",
            "Cherry\n"
          ]
        }
      ]
    },
    {
      "cell_type": "code",
      "source": [
        "# One value to multiple variable\n",
        "\n",
        "x = y = z = \"Orange\"\n",
        "print(x)\n",
        "print(y)\n",
        "print(z)"
      ],
      "metadata": {
        "colab": {
          "base_uri": "https://localhost:8080/"
        },
        "id": "XSCE08dMRvVi",
        "outputId": "f917267d-4e58-4766-d911-9f297441092b"
      },
      "execution_count": null,
      "outputs": [
        {
          "output_type": "stream",
          "name": "stdout",
          "text": [
            "Orange\n",
            "Orange\n",
            "Orange\n"
          ]
        }
      ]
    },
    {
      "cell_type": "code",
      "source": [
        "# Unpack a Collection\n",
        "\n",
        "fruits = [\"apple\",\"banana\",\"cherry\"]\n",
        "x,y,z = fruits\n",
        "print(x)\n",
        "print(y)\n",
        "print(z)"
      ],
      "metadata": {
        "colab": {
          "base_uri": "https://localhost:8080/"
        },
        "id": "UwsNx-gvR6VP",
        "outputId": "c8f572b0-f6be-40d1-f2ca-5b8110e31d66"
      },
      "execution_count": null,
      "outputs": [
        {
          "output_type": "stream",
          "name": "stdout",
          "text": [
            "apple\n",
            "banana\n",
            "cherry\n"
          ]
        }
      ]
    },
    {
      "cell_type": "markdown",
      "source": [
        "# Output Variable\n",
        "\n",
        "The python print() function is often used to output variables\n",
        "In print() function, one can output multiple variables, separated by comma\n",
        "One can use + operator for output multiple variables, but for numbers + operator works as a mathematical operator. consider that in print function, when one tries to combine a string and a number with + operator, python will give an error, the best way to poutput multiple variables with commas, which supports different data types."
      ],
      "metadata": {
        "id": "Zs9duqz0SQAt"
      }
    },
    {
      "cell_type": "code",
      "source": [
        "x = \"Python is awesome\"\n",
        "print(x)\n",
        "\n",
        "x = \"Python\"\n",
        "y = \"is\"\n",
        "z = \"awesome\"\n",
        "\n",
        "print(x,y,z)\n",
        "\n",
        "x = \"Python\"\n",
        "y = \"is\"\n",
        "z = \"awesome\"\n",
        "print(x+y+z)\n",
        "\n",
        "x = 5\n",
        "y = 10\n",
        "print(x+y)\n",
        "\n",
        "x = 5\n",
        "y = \"John\"\n",
        "print(x + y)\n",
        "\n"
      ],
      "metadata": {
        "colab": {
          "base_uri": "https://localhost:8080/",
          "height": 307
        },
        "id": "YWhWpeAVSLcj",
        "outputId": "f180af3b-fed6-4c47-bb92-897cbd39c2b8"
      },
      "execution_count": null,
      "outputs": [
        {
          "output_type": "stream",
          "name": "stdout",
          "text": [
            "Python is awesome\n",
            "Python is awesome\n",
            "Pythonisawesome\n",
            "15\n"
          ]
        },
        {
          "output_type": "error",
          "ename": "TypeError",
          "evalue": "unsupported operand type(s) for +: 'int' and 'str'",
          "traceback": [
            "\u001b[0;31m---------------------------------------------------------------------------\u001b[0m",
            "\u001b[0;31mTypeError\u001b[0m                                 Traceback (most recent call last)",
            "\u001b[0;32m<ipython-input-12-e3bf228bd5d0>\u001b[0m in \u001b[0;36m<cell line: 21>\u001b[0;34m()\u001b[0m\n\u001b[1;32m     19\u001b[0m \u001b[0mx\u001b[0m \u001b[0;34m=\u001b[0m \u001b[0;36m5\u001b[0m\u001b[0;34m\u001b[0m\u001b[0;34m\u001b[0m\u001b[0m\n\u001b[1;32m     20\u001b[0m \u001b[0my\u001b[0m \u001b[0;34m=\u001b[0m \u001b[0;34m\"John\"\u001b[0m\u001b[0;34m\u001b[0m\u001b[0;34m\u001b[0m\u001b[0m\n\u001b[0;32m---> 21\u001b[0;31m \u001b[0mprint\u001b[0m\u001b[0;34m(\u001b[0m\u001b[0mx\u001b[0m \u001b[0;34m+\u001b[0m \u001b[0my\u001b[0m\u001b[0;34m)\u001b[0m\u001b[0;34m\u001b[0m\u001b[0;34m\u001b[0m\u001b[0m\n\u001b[0m\u001b[1;32m     22\u001b[0m \u001b[0;34m\u001b[0m\u001b[0m\n",
            "\u001b[0;31mTypeError\u001b[0m: unsupported operand type(s) for +: 'int' and 'str'"
          ]
        }
      ]
    },
    {
      "cell_type": "markdown",
      "source": [
        "# Global Variables\n",
        "\n",
        "The variables that are created outside of a function are known as global variables. Global variables are used by everyone, both inside of a function or outside of a function.\n",
        "If a variable created with the same name inside a function, this variable will be local, and can only used inside the function. The global variable with the same name will remain as it was, global and with the original value."
      ],
      "metadata": {
        "id": "jpzWJF9JcZBk"
      }
    },
    {
      "cell_type": "code",
      "source": [
        "x = \"awesome\"\n",
        "\n",
        "def myfunc():\n",
        "  print(\"Python is \" + x)\n",
        "\n",
        "myfunc()\n"
      ],
      "metadata": {
        "colab": {
          "base_uri": "https://localhost:8080/"
        },
        "id": "4zrMfWvnTm3X",
        "outputId": "f67e81c3-a5fe-41e7-f452-a74a81608e84"
      },
      "execution_count": null,
      "outputs": [
        {
          "output_type": "stream",
          "name": "stdout",
          "text": [
            "Python is awesome\n"
          ]
        }
      ]
    },
    {
      "cell_type": "code",
      "source": [
        "x = \"awesome\"\n",
        "\n",
        "def myfunc():\n",
        "  x = \"fantastic\"\n",
        "  print(\"Python is \" + x)\n",
        "\n",
        "myfunc()\n",
        "\n",
        "print(\"Python is \" + x)"
      ],
      "metadata": {
        "colab": {
          "base_uri": "https://localhost:8080/"
        },
        "id": "SrJPp_4Ydfcm",
        "outputId": "3b1675b8-4bac-4f9e-a291-6423bdb8ca7f"
      },
      "execution_count": null,
      "outputs": [
        {
          "output_type": "stream",
          "name": "stdout",
          "text": [
            "Python is fantastic\n",
            "Python is awesome\n"
          ]
        }
      ]
    },
    {
      "cell_type": "markdown",
      "source": [
        "# The Global Keyword\n",
        "When one create a variable indside a function, that variable is local, and can only be used inside that function.\n",
        "\n",
        "To create a global variable inside a function, one can use the global keyword. Use the global keyword if you want to change a global variable inside a function."
      ],
      "metadata": {
        "id": "MzejKDJCcSaK"
      }
    },
    {
      "cell_type": "code",
      "source": [
        "def myfunc():\n",
        "  global x\n",
        "  x = \"awesome\"\n",
        "  print(\"Python is \" + x)\n",
        "myfunc()"
      ],
      "metadata": {
        "colab": {
          "base_uri": "https://localhost:8080/"
        },
        "id": "2rAkQTJAdzFv",
        "outputId": "5792da00-c0dc-424f-8fa5-1ee723144b3f"
      },
      "execution_count": null,
      "outputs": [
        {
          "output_type": "stream",
          "name": "stdout",
          "text": [
            "Python is awesome\n"
          ]
        }
      ]
    },
    {
      "cell_type": "code",
      "source": [
        "x = \"awesome\"\n",
        "\n",
        "def myfunc():\n",
        "  global x\n",
        "  x = \"fantastic\"\n",
        "\n",
        "myfunc()\n",
        "\n",
        "print(\"Python is \" + x)"
      ],
      "metadata": {
        "colab": {
          "base_uri": "https://localhost:8080/"
        },
        "id": "elY2PmhKesUN",
        "outputId": "8adf11ce-3eac-49ac-b9f0-cf07e84ba12b"
      },
      "execution_count": null,
      "outputs": [
        {
          "output_type": "stream",
          "name": "stdout",
          "text": [
            "Python is fantastic\n"
          ]
        }
      ]
    },
    {
      "cell_type": "markdown",
      "source": [
        "# Built in Data Types\n",
        "\n",
        "Variables can store data of different types and different types can do different things. Python has the following data types built-in by default\n",
        "\n",
        "\n",
        "*   Test Type = str\n",
        "*   Numeric Types = int, float, complex\n",
        "*   Sequence Types = list, tuple, range\n",
        "*   Mapping Type = dict\n",
        "*   Set Types = set, frozenset\n",
        "*   Boolean Type = bool\n",
        "*   Binary Types = butes, bytearray, memoryview\n",
        "*   None Type = NoneType  \n",
        "\n",
        "\n",
        "Getting the data type of any object using the type() function\n",
        "Setting the data type, one can use different constructor functions"
      ],
      "metadata": {
        "id": "h3OrhNjwfUBB"
      }
    },
    {
      "cell_type": "code",
      "source": [
        "x = 5\n",
        "y = \"John\"\n",
        "z = 3.0\n",
        "a = [\"apple\", \"Banana\"]\n",
        "b = (\"apple\",\"banana\")\n",
        "c = {\"name\":\"John\",\"age\":36}\n",
        "d = True\n",
        "e = b\"Hello\"\n",
        "f = bytearray(5)\n",
        "h = memoryview(bytes(5))\n",
        "print(f)\n",
        "print(h)"
      ],
      "metadata": {
        "colab": {
          "base_uri": "https://localhost:8080/"
        },
        "id": "jp2IDAdDe8ey",
        "outputId": "9f103ef1-483d-433d-e796-9bcf26beee37"
      },
      "execution_count": null,
      "outputs": [
        {
          "output_type": "stream",
          "name": "stdout",
          "text": [
            "bytearray(b'\\x00\\x00\\x00\\x00\\x00')\n",
            "<memory at 0x7d54a507c400>\n"
          ]
        }
      ]
    },
    {
      "cell_type": "code",
      "source": [
        "print(type(x))\n",
        "print(type(y))\n",
        "print(type(z))\n",
        "print(type(a))\n",
        "print(type(b))\n",
        "print(type(c))\n",
        "print(type(d))\n",
        "print(type(e))\n",
        "print(type(f))"
      ],
      "metadata": {
        "colab": {
          "base_uri": "https://localhost:8080/"
        },
        "id": "YCEbvE5lhyfZ",
        "outputId": "b8efba63-939a-437c-dfbd-9f76d7a5f5e3"
      },
      "execution_count": null,
      "outputs": [
        {
          "output_type": "stream",
          "name": "stdout",
          "text": [
            "<class 'int'>\n",
            "<class 'str'>\n",
            "<class 'float'>\n",
            "<class 'list'>\n",
            "<class 'tuple'>\n",
            "<class 'dict'>\n",
            "<class 'bool'>\n",
            "<class 'bytes'>\n",
            "<class 'bytearray'>\n"
          ]
        }
      ]
    },
    {
      "cell_type": "code",
      "source": [
        "x = str(\"Hello world!\")\n",
        "y = int(3)\n",
        "z = float(3)\n",
        "w = complex(1j)\n",
        "a = list((\"apple\",\"banana\",\"cherry\"))\n",
        "b = tuple((\"apple\",\"banana\",\"cherry\"))\n",
        "c = range(6)\n",
        "d = dict(name=\"John\",age=36)\n",
        "e = set((\"apple\",\"banana\",\"cherry\"))\n",
        "f = frozenset((\"apple\",\"banana\",\"cherry\"))\n",
        "g = bool(5)\n",
        "h = bytes(5)\n",
        "l = bytearray(5)\n",
        "v = memoryview(bytes(5))"
      ],
      "metadata": {
        "id": "syut_PRoiF36"
      },
      "execution_count": null,
      "outputs": []
    },
    {
      "cell_type": "code",
      "source": [
        "print(x)\n",
        "print(y)\n",
        "print(z)\n",
        "print(w)\n",
        "print(a)\n",
        "print(b)\n",
        "print(c)\n",
        "print(d)\n",
        "print(e)\n",
        "print(f)\n",
        "print(g)\n",
        "print(h)\n",
        "print(l)\n",
        "print(v)\n"
      ],
      "metadata": {
        "colab": {
          "base_uri": "https://localhost:8080/"
        },
        "id": "DfUMyCQBjTSW",
        "outputId": "86bf58ec-d3b5-484e-ea4e-e3015dfe73a6"
      },
      "execution_count": null,
      "outputs": [
        {
          "output_type": "stream",
          "name": "stdout",
          "text": [
            "Hello world!\n",
            "3\n",
            "3.0\n",
            "1j\n",
            "['apple', 'banana', 'cherry']\n",
            "('apple', 'banana', 'cherry')\n",
            "range(0, 6)\n",
            "{'name': 'John', 'age': 36}\n",
            "{'apple', 'banana', 'cherry'}\n",
            "frozenset({'apple', 'banana', 'cherry'})\n",
            "True\n",
            "b'\\x00\\x00\\x00\\x00\\x00'\n",
            "bytearray(b'\\x00\\x00\\x00\\x00\\x00')\n",
            "<memory at 0x7d54a507d900>\n"
          ]
        }
      ]
    },
    {
      "cell_type": "markdown",
      "source": [
        "# Python Numbers\n",
        "There are three numeric types in python:\n",
        "\n",
        "\n",
        "*   int\n",
        "*   float\n",
        "*   complex\n",
        "\n",
        "Integers = is a whole number, positive, negative, without decimals of unlimited length.\n",
        "Float or floating point number is a number positive, or negative, containing one or more decimals.float can also be scientific numbers with a \"e\" to indicate the power of 10.\n",
        "Complex number are written with a \"j\" as the imaginary part.\n",
        "\n",
        "*   Converting from one type of number to another with int(),float(), complex()\n",
        "*   Random number: The python has no random() function, but it has builtin module called random that can be used to make random numbers\n",
        "\n",
        "\n",
        "\n"
      ],
      "metadata": {
        "id": "x57o-OGWjvaB"
      }
    },
    {
      "cell_type": "code",
      "source": [
        "x = 1\n",
        "y = 2.8\n",
        "z = 1j\n",
        "\n",
        "print(type(x))\n",
        "print(type(y))\n",
        "print(type(z))"
      ],
      "metadata": {
        "colab": {
          "base_uri": "https://localhost:8080/"
        },
        "id": "Oqo0EVOOjY38",
        "outputId": "8c29f1be-6daa-4c1b-9917-4554c8c591c5"
      },
      "execution_count": null,
      "outputs": [
        {
          "output_type": "stream",
          "name": "stdout",
          "text": [
            "<class 'int'>\n",
            "<class 'float'>\n",
            "<class 'complex'>\n"
          ]
        }
      ]
    },
    {
      "cell_type": "code",
      "source": [
        "x = 35e3\n",
        "y = 12E4\n",
        "z = -87.7e100\n",
        "\n",
        "print(type(x))\n",
        "print(type(y))\n",
        "print(type(z))"
      ],
      "metadata": {
        "colab": {
          "base_uri": "https://localhost:8080/"
        },
        "id": "l8slLW4WlKxk",
        "outputId": "6c79ed2c-d4a7-4d28-c488-bd59d506a22f"
      },
      "execution_count": null,
      "outputs": [
        {
          "output_type": "stream",
          "name": "stdout",
          "text": [
            "<class 'float'>\n",
            "<class 'float'>\n",
            "<class 'float'>\n"
          ]
        }
      ]
    },
    {
      "cell_type": "code",
      "source": [
        "x = 3j\n",
        "y = 5+2j\n",
        "z = -5j\n",
        "\n",
        "print(type(x))\n",
        "print(type(y))\n",
        "print(type(z))"
      ],
      "metadata": {
        "colab": {
          "base_uri": "https://localhost:8080/"
        },
        "id": "1JH1ty-Jlffw",
        "outputId": "d6ed0c8d-d6b0-4344-8f66-e083f04edc6d"
      },
      "execution_count": null,
      "outputs": [
        {
          "output_type": "stream",
          "name": "stdout",
          "text": [
            "<class 'complex'>\n",
            "<class 'complex'>\n",
            "<class 'complex'>\n"
          ]
        }
      ]
    },
    {
      "cell_type": "code",
      "source": [
        "a = 1\n",
        "b = 2.8\n",
        "c = 1j\n",
        "\n",
        "x = float(a)\n",
        "y = int(b)\n",
        "z = complex(a)\n",
        "\n",
        "print(x)\n",
        "print(y)\n",
        "print(z)\n",
        "\n",
        "print(type(x))\n",
        "print(type(y))\n",
        "print(type(z))"
      ],
      "metadata": {
        "colab": {
          "base_uri": "https://localhost:8080/"
        },
        "id": "YigumJyUltMX",
        "outputId": "9cbd4c00-ccec-4a66-8714-7a4f23e02396"
      },
      "execution_count": null,
      "outputs": [
        {
          "output_type": "stream",
          "name": "stdout",
          "text": [
            "1.0\n",
            "2\n",
            "(1+0j)\n",
            "<class 'float'>\n",
            "<class 'int'>\n",
            "<class 'complex'>\n"
          ]
        }
      ]
    },
    {
      "cell_type": "code",
      "source": [
        "import random\n",
        "print(random.randrange(1,10))"
      ],
      "metadata": {
        "colab": {
          "base_uri": "https://localhost:8080/"
        },
        "id": "2IZ_49nhmFom",
        "outputId": "8ca8e722-92f1-47ca-ac35-74e6e38f1fbc"
      },
      "execution_count": null,
      "outputs": [
        {
          "output_type": "stream",
          "name": "stdout",
          "text": [
            "6\n"
          ]
        }
      ]
    },
    {
      "cell_type": "code",
      "source": [
        "import random\n",
        "print(random.randint(1,10))"
      ],
      "metadata": {
        "colab": {
          "base_uri": "https://localhost:8080/"
        },
        "id": "Z7NKCwl4mNxR",
        "outputId": "75020599-79d4-4030-bb45-4bef3abde21e"
      },
      "execution_count": null,
      "outputs": [
        {
          "output_type": "stream",
          "name": "stdout",
          "text": [
            "3\n"
          ]
        }
      ]
    },
    {
      "cell_type": "markdown",
      "source": [
        "# Python Casting\n",
        "Using constructors such as int(), float(), str()"
      ],
      "metadata": {
        "id": "AA3Ng17lmo39"
      }
    },
    {
      "cell_type": "code",
      "source": [
        "x = int(1)\n",
        "y = int(2.8)\n",
        "z = int(\"3\")\n",
        "\n",
        "print(x)\n",
        "print(y)\n",
        "print(z)"
      ],
      "metadata": {
        "colab": {
          "base_uri": "https://localhost:8080/"
        },
        "id": "9b90CaAzmibV",
        "outputId": "cf215826-2ac0-4515-ed4b-810021251e97"
      },
      "execution_count": null,
      "outputs": [
        {
          "output_type": "stream",
          "name": "stdout",
          "text": [
            "1\n",
            "2\n",
            "3\n"
          ]
        }
      ]
    },
    {
      "cell_type": "code",
      "source": [
        "x = float(1)\n",
        "y = float(\"4.2\")\n",
        "z = float(\"3\")\n",
        "\n",
        "print(x)\n",
        "print(y)\n",
        "print(z)"
      ],
      "metadata": {
        "colab": {
          "base_uri": "https://localhost:8080/"
        },
        "id": "8aqJJSbTz0v0",
        "outputId": "dc8703ea-db84-44be-ca2b-8ae547674a3b"
      },
      "execution_count": null,
      "outputs": [
        {
          "output_type": "stream",
          "name": "stdout",
          "text": [
            "1.0\n",
            "4.2\n",
            "3.0\n"
          ]
        }
      ]
    },
    {
      "cell_type": "code",
      "source": [
        "x = str(\"s1\")\n",
        "y = str(2)\n",
        "z = str(3.0)\n",
        "\n",
        "print(x)\n",
        "print(y)\n",
        "print(z)"
      ],
      "metadata": {
        "colab": {
          "base_uri": "https://localhost:8080/"
        },
        "id": "Gw5PhzSN0G-_",
        "outputId": "460491fc-0531-406a-d064-82215d981320"
      },
      "execution_count": null,
      "outputs": [
        {
          "output_type": "stream",
          "name": "stdout",
          "text": [
            "s1\n",
            "2\n",
            "3.0\n"
          ]
        }
      ]
    },
    {
      "cell_type": "markdown",
      "source": [
        "# Python String\n",
        "Strings in python are surrounded by either single or double quotation marks. One can display a string literal by using print() function.\n",
        "\n",
        "*   A multilinr string can be assigned to a variable\n",
        "*   Strings in python are arrays of bytes representing unicode characters. Square brackets can be used to access elements of a string.\n",
        "*   Since strings are arrays, one can loop through the characters in a string, with a for loop.\n",
        "*   The len() function returns the length of a string.\n",
        "*   Check if a certain character is present in a tring, one can use keyword in.\n",
        "*   To check if a certain character is not presented in a string, one can use the keyword not in.\n",
        "\n",
        "\n",
        "\n",
        "\n",
        "\n",
        "\n"
      ],
      "metadata": {
        "id": "fYYexJSu0TMR"
      }
    },
    {
      "cell_type": "code",
      "source": [
        "print('Hello')\n",
        "print(\"Hello\")\n",
        "# Assign string to a variable\n",
        "a = \"Hello\"\n",
        "print(a)\n",
        "\n",
        "# Multiline Strings\n",
        "a = \"\"\"Lorem ipsum dolor sit amet,\n",
        "consectetur adipiscing elit,\n",
        "sed do eiusmod tempor incididunt\n",
        "ut labore et dolore magna aliqua.\"\"\"\n",
        "print(a)"
      ],
      "metadata": {
        "colab": {
          "base_uri": "https://localhost:8080/"
        },
        "id": "Gjm0obWi0OTj",
        "outputId": "f16801b8-5ee2-4fbd-8913-494a2bd4cd89"
      },
      "execution_count": null,
      "outputs": [
        {
          "output_type": "stream",
          "name": "stdout",
          "text": [
            "Hello\n",
            "Hello\n",
            "Hello\n",
            "Lorem ipsum dolor sit amet,\n",
            "consectetur adipiscing elit,\n",
            "sed do eiusmod tempor incididunt\n",
            "ut labore et dolore magna aliqua.\n"
          ]
        }
      ]
    },
    {
      "cell_type": "code",
      "source": [
        "# Strings are arrays\n",
        "\n",
        "a = \"Hello, World!\"\n",
        "print(a[1])"
      ],
      "metadata": {
        "colab": {
          "base_uri": "https://localhost:8080/"
        },
        "id": "Meop8PeWI4a6",
        "outputId": "efda76b8-8265-47f5-c0ec-d7502b9208a4"
      },
      "execution_count": null,
      "outputs": [
        {
          "output_type": "stream",
          "name": "stdout",
          "text": [
            "e\n"
          ]
        }
      ]
    },
    {
      "cell_type": "code",
      "source": [
        "# Using for loop\n",
        "a = \"Hello, world!\"\n",
        "for ch in a:\n",
        "  print(ch)"
      ],
      "metadata": {
        "colab": {
          "base_uri": "https://localhost:8080/"
        },
        "id": "DV_wcbDEJC5N",
        "outputId": "1ce873c3-8cea-43c8-e1eb-3fa3038778b2"
      },
      "execution_count": null,
      "outputs": [
        {
          "output_type": "stream",
          "name": "stdout",
          "text": [
            "H\n",
            "e\n",
            "l\n",
            "l\n",
            "o\n",
            ",\n",
            " \n",
            "w\n",
            "o\n",
            "r\n",
            "l\n",
            "d\n",
            "!\n"
          ]
        }
      ]
    },
    {
      "cell_type": "code",
      "source": [
        "# len() function\n",
        "a = \"Hello, World!\"\n",
        "print(len(a))"
      ],
      "metadata": {
        "colab": {
          "base_uri": "https://localhost:8080/"
        },
        "id": "Clk15tQcJJf2",
        "outputId": "0c286228-12dd-4bc5-dea8-a09795cb3a3a"
      },
      "execution_count": null,
      "outputs": [
        {
          "output_type": "stream",
          "name": "stdout",
          "text": [
            "13\n"
          ]
        }
      ]
    },
    {
      "cell_type": "code",
      "source": [
        "# Check String\n",
        "txt = \"The best things in life are free!\"\n",
        "print(\"free\" in txt)\n",
        "# or\n",
        "if \"free\" in txt:\n",
        "  print(\"Yes, 'free' is present.\")"
      ],
      "metadata": {
        "colab": {
          "base_uri": "https://localhost:8080/"
        },
        "id": "EfnmVSTIJRum",
        "outputId": "8b0ae887-8497-454c-e4e9-fb01382e1733"
      },
      "execution_count": null,
      "outputs": [
        {
          "output_type": "stream",
          "name": "stdout",
          "text": [
            "True\n",
            "Yes, 'free' is present.\n"
          ]
        }
      ]
    },
    {
      "cell_type": "code",
      "source": [
        "txt = \"The best things in life are free!\"\n",
        "print(\"expensive\" not in txt)\n",
        "if \"expensive\" not in txt:\n",
        "  print(\"Yes, 'expensive' is not present.\")"
      ],
      "metadata": {
        "colab": {
          "base_uri": "https://localhost:8080/"
        },
        "id": "xIok2kyrJhcr",
        "outputId": "c5abf096-7717-42fa-8f0f-df123cd452f6"
      },
      "execution_count": null,
      "outputs": [
        {
          "output_type": "stream",
          "name": "stdout",
          "text": [
            "True\n",
            "Yes, 'expensive' is not present.\n"
          ]
        }
      ]
    },
    {
      "cell_type": "markdown",
      "source": [
        "# Python _ Slicing Strings\n",
        "One can return a range of characters by using the slice syntax. By specifying the start index and the end index, separated by a colon, to return a part of the string."
      ],
      "metadata": {
        "id": "wRvcvTH4J9je"
      }
    },
    {
      "cell_type": "code",
      "source": [
        "b = \"Hello, World!\"\n",
        "print(b[2:5])"
      ],
      "metadata": {
        "colab": {
          "base_uri": "https://localhost:8080/"
        },
        "id": "tsDt8hKzJ1Kz",
        "outputId": "f5036521-2dc4-4915-df8d-c43c45463e1f"
      },
      "execution_count": null,
      "outputs": [
        {
          "output_type": "stream",
          "name": "stdout",
          "text": [
            "llo\n"
          ]
        }
      ]
    },
    {
      "cell_type": "code",
      "source": [
        "# Slice from the start\n",
        "b = \"Hello, World!\"\n",
        "print(b[:5])"
      ],
      "metadata": {
        "colab": {
          "base_uri": "https://localhost:8080/"
        },
        "id": "1Y80dShNKa09",
        "outputId": "27d442d2-d78a-4245-de1a-93997ce78e53"
      },
      "execution_count": null,
      "outputs": [
        {
          "output_type": "stream",
          "name": "stdout",
          "text": [
            "Hello\n"
          ]
        }
      ]
    },
    {
      "cell_type": "code",
      "source": [
        "# Slice to the end\n",
        "b = \"Hello, World!\"\n",
        "print(b[2:])"
      ],
      "metadata": {
        "colab": {
          "base_uri": "https://localhost:8080/"
        },
        "id": "nU9mZnLxKih7",
        "outputId": "4e0f6726-ba56-452a-fdce-edc4acab7173"
      },
      "execution_count": null,
      "outputs": [
        {
          "output_type": "stream",
          "name": "stdout",
          "text": [
            "llo, World!\n"
          ]
        }
      ]
    },
    {
      "cell_type": "code",
      "source": [
        "# Negaive Indexing\n",
        "b = \"Hello, World!\"\n",
        "print(b[-5:-2])"
      ],
      "metadata": {
        "colab": {
          "base_uri": "https://localhost:8080/"
        },
        "id": "H0oiOjjbKpQA",
        "outputId": "bccc5466-88d6-44cc-be77-91b3db920a73"
      },
      "execution_count": null,
      "outputs": [
        {
          "output_type": "stream",
          "name": "stdout",
          "text": [
            "orl\n"
          ]
        }
      ]
    },
    {
      "cell_type": "code",
      "source": [
        "b = \"Hello, World!\"\n",
        "print(b[:-1])"
      ],
      "metadata": {
        "colab": {
          "base_uri": "https://localhost:8080/"
        },
        "id": "mBcBcta1Kzoe",
        "outputId": "7e396d26-f56f-41a9-8fff-722651ce3742"
      },
      "execution_count": null,
      "outputs": [
        {
          "output_type": "stream",
          "name": "stdout",
          "text": [
            "Hello, World\n"
          ]
        }
      ]
    },
    {
      "cell_type": "markdown",
      "source": [
        "# Python - Modifying String\n",
        "Python has a set of built-in methods that one can use on strings.\n",
        "Different Methods\n",
        "\n",
        "*   Upper Case\n",
        "*   Lower Case\n",
        "*   Remove White Spaces\n",
        "*   Replace String\n",
        "*   Split String\n",
        "\n",
        "\n",
        "\n",
        "\n",
        "\n"
      ],
      "metadata": {
        "id": "QoGJAXuXLK-N"
      }
    },
    {
      "cell_type": "code",
      "source": [
        "# Upper Case\n",
        "a = \"hello, world!\"\n",
        "print(a.upper())"
      ],
      "metadata": {
        "id": "V-9T6ye9LBiI",
        "colab": {
          "base_uri": "https://localhost:8080/"
        },
        "outputId": "33d2b538-fb4b-4b27-fbf5-8f350d49a8c0"
      },
      "execution_count": null,
      "outputs": [
        {
          "output_type": "stream",
          "name": "stdout",
          "text": [
            "HELLO, WORLD!\n"
          ]
        }
      ]
    },
    {
      "cell_type": "code",
      "source": [
        "# Lower Case\n",
        "a = \"HELLO, WORLD!\"\n",
        "print(a.lower())"
      ],
      "metadata": {
        "colab": {
          "base_uri": "https://localhost:8080/"
        },
        "id": "b1miQmaQVFzk",
        "outputId": "4fbfa985-ed62-46a5-f5c1-86e1c0c555c3"
      },
      "execution_count": null,
      "outputs": [
        {
          "output_type": "stream",
          "name": "stdout",
          "text": [
            "hello, world!\n"
          ]
        }
      ]
    },
    {
      "cell_type": "code",
      "source": [
        "# Remove White Spaces: strip() function removes any whitespace from the beginning and the end\n",
        "a = \"Hello, World!\"\n",
        "print(a.strip())"
      ],
      "metadata": {
        "colab": {
          "base_uri": "https://localhost:8080/"
        },
        "id": "WEYhcWEQVRKS",
        "outputId": "7f611cb2-6367-42f6-d2f8-5398eddb853d"
      },
      "execution_count": null,
      "outputs": [
        {
          "output_type": "stream",
          "name": "stdout",
          "text": [
            "Hello, World!\n"
          ]
        }
      ]
    },
    {
      "cell_type": "code",
      "source": [
        "# Replace String:\n",
        "a = \"Hello, World!\"\n",
        "print(a.replace(\"H\",\"J\"))"
      ],
      "metadata": {
        "colab": {
          "base_uri": "https://localhost:8080/"
        },
        "id": "pGeLTOkeVaSP",
        "outputId": "12396827-f1ab-46f7-ff07-abf191e6b389"
      },
      "execution_count": null,
      "outputs": [
        {
          "output_type": "stream",
          "name": "stdout",
          "text": [
            "Jello, World!\n"
          ]
        }
      ]
    },
    {
      "cell_type": "code",
      "source": [
        "# Split String splits the string into substrings and creates a list\n",
        "a = \"Hello, World!\"\n",
        "print(a.split())"
      ],
      "metadata": {
        "colab": {
          "base_uri": "https://localhost:8080/"
        },
        "id": "bIRjMULWVq6I",
        "outputId": "5d180c1d-bdf8-4227-a478-dcd2057637d6"
      },
      "execution_count": null,
      "outputs": [
        {
          "output_type": "stream",
          "name": "stdout",
          "text": [
            "['Hello,', 'World!']\n"
          ]
        }
      ]
    },
    {
      "cell_type": "markdown",
      "source": [
        "# Python - String Concatenation\n",
        "To combine two or more strings one can use the + operator."
      ],
      "metadata": {
        "id": "gvP5CTO1Wa8z"
      }
    },
    {
      "cell_type": "code",
      "source": [
        "a = \"Hello\"\n",
        "b = \"World\"\n",
        "c = a + b\n",
        "print(c)"
      ],
      "metadata": {
        "colab": {
          "base_uri": "https://localhost:8080/"
        },
        "id": "nKQzly3jWXIu",
        "outputId": "f6c9cc06-d62e-455a-d223-0b638da77b2a"
      },
      "execution_count": null,
      "outputs": [
        {
          "output_type": "stream",
          "name": "stdout",
          "text": [
            "HelloWorld\n"
          ]
        }
      ]
    },
    {
      "cell_type": "code",
      "source": [
        "a = \"Hello\"\n",
        "b = \"World!\"\n",
        "c = (a + \" \" + b)\n",
        "print(c)"
      ],
      "metadata": {
        "colab": {
          "base_uri": "https://localhost:8080/"
        },
        "id": "jgL63T24WuDf",
        "outputId": "2fe9d059-2214-4db6-8278-8e5dcc56f3c8"
      },
      "execution_count": null,
      "outputs": [
        {
          "output_type": "stream",
          "name": "stdout",
          "text": [
            "Hello World!\n"
          ]
        }
      ]
    },
    {
      "cell_type": "markdown",
      "source": [
        "# String Format\n",
        "one can combine strings and numbers by using the format() function. The format() function takes the passed arguments, format them, and places them in the string where the placeholders {} are and format() takes unlimited number of arguments."
      ],
      "metadata": {
        "id": "V1Avaq2UXB-w"
      }
    },
    {
      "cell_type": "code",
      "source": [
        "age = 36\n",
        "print(f\"my name is John and I am {age}\")"
      ],
      "metadata": {
        "colab": {
          "base_uri": "https://localhost:8080/"
        },
        "id": "TEiu0LqhW3aw",
        "outputId": "eda2a8b6-b3b4-42f8-bd14-da94c6fdc5a1"
      },
      "execution_count": null,
      "outputs": [
        {
          "output_type": "stream",
          "name": "stdout",
          "text": [
            "my name is John and I am 36\n"
          ]
        }
      ]
    },
    {
      "cell_type": "code",
      "source": [
        "quantity = 3\n",
        "itemno = 567\n",
        "price = 49.95\n",
        "myorder = \"I want {0} pieces of item {1} for price {2}\"\n",
        "print(myorder.format(quantity, itemno, price))"
      ],
      "metadata": {
        "colab": {
          "base_uri": "https://localhost:8080/"
        },
        "id": "zpwaJ_FSXpJY",
        "outputId": "e5a24b9e-4eaa-4079-cd7a-69461526e290"
      },
      "execution_count": null,
      "outputs": [
        {
          "output_type": "stream",
          "name": "stdout",
          "text": [
            "I want 3 pieces of item 567 for price 49.95\n"
          ]
        }
      ]
    },
    {
      "cell_type": "code",
      "source": [
        "quantity = 3\n",
        "itemno = 567\n",
        "price = 49.95\n",
        "myorder = \"I want {} pieces of item {} for price {}\"\n",
        "print(myorder.format(quantity, itemno, price))"
      ],
      "metadata": {
        "colab": {
          "base_uri": "https://localhost:8080/"
        },
        "id": "lF_1k9W0YVeO",
        "outputId": "082f4139-9a34-4496-e9c0-2566a6f2737f"
      },
      "execution_count": null,
      "outputs": [
        {
          "output_type": "stream",
          "name": "stdout",
          "text": [
            "I want 3 pieces of item 567 for price 49.95\n"
          ]
        }
      ]
    },
    {
      "cell_type": "markdown",
      "source": [
        "# Python Escape Characters\n",
        "To insert characters that are illegal in a string, use an escape character. An escape character is a backslash \\ followed by the character you want to insert.\n",
        "\n",
        "\n",
        "1.   \\' single Quote\n",
        "2.   \\\\ Backslash\n",
        "*    \\n New line\n",
        "*    \\r Carriage Return\n",
        "*    \\t Tab\n",
        "*    \\b Backspace\n",
        "*    \\f Form Feed\n",
        "*    \\ooo Octal value\n",
        "*    \\xhh Hex Value\n",
        "\n",
        "\n",
        "\n",
        "\n",
        "\n",
        "\n",
        "\n",
        "\n",
        "\n"
      ],
      "metadata": {
        "id": "RTuJi_6iY0hk"
      }
    },
    {
      "cell_type": "code",
      "source": [
        "txt = \"we are the so called \"Vikings\" from the north\""
      ],
      "metadata": {
        "colab": {
          "base_uri": "https://localhost:8080/",
          "height": 143
        },
        "id": "krHydI42Yv_l",
        "outputId": "c2b963c2-1c8a-49c0-c8b5-92745e01591e"
      },
      "execution_count": null,
      "outputs": [
        {
          "output_type": "error",
          "ename": "SyntaxError",
          "evalue": "invalid syntax (<ipython-input-18-e17e3eab4c5a>, line 1)",
          "traceback": [
            "\u001b[0;36m  File \u001b[0;32m\"<ipython-input-18-e17e3eab4c5a>\"\u001b[0;36m, line \u001b[0;32m1\u001b[0m\n\u001b[0;31m    txt = \"we are the so called \"Vikings\" from the north\"\u001b[0m\n\u001b[0m                                 ^\u001b[0m\n\u001b[0;31mSyntaxError\u001b[0m\u001b[0;31m:\u001b[0m invalid syntax\n"
          ]
        }
      ]
    },
    {
      "cell_type": "code",
      "source": [
        "txt = \"We are the so called \\\"Vikings\\from the north.\""
      ],
      "metadata": {
        "id": "69UB11FnbBXp"
      },
      "execution_count": null,
      "outputs": []
    },
    {
      "cell_type": "code",
      "source": [
        "# single Quote\n",
        "txt = 'It \\'s alright.'\n",
        "print(txt)"
      ],
      "metadata": {
        "colab": {
          "base_uri": "https://localhost:8080/"
        },
        "id": "Fob4vOQ4bMrX",
        "outputId": "465c37e4-1460-499a-91a9-57a1923c5e82"
      },
      "execution_count": null,
      "outputs": [
        {
          "output_type": "stream",
          "name": "stdout",
          "text": [
            "It 's alright.\n"
          ]
        }
      ]
    },
    {
      "cell_type": "code",
      "source": [
        "# Backslash\n",
        "txt = \"This will insert one \\\\ (backslash)\"\n",
        "print(txt)"
      ],
      "metadata": {
        "colab": {
          "base_uri": "https://localhost:8080/"
        },
        "id": "klugb7HwcUCC",
        "outputId": "ac81b398-9aef-4792-8015-558e7646669e"
      },
      "execution_count": null,
      "outputs": [
        {
          "output_type": "stream",
          "name": "stdout",
          "text": [
            "This will insert one \\ (backslash)\n"
          ]
        }
      ]
    },
    {
      "cell_type": "code",
      "source": [
        "# New line\n",
        "txt = \"Hello\\nWorld!\"\n",
        "print(txt)"
      ],
      "metadata": {
        "colab": {
          "base_uri": "https://localhost:8080/"
        },
        "id": "bBdOCj-ocixp",
        "outputId": "f48f6468-ab06-4cb6-dbe8-eda67cb627c3"
      },
      "execution_count": null,
      "outputs": [
        {
          "output_type": "stream",
          "name": "stdout",
          "text": [
            "Hello\n",
            "World!\n"
          ]
        }
      ]
    },
    {
      "cell_type": "code",
      "source": [
        "# Carriage Return\n",
        "txt = \"Hello\\rWorld!\"\n",
        "print(txt)"
      ],
      "metadata": {
        "colab": {
          "base_uri": "https://localhost:8080/"
        },
        "id": "61s7e-gxcsV-",
        "outputId": "72e9a7ae-f80e-44a4-eb1a-a39fa699bea8"
      },
      "execution_count": null,
      "outputs": [
        {
          "output_type": "stream",
          "name": "stdout",
          "text": [
            "Hello\rWorld!\n"
          ]
        }
      ]
    },
    {
      "cell_type": "code",
      "source": [
        "# Tab\n",
        "txt = \"Hello\\tworld1\"\n",
        "print(txt)"
      ],
      "metadata": {
        "colab": {
          "base_uri": "https://localhost:8080/"
        },
        "id": "E9l96Hkqc38R",
        "outputId": "23d1063c-8165-4296-d710-42df2070a106"
      },
      "execution_count": null,
      "outputs": [
        {
          "output_type": "stream",
          "name": "stdout",
          "text": [
            "Hello\tworld1\n"
          ]
        }
      ]
    },
    {
      "cell_type": "code",
      "source": [
        "# Backspace\n",
        "txt = \"Hello\\bworld!\"\n",
        "print(txt)"
      ],
      "metadata": {
        "colab": {
          "base_uri": "https://localhost:8080/"
        },
        "id": "TuoPP3pOdNB4",
        "outputId": "10af1e5e-761d-48f9-b072-0d6f66ee056b"
      },
      "execution_count": null,
      "outputs": [
        {
          "output_type": "stream",
          "name": "stdout",
          "text": [
            "Hello\bworld!\n"
          ]
        }
      ]
    },
    {
      "cell_type": "code",
      "source": [
        "# Form Feed\n",
        "txt = \"Hello\\fworld!\"\n",
        "print(txt)"
      ],
      "metadata": {
        "colab": {
          "base_uri": "https://localhost:8080/"
        },
        "id": "oHtR5EJQdVEk",
        "outputId": "96a8f1b5-a68b-45ef-936b-f1ed67a5c4f6"
      },
      "execution_count": null,
      "outputs": [
        {
          "output_type": "stream",
          "name": "stdout",
          "text": [
            "Hello\fworld!\n"
          ]
        }
      ]
    },
    {
      "cell_type": "code",
      "source": [
        "# Octal value is a backslash followed by three integers will result in a octal value\n",
        "txt = \"\\110\\145\\154\\154\\157\"\n",
        "print(txt)"
      ],
      "metadata": {
        "colab": {
          "base_uri": "https://localhost:8080/"
        },
        "id": "2Ee8zp_wdgZL",
        "outputId": "a22b8c62-8215-4be6-ba02-2df29c8e8d74"
      },
      "execution_count": null,
      "outputs": [
        {
          "output_type": "stream",
          "name": "stdout",
          "text": [
            "Hello\n"
          ]
        }
      ]
    },
    {
      "cell_type": "code",
      "source": [
        "# hex value is a backslash followed by an 'x' and a hex number represent a hex value\n",
        "txt = \"\\x48\\x65\\x6c\\x6c\\x6f\"\n",
        "print(txt)"
      ],
      "metadata": {
        "colab": {
          "base_uri": "https://localhost:8080/"
        },
        "id": "xMcB3HzTdzqZ",
        "outputId": "3bad22b4-211b-49ac-f657-7403bf151749"
      },
      "execution_count": null,
      "outputs": [
        {
          "output_type": "stream",
          "name": "stdout",
          "text": [
            "Hello\n"
          ]
        }
      ]
    },
    {
      "cell_type": "markdown",
      "source": [
        "# string Methods\n",
        "\n",
        "\n",
        "*   capitalize(): converts the first character to upper case\n",
        "*   casefold(): converts the string into lower case.\n",
        "*   center(): returns a centered string\n",
        "*   count(): returns the number of times a specific value occurs in a string.\n",
        "*   encode(): returns an encoded version of the string.\n",
        "*   endswith(): returns true if the string ends with the specified value.\n",
        "*   expandtabs(): sets the tab size of the string.\n",
        "*   find(): searches the string for a specified values and returns the position of where it was found.\n",
        "*   format(): formats specified values in a string.\n",
        "*   format_map(): formats specified values in a string.\n",
        "*   index(): searches the string for a specified value and returns the position of where it was found.\n",
        "*   isalnum(): returns true if all characters in the string are alphanumeric.\n",
        "*   isalpha(): returns true if all characters in a string are alphabets.\n",
        "*   isascii(): returns true if all characters in the strings are ascii characters.\n",
        "*   isdecimal(): returns true if all characters in a string are decimals.\n",
        "*   isdigit(): returns true if all characters in a string are digits.\n",
        "*   isidentifier(): returns true if a string is an identifier.\n",
        "*   islower(): returns true if all characters in a string are lowercase.\n",
        "*   isnumeric(): returns true if all characters in a string are numeric\n",
        "*   isprintable(): returns true if all characters in a string are printable.\n",
        "*   isspace(): returns true if all characters in a strig are whitespaces.\n",
        "*   istitle(): returns true if a string follows the rules of a title.\n",
        "*   isupper(): returns true if all characters in a string are uppercase.\n",
        "*   join(): joins the elements of an iterable to the end of the string.\n",
        "*   !just(): returns a left justified version of the string.\n",
        "*   lower(): converts a string into lowercase.\n",
        "*   Istrip(): returns a left trim version of e string.\n",
        "*   maketrans(): returns a translation table to be used in translations.\n",
        "*   partition(): returns a tuple where the string is parted into three parts.\n",
        "*   rfind():searches the string for a specified value and returns the last position of where it was found.\n",
        "*   rindex(): searches the string for a specified value and returns the last position of where it was found.\n",
        "*   rjust(): returns a right justified version of a string\n",
        "*   rpartition(): returns a tuple where a string is parted into three parts.\n",
        "*   rsplit(): splits a string at the specified separator and returns a list.\n",
        "*   splitlines(): splits the string at the specified separator and returns a list.\n",
        "*   startswith(): returns true is the string starts.\n",
        "*   strip(): returns a trimmed version of the string.\n",
        "*   swapcase(): swaps cases, lower case becomes upper case and vice versa.\n",
        "*   title(): converts the first character of each word to upper case.\n",
        "*   translate(): return a translated string.\n",
        "*   upper(): converts a string to upper case.\n",
        "*   zfill(): Fills the string with specific number of 0 values at the beginning.\n",
        "*   rstrip(): returns a right trim version of a string.\n",
        "*   splitlines(): splits a string at line breaks and returns a list.\n",
        "\n",
        "\n",
        "\n",
        "\n",
        "\n",
        "\n",
        "\n",
        "\n",
        "\n",
        "\n",
        "\n",
        "\n",
        "\n"
      ],
      "metadata": {
        "id": "VQR-jYnSea6d"
      }
    },
    {
      "cell_type": "markdown",
      "source": [
        "# Boolean Values\n",
        "\n",
        "Evaluating any expression in python, gives one one of two answers, True or False."
      ],
      "metadata": {
        "id": "SRB4iNZA4krh"
      }
    },
    {
      "cell_type": "code",
      "source": [
        "print(10 > 9)\n",
        "print(10 == 9)\n",
        "print(10 < 9)"
      ],
      "metadata": {
        "colab": {
          "base_uri": "https://localhost:8080/"
        },
        "id": "-OEB15FNmLSm",
        "outputId": "5c2c7a3c-f6c3-4400-bedb-9b25f14b0654"
      },
      "execution_count": null,
      "outputs": [
        {
          "output_type": "stream",
          "name": "stdout",
          "text": [
            "True\n",
            "False\n",
            "False\n"
          ]
        }
      ]
    },
    {
      "cell_type": "code",
      "source": [
        "a = 200\n",
        "b = 33\n",
        "\n",
        "if b > a:\n",
        "  print(\"b is greater than a\")\n",
        "else:\n",
        "  print(\"b is not greater than a\")"
      ],
      "metadata": {
        "colab": {
          "base_uri": "https://localhost:8080/"
        },
        "id": "i0HsV2ox44L2",
        "outputId": "4266d0d2-c34b-47a6-f1d6-9fe60fc89d0c"
      },
      "execution_count": null,
      "outputs": [
        {
          "output_type": "stream",
          "name": "stdout",
          "text": [
            "b is not greater than a\n"
          ]
        }
      ]
    },
    {
      "cell_type": "code",
      "source": [
        "#the bool() function allows you to evaluate any value, and give one  True and False in return.\n",
        "print(bool(\"Hello\"))\n",
        "print(bool(15))"
      ],
      "metadata": {
        "colab": {
          "base_uri": "https://localhost:8080/"
        },
        "id": "fqkk68ZJEyYc",
        "outputId": "b6cf0d3b-8e37-42b1-e02f-91798725b226"
      },
      "execution_count": null,
      "outputs": [
        {
          "output_type": "stream",
          "name": "stdout",
          "text": [
            "True\n",
            "True\n"
          ]
        }
      ]
    },
    {
      "cell_type": "code",
      "source": [
        "x = \"Hello\"\n",
        "y = 15\n",
        "\n",
        "print(bool(x))\n",
        "print(bool(y))"
      ],
      "metadata": {
        "colab": {
          "base_uri": "https://localhost:8080/"
        },
        "id": "Usi2YlkWFR28",
        "outputId": "646673a8-8fa2-4d4c-bf0a-4bf940ed548d"
      },
      "execution_count": null,
      "outputs": [
        {
          "output_type": "stream",
          "name": "stdout",
          "text": [
            "True\n",
            "True\n"
          ]
        }
      ]
    },
    {
      "cell_type": "code",
      "source": [
        "\"\"\"\n",
        "Any string is true, except empty string\n",
        "Any number is true, except 0\n",
        "Any list, tuple, and dictionary are True, except empty ones.\n",
        "\"\"\"\n",
        "list1 = []\n",
        "print(bool(123))\n",
        "print(bool(\"\"))\n",
        "print(bool(list1))\n",
        "print(bool(\"Hello\"))\n",
        "print(bool([\"apple\",\"banana\",\"cherry\"]))\n",
        "print(bool(0))\n",
        "print(bool())\n",
        "print(bool({}))\n",
        "print(bool(None))\n",
        "print(bool(False))"
      ],
      "metadata": {
        "colab": {
          "base_uri": "https://localhost:8080/"
        },
        "id": "c4d4Ph36FbOZ",
        "outputId": "e01f2f2e-66eb-4378-d10f-66e13db65020"
      },
      "execution_count": null,
      "outputs": [
        {
          "output_type": "stream",
          "name": "stdout",
          "text": [
            "True\n",
            "False\n",
            "False\n",
            "True\n",
            "True\n",
            "False\n",
            "False\n",
            "False\n",
            "False\n",
            "False\n"
          ]
        }
      ]
    },
    {
      "cell_type": "code",
      "source": [
        "class myclass():\n",
        "  def __len__(self):\n",
        "    return 0\n",
        "\n",
        "myobj = myclass()\n",
        "print(bool(myobj))"
      ],
      "metadata": {
        "colab": {
          "base_uri": "https://localhost:8080/"
        },
        "id": "ATXjNJPyGXJQ",
        "outputId": "af016e25-5aa7-4d02-92a4-9d03f92e7dfb"
      },
      "execution_count": null,
      "outputs": [
        {
          "output_type": "stream",
          "name": "stdout",
          "text": [
            "False\n"
          ]
        }
      ]
    },
    {
      "cell_type": "code",
      "source": [
        "# function returning a boolean value\n",
        "def myfunc():\n",
        "  return True\n",
        "\n",
        "print(myfunc())"
      ],
      "metadata": {
        "colab": {
          "base_uri": "https://localhost:8080/"
        },
        "id": "3xZKdiEVHe9g",
        "outputId": "2f234010-80f6-4156-b028-10dd7a9b5249"
      },
      "execution_count": null,
      "outputs": [
        {
          "output_type": "stream",
          "name": "stdout",
          "text": [
            "True\n"
          ]
        }
      ]
    },
    {
      "cell_type": "code",
      "source": [
        "def myfunc():\n",
        "  return True\n",
        "\n",
        "if myfunc():\n",
        "  print(\"yes\")\n",
        "else:\n",
        "  print(\"No!\")"
      ],
      "metadata": {
        "colab": {
          "base_uri": "https://localhost:8080/"
        },
        "id": "55TjPfysJ9XT",
        "outputId": "b0e14277-b290-4c9a-fc17-755ec7ff8f7e"
      },
      "execution_count": null,
      "outputs": [
        {
          "output_type": "stream",
          "name": "stdout",
          "text": [
            "yes\n"
          ]
        }
      ]
    },
    {
      "cell_type": "code",
      "source": [
        "# The isinstance() function, which can be used to determine if an object is of a certain data type.\n",
        "x = 200\n",
        "print(isinstance(x,int))"
      ],
      "metadata": {
        "colab": {
          "base_uri": "https://localhost:8080/"
        },
        "id": "x8LqEUjVKeLb",
        "outputId": "6af07581-5d3e-4b43-98a6-9dd38abdaf40"
      },
      "execution_count": null,
      "outputs": [
        {
          "output_type": "stream",
          "name": "stdout",
          "text": [
            "True\n"
          ]
        }
      ]
    },
    {
      "cell_type": "markdown",
      "source": [
        "# Python Arithmetic Operators\n",
        "\n",
        "+ == Addition == x + y\n",
        "- == Subtraction == x - y\n",
        "* == Multiplication == x * y\n",
        "/ == Division == x / y\n",
        "% == Modulus == x % y\n",
        "** == Exponentiation == x ** y\n",
        "// == Floor division == x//y\n",
        "\n"
      ],
      "metadata": {
        "id": "mORrnKMUK0cc"
      }
    },
    {
      "cell_type": "markdown",
      "source": [
        "# Python assignemnt Operators\n",
        "\n",
        "*   = ==> x = 5\n",
        "*   += ==> x += 3 ==> x = x + 3\n",
        "*   -= ==> x -= 3 ==> x = x - 3\n",
        "*   *= ==> x *= 3 ==> x = x * 3\n",
        "*   /= ==> x /= 3 ==> x = x / 3\n",
        "*   %= ==> x %= 3 ==> x = x % 3\n",
        "*   //= ==> x //= x ==> x = x // 3\n",
        "*   **= ==> x **/ 3 ==> x = x ** 3\n",
        "*   &= ==> x &= 3 ==> x = x & 3\n",
        "*   |= ==> x |= 3 ==> x = x | 3\n",
        "*   ^= ==> x ^= 3 ==> x = x ^ 3\n",
        "*   >>= ==> x >>= 3 ==> x = x >> 3\n",
        "*   <<= ==> x <<= 3 ==> x = x << 3\n",
        "\n",
        "\n",
        "\n"
      ],
      "metadata": {
        "id": "bvrBuXDdM1dj"
      }
    },
    {
      "cell_type": "markdown",
      "source": [
        "# Python Comparison Operators\n",
        "\n",
        "\n",
        "\n",
        "*   == ==> Equal ==> x == y\n",
        "*   != ==> Not Equal ==> x != y\n",
        "*   #> ==> Greater ==> x > y\n",
        "*   #< ==> Less Than ==> x < y\n",
        "*   #>= Greater than or equal ==> x >= y\n",
        "*   <= ==> Less than or equal ==> x <= y\n",
        "\n",
        "\n",
        "\n",
        "\n",
        "\n",
        "\n",
        "\n",
        "\n",
        "\n"
      ],
      "metadata": {
        "id": "aaJatfGjOTs4"
      }
    },
    {
      "cell_type": "markdown",
      "source": [
        "# python Logical operators\n",
        "\n",
        "*   and ==> Returns True if both statements are True ==> x < 5 and x < 10\n",
        "*   or ==> Returns True if one of the statements is True ==> x < 5 or x < 4\n",
        "*   not => Reverse the result, returns False if the result is True ==> not(x< 4 and x < 5)\n",
        "\n",
        "\n"
      ],
      "metadata": {
        "id": "Q6I_wysZOwhX"
      }
    },
    {
      "cell_type": "markdown",
      "source": [
        "# python identity Operators\n",
        "\n",
        "*   is ==> Returns true if both variables are the same object ==> x is y\n",
        "*   is not ==> Returns True if both variables are not the same object ==> x is not y.\n",
        "\n"
      ],
      "metadata": {
        "id": "t5XueEllP_8-"
      }
    },
    {
      "cell_type": "markdown",
      "source": [
        "# Python Membership Operators\n",
        "\n",
        "*   in ==> Returns True if a sequence with the specified value is present in the object ==> x in y\n",
        "*   not in ==> Returns if a sequence with the specified value is not present in the object ==> x not in y\n",
        "\n"
      ],
      "metadata": {
        "id": "AsMN-DmHQ5ZR"
      }
    },
    {
      "cell_type": "markdown",
      "source": [
        "# python bitwise Operators\n",
        "\n",
        "\n",
        "\n",
        "*   & ==> AND ==> sets each bit to 1 if both bits are 1 ==> x & y\n",
        "*   | ==> OR ==> sets each bit to 1 if one of two bits is 1 ==> x | y\n",
        "*   ^ ==> XOR ==> Sets each bit to 1 if only one of two bits is 1 ==> x ^ y\n",
        "*   ~ ==> NOT ==> Inverts all the bits ==> ~x\n",
        "*   #<< ==> Zero Fill left shift ==> Shift left by pushing zeros in from the right and let the leftmost bits fall off ==> x << 2\n",
        "*   #>> ==> Signed right shift ==> Shift right by pushing copies of the leftmost bit in from the left, and let the rightmost bits fall off ==> x >> 2\n",
        "\n",
        "\n"
      ],
      "metadata": {
        "id": "Fw48SNLURV7a"
      }
    },
    {
      "cell_type": "markdown",
      "source": [
        "# Operator Precedence\n",
        "\n",
        "\n",
        "\n",
        "*   () ==> Parantheses\n",
        "*   ** ==> Exponentiation\n",
        "*   +x -x ~x ==> Unary plus, unary minus, and bitwise NOT\n",
        "*  empty * / // % ==> Multiplication, division, floor division, and modules\n",
        "*  empty + - ==> Addition, subtraction\n",
        "*  empty << >> ==> Bitwise left and right shifts\n",
        "*   & Bitwise AND\n",
        "*   ^ Bitwise XOR\n",
        "*   | ==> Bitwise OR\n",
        "*  empty == != > >= < <= is is not in not in ==> Comparison, identity, and membership operators\n",
        "*   not ==> Logical NOT\n",
        "*   and ==> AND\n",
        "*   or ==> OR\n",
        "\n",
        "\n",
        "\n",
        "\n"
      ],
      "metadata": {
        "id": "QsPMz9UBSfoX"
      }
    },
    {
      "cell_type": "code",
      "source": [
        "# operator Precedence\n",
        "print((6 + 3) - (6 + 3))\n",
        "print(5 + 4 - 7 + 3)\n",
        "print(100 + 5 * 3)"
      ],
      "metadata": {
        "colab": {
          "base_uri": "https://localhost:8080/"
        },
        "id": "XuJGALcIKttp",
        "outputId": "84091aee-8c5c-4c10-a7fc-1fc15b880b24"
      },
      "execution_count": null,
      "outputs": [
        {
          "output_type": "stream",
          "name": "stdout",
          "text": [
            "0\n",
            "5\n",
            "115\n"
          ]
        }
      ]
    },
    {
      "cell_type": "markdown",
      "source": [
        "# Python Lists\n",
        "Storing multi variables with different types, lists are mutable.\n",
        "\n",
        "List items are ordered, changeable, and allow duplicate values.\n",
        "\n",
        "When we say that lists are ordered, it means that the items have a defined order, and that order will not change.\n",
        "\n",
        "If you add new items to a list, the new items will be placed at the end of the list.\n",
        "\n",
        "The list is changeable, meaning that we can change, add, and remove items in a list after it has been created."
      ],
      "metadata": {
        "id": "oWGiz8tHVQDq"
      }
    },
    {
      "cell_type": "code",
      "source": [
        "mylist = [\"apple\", \"banana\",\"cherry\"]\n",
        "mylist2 = [40,True,\"abc\",89,\"male\"]\n",
        "print(mylist)\n",
        "print(len(mylist))\n",
        "print(type(mylist))"
      ],
      "metadata": {
        "colab": {
          "base_uri": "https://localhost:8080/"
        },
        "id": "EoeSQUeq4Thh",
        "outputId": "a3442993-5b0d-4507-8d90-15865b976ec6"
      },
      "execution_count": null,
      "outputs": [
        {
          "output_type": "stream",
          "name": "stdout",
          "text": [
            "['apple', 'banana', 'cherry']\n",
            "3\n",
            "<class 'list'>\n"
          ]
        }
      ]
    },
    {
      "cell_type": "code",
      "source": [
        "# List Constructor: list() function to make a list\n",
        "thislist = list((\"apple\",\"cherry\",\"orange\"))\n",
        "print(thislist)\n"
      ],
      "metadata": {
        "colab": {
          "base_uri": "https://localhost:8080/"
        },
        "id": "Nk3VPMPV5Dw2",
        "outputId": "32fd1e61-399a-4935-feb6-80beed07ff0a"
      },
      "execution_count": null,
      "outputs": [
        {
          "output_type": "stream",
          "name": "stdout",
          "text": [
            "['apple', 'cherry', 'orange']\n"
          ]
        }
      ]
    },
    {
      "cell_type": "markdown",
      "source": [
        "Python Collections (Arrays)\n",
        "\n",
        "There are four collection data types in the Python programming language:\n",
        "\n",
        "List is a collection which is ordered and changeable. Allows duplicate members.\n",
        "\n",
        "Tuple is a collection which is ordered and unchangeable. Allows duplicate members.\n",
        "\n",
        "Set is a collection which is unordered, unchangeable*, and unindexed. No duplicate members.\n",
        "\n",
        "Dictionary is a collection which is ordered and changeable. No duplicate members"
      ],
      "metadata": {
        "id": "D3k7yoU46P8Z"
      }
    },
    {
      "cell_type": "code",
      "source": [
        "print(mylist[1])"
      ],
      "metadata": {
        "colab": {
          "base_uri": "https://localhost:8080/"
        },
        "id": "cmAyeHct6JLv",
        "outputId": "0438f41f-25e8-4ec3-de21-a172c40b2b16"
      },
      "execution_count": null,
      "outputs": [
        {
          "output_type": "stream",
          "name": "stdout",
          "text": [
            "banana\n"
          ]
        }
      ]
    },
    {
      "cell_type": "code",
      "source": [
        "print(mylist[-1])"
      ],
      "metadata": {
        "colab": {
          "base_uri": "https://localhost:8080/"
        },
        "id": "0Fizwkd_Ankw",
        "outputId": "2a450bf0-c69d-40c8-f7be-80873093c8af"
      },
      "execution_count": null,
      "outputs": [
        {
          "output_type": "stream",
          "name": "stdout",
          "text": [
            "cherry\n"
          ]
        }
      ]
    },
    {
      "cell_type": "code",
      "source": [
        "# Range of Indexes\n",
        "\n",
        "#You can specify a range of indexes by specifying where to start and where to end the range.\n",
        "\n",
        "#When specifying a range, the return value will be a new list with the specified items.\n",
        "\n",
        "print(mylist[1:3])\n",
        "print(mylist[:1])\n",
        "print(mylist2[2:])\n"
      ],
      "metadata": {
        "colab": {
          "base_uri": "https://localhost:8080/"
        },
        "id": "sbg1Fsj3Aro4",
        "outputId": "e8f64301-9133-4df3-b1f6-e2deee5ab22d"
      },
      "execution_count": null,
      "outputs": [
        {
          "output_type": "stream",
          "name": "stdout",
          "text": [
            "['banana', 'cherry']\n",
            "['apple']\n",
            "['abc', 89, 'male']\n"
          ]
        }
      ]
    },
    {
      "cell_type": "code",
      "source": [
        "# Range of Negative Indexes\n",
        "print(mylist2[-4:-1])"
      ],
      "metadata": {
        "colab": {
          "base_uri": "https://localhost:8080/"
        },
        "id": "L1HbA9kWAvNA",
        "outputId": "a71e08f5-6465-434c-ddcc-077a6041300f"
      },
      "execution_count": null,
      "outputs": [
        {
          "output_type": "stream",
          "name": "stdout",
          "text": [
            "[True, 'abc', 89]\n"
          ]
        }
      ]
    },
    {
      "cell_type": "code",
      "source": [
        "# Check if Item Exists: To determine if a specified item is present in a list use the in keyword\n",
        "thislist=[\"apple\",\"cherry\",\"orange\"]\n",
        "if \"apple\" in thislist:\n",
        "  print(\"Yes, apple is in this list\")"
      ],
      "metadata": {
        "colab": {
          "base_uri": "https://localhost:8080/"
        },
        "id": "eH6KtKUWBW80",
        "outputId": "2060de64-e501-44a7-eb92-f5407685114a"
      },
      "execution_count": null,
      "outputs": [
        {
          "output_type": "stream",
          "name": "stdout",
          "text": [
            "Yes, apple is in this list\n"
          ]
        }
      ]
    },
    {
      "cell_type": "code",
      "source": [
        "# Change Item Value: To change the value of a specific item, refer to the index number\n",
        "countrylist = [\"USA\",\"Germany\",\"sweden\"]\n",
        "countrylist[0] = \"IRAN\"\n",
        "print(countrylist)"
      ],
      "metadata": {
        "colab": {
          "base_uri": "https://localhost:8080/"
        },
        "id": "pPFnMyvZBqT3",
        "outputId": "6634f3f1-2758-4a0e-d967-97bb3b39d58a"
      },
      "execution_count": null,
      "outputs": [
        {
          "output_type": "stream",
          "name": "stdout",
          "text": [
            "['IRAN', 'Germany', 'sweden']\n"
          ]
        }
      ]
    },
    {
      "cell_type": "code",
      "source": [
        "# Chabge a range of values\n",
        "countrylist = [\"USA\",\"Germany\",\"sweden\"]\n",
        "countrylist[0:2] = [\"USA\",\"Iran\"]\n",
        "print(countrylist)"
      ],
      "metadata": {
        "colab": {
          "base_uri": "https://localhost:8080/"
        },
        "id": "NMRjwTRfCNqT",
        "outputId": "73b226c7-bb24-4e73-8680-0bbb86929b47"
      },
      "execution_count": null,
      "outputs": [
        {
          "output_type": "stream",
          "name": "stdout",
          "text": [
            "['USA', 'Iran', 'sweden']\n"
          ]
        }
      ]
    },
    {
      "cell_type": "code",
      "source": [
        "thislist = [\"apple\", \"banana\", \"cherry\"]\n",
        "thislist[1:2] = [\"blackcurrant\", \"watermelon\"]\n",
        "print(thislist)"
      ],
      "metadata": {
        "colab": {
          "base_uri": "https://localhost:8080/"
        },
        "id": "UTKr1i2-CfCE",
        "outputId": "7bba8f71-6c64-4598-85b9-57dec189d291"
      },
      "execution_count": null,
      "outputs": [
        {
          "output_type": "stream",
          "name": "stdout",
          "text": [
            "['apple', 'blackcurrant', 'watermelon', 'cherry']\n"
          ]
        }
      ]
    },
    {
      "cell_type": "code",
      "source": [
        "\"\"\"[\"watermelon\"] is a new list containing a single element, \"watermelon\".\n",
        "The assignment (=) replaces the slice of the original list ([\"banana\", \"cherry\"]) with the new list ([\"watermelon\"])\"\"\"\n",
        "\n",
        "thislist = [\"apple\", \"banana\", \"cherry\"]\n",
        "\n",
        "thislist[1:3] = [\"watermelon\"]\n",
        "\n",
        "print(thislist)"
      ],
      "metadata": {
        "colab": {
          "base_uri": "https://localhost:8080/"
        },
        "id": "W3okyxm9C6vH",
        "outputId": "b449a55b-bc01-4267-ce94-3876ae773a42"
      },
      "execution_count": null,
      "outputs": [
        {
          "output_type": "stream",
          "name": "stdout",
          "text": [
            "['apple', 'watermelon']\n"
          ]
        }
      ]
    },
    {
      "cell_type": "code",
      "source": [
        "# Insert Items: To insert a new list item, without replacing any of the existing values, we can use the insert() method at the specified index\n",
        "thislist = [\"apple\", \"banana\", \"cherry\", \"orange\", \"kiwi\", \"mango\"]\n",
        "thislist.insert(2,\"zebra\")\n",
        "print(thislist)"
      ],
      "metadata": {
        "colab": {
          "base_uri": "https://localhost:8080/"
        },
        "id": "zyVwt2nIDLEP",
        "outputId": "2a0f0995-59ee-4beb-d12f-9d980c126eca"
      },
      "execution_count": null,
      "outputs": [
        {
          "output_type": "stream",
          "name": "stdout",
          "text": [
            "['apple', 'banana', 'zebra', 'cherry', 'orange', 'kiwi', 'mango']\n"
          ]
        }
      ]
    },
    {
      "cell_type": "code",
      "source": [
        "# append() function: the new item gets added to the end of the list\n",
        "thislist = [\"apple\", \"banana\", \"cherry\"]\n",
        "thislist.append(\"orange\")\n",
        "print(thislist)"
      ],
      "metadata": {
        "id": "ocOFyU5PEHqX",
        "colab": {
          "base_uri": "https://localhost:8080/"
        },
        "outputId": "dba42090-d31b-41b6-f38d-84a8b365c709"
      },
      "execution_count": null,
      "outputs": [
        {
          "output_type": "stream",
          "name": "stdout",
          "text": [
            "['apple', 'banana', 'cherry', 'orange']\n"
          ]
        }
      ]
    },
    {
      "cell_type": "code",
      "source": [
        "# Insert: adding an elemnet to a specific position in the list\n",
        "thislist = [\"apple\", \"banana\", \"cherry\"]\n",
        "thislist.insert(0,\"orange\")\n",
        "print(thislist)"
      ],
      "metadata": {
        "colab": {
          "base_uri": "https://localhost:8080/"
        },
        "id": "AvP8gcAqiEqI",
        "outputId": "dd68d21f-a7d8-41e2-8b1b-69f39b395f29"
      },
      "execution_count": null,
      "outputs": [
        {
          "output_type": "stream",
          "name": "stdout",
          "text": [
            "['orange', 'apple', 'banana', 'cherry']\n"
          ]
        }
      ]
    },
    {
      "cell_type": "code",
      "source": [
        "# extend(): adding elements from another list to the current list\n",
        "thislist = [\"apple\", \"banana\", \"cherry\"]\n",
        "otherlist = [\"mango\",\"pineapple\",\"papaya\"]\n",
        "thislist.extend(otherlist)\n",
        "print(thislist)"
      ],
      "metadata": {
        "colab": {
          "base_uri": "https://localhost:8080/"
        },
        "id": "7rmTqRiDiXV6",
        "outputId": "85cfd46b-f6ec-467a-b25a-324feaa75a6f"
      },
      "execution_count": null,
      "outputs": [
        {
          "output_type": "stream",
          "name": "stdout",
          "text": [
            "['apple', 'banana', 'cherry', 'mango', 'pineapple', 'papaya']\n"
          ]
        }
      ]
    },
    {
      "cell_type": "code",
      "source": [
        "# add any iterable: the extend() can append not only list but any iterable object(tuple,set,dictionary)\n",
        "thislist = [\"apple\", \"banana\", \"cherry\"]\n",
        "otherlist = (\"mango\",\"kiwi\")\n",
        "thislist.extend(otherlist)\n",
        "print(thislist)"
      ],
      "metadata": {
        "colab": {
          "base_uri": "https://localhost:8080/"
        },
        "id": "JcqWw6ACirhw",
        "outputId": "c24a26fb-c78d-4433-8943-47c5846ab4e0"
      },
      "execution_count": null,
      "outputs": [
        {
          "output_type": "stream",
          "name": "stdout",
          "text": [
            "['apple', 'banana', 'cherry', 'mango', 'kiwi']\n"
          ]
        }
      ]
    },
    {
      "cell_type": "code",
      "source": [
        "# remove(): remove specific item\n",
        "thislist = [\"apple\", \"banana\", \"cherry\"]\n",
        "thislist.remove(\"banana\")\n",
        "print(thislist)"
      ],
      "metadata": {
        "colab": {
          "base_uri": "https://localhost:8080/"
        },
        "id": "s6NXIC4NjEe4",
        "outputId": "665bfe68-f537-4caa-c782-202441754e84"
      },
      "execution_count": null,
      "outputs": [
        {
          "output_type": "stream",
          "name": "stdout",
          "text": [
            "['apple', 'cherry']\n"
          ]
        }
      ]
    },
    {
      "cell_type": "code",
      "source": [
        "# if there are more than one item with specified value, the remove() method removes the first occurance\n",
        "thislist = [\"apple\", \"banana\", \"cherry\",\"banana\"]\n",
        "thislist.remove(\"banana\")\n",
        "print(thislist)"
      ],
      "metadata": {
        "colab": {
          "base_uri": "https://localhost:8080/"
        },
        "id": "zj8GpvBRjQtZ",
        "outputId": "80af46c2-e611-4772-bd6a-d7473e5e0867"
      },
      "execution_count": null,
      "outputs": [
        {
          "output_type": "stream",
          "name": "stdout",
          "text": [
            "['apple', 'cherry', 'banana']\n"
          ]
        }
      ]
    },
    {
      "cell_type": "code",
      "source": [
        "# pop(): remove by specific index\n",
        "# if no index specified, the last item is getting removed by pop()\n",
        "thislist = [\"apple\", \"banana\", \"cherry\"]\n",
        "thislist.pop(1)\n",
        "print(thislist)"
      ],
      "metadata": {
        "colab": {
          "base_uri": "https://localhost:8080/"
        },
        "id": "FzaM9DFXjtft",
        "outputId": "b332efdd-dd88-4bec-f4f9-eb4c356e3a5d"
      },
      "execution_count": null,
      "outputs": [
        {
          "output_type": "stream",
          "name": "stdout",
          "text": [
            "['apple', 'cherry']\n"
          ]
        }
      ]
    },
    {
      "cell_type": "code",
      "source": [
        "# del(): delets the list compeletely\n",
        "thislist = [\"apple\", \"banana\", \"cherry\"]\n",
        "del(thislist)\n",
        "print(thislist)"
      ],
      "metadata": {
        "colab": {
          "base_uri": "https://localhost:8080/",
          "height": 216
        },
        "id": "ZZs3Ny9gj2ei",
        "outputId": "fef43896-1725-43e3-c419-0b9dd7791113"
      },
      "execution_count": null,
      "outputs": [
        {
          "output_type": "error",
          "ename": "NameError",
          "evalue": "name 'thislist' is not defined",
          "traceback": [
            "\u001b[0;31m---------------------------------------------------------------------------\u001b[0m",
            "\u001b[0;31mNameError\u001b[0m                                 Traceback (most recent call last)",
            "\u001b[0;32m<ipython-input-9-962b0a5d1ee6>\u001b[0m in \u001b[0;36m<cell line: 4>\u001b[0;34m()\u001b[0m\n\u001b[1;32m      2\u001b[0m \u001b[0mthislist\u001b[0m \u001b[0;34m=\u001b[0m \u001b[0;34m[\u001b[0m\u001b[0;34m\"apple\"\u001b[0m\u001b[0;34m,\u001b[0m \u001b[0;34m\"banana\"\u001b[0m\u001b[0;34m,\u001b[0m \u001b[0;34m\"cherry\"\u001b[0m\u001b[0;34m]\u001b[0m\u001b[0;34m\u001b[0m\u001b[0;34m\u001b[0m\u001b[0m\n\u001b[1;32m      3\u001b[0m \u001b[0;32mdel\u001b[0m\u001b[0;34m(\u001b[0m\u001b[0mthislist\u001b[0m\u001b[0;34m)\u001b[0m\u001b[0;34m\u001b[0m\u001b[0;34m\u001b[0m\u001b[0m\n\u001b[0;32m----> 4\u001b[0;31m \u001b[0mprint\u001b[0m\u001b[0;34m(\u001b[0m\u001b[0mthislist\u001b[0m\u001b[0;34m)\u001b[0m\u001b[0;34m\u001b[0m\u001b[0;34m\u001b[0m\u001b[0m\n\u001b[0m",
            "\u001b[0;31mNameError\u001b[0m: name 'thislist' is not defined"
          ]
        }
      ]
    },
    {
      "cell_type": "code",
      "source": [
        "thislist = [\"apple\", \"banana\", \"cherry\"]\n",
        "del(thislist[0])\n",
        "print(thislist)"
      ],
      "metadata": {
        "colab": {
          "base_uri": "https://localhost:8080/"
        },
        "id": "JStKlSOOkPYH",
        "outputId": "659e7a71-689e-4ab6-f3d6-b7576aa6d525"
      },
      "execution_count": null,
      "outputs": [
        {
          "output_type": "stream",
          "name": "stdout",
          "text": [
            "['banana', 'cherry']\n"
          ]
        }
      ]
    },
    {
      "cell_type": "code",
      "source": [
        "# clear(): empties the list\n",
        "thislist = [\"apple\", \"banana\", \"cherry\"]\n",
        "thislist.clear()\n",
        "print(thislist)"
      ],
      "metadata": {
        "colab": {
          "base_uri": "https://localhost:8080/"
        },
        "id": "NUbnnkbxkZs2",
        "outputId": "3f67ad74-37a6-48ab-a939-d676123bb3e9"
      },
      "execution_count": null,
      "outputs": [
        {
          "output_type": "stream",
          "name": "stdout",
          "text": [
            "[]\n"
          ]
        }
      ]
    },
    {
      "cell_type": "code",
      "source": [
        "# loop through a list\n",
        "thislist = [\"apple\", \"banana\", \"cherry\"]\n",
        "for item in thislist:\n",
        "  print(item)"
      ],
      "metadata": {
        "colab": {
          "base_uri": "https://localhost:8080/"
        },
        "id": "fQelAfPvkgga",
        "outputId": "f3cb939c-0c0a-47f5-cd3b-1d5b44d91020"
      },
      "execution_count": null,
      "outputs": [
        {
          "output_type": "stream",
          "name": "stdout",
          "text": [
            "apple\n",
            "banana\n",
            "cherry\n"
          ]
        }
      ]
    },
    {
      "cell_type": "code",
      "source": [
        "# loop through the list items by referring to their index number using range() or len() functions\n",
        "thislist = [\"apple\", \"banana\", \"cherry\"]\n",
        "for num in range(len(thislist)):\n",
        "  print(thislist[num])"
      ],
      "metadata": {
        "colab": {
          "base_uri": "https://localhost:8080/"
        },
        "id": "E6f8dxpSkqLN",
        "outputId": "ed32a92b-a149-48e2-fca4-ed614ca0be02"
      },
      "execution_count": null,
      "outputs": [
        {
          "output_type": "stream",
          "name": "stdout",
          "text": [
            "apple\n",
            "banana\n",
            "cherry\n"
          ]
        }
      ]
    },
    {
      "cell_type": "code",
      "source": [
        "thislist = [\"apple\", \"banana\", \"cherry\"]\n",
        "i = 0\n",
        "while i < len(thislist):\n",
        "  print(thislist[i])\n",
        "  i += 1"
      ],
      "metadata": {
        "colab": {
          "base_uri": "https://localhost:8080/"
        },
        "id": "wVq59hKUk6Vy",
        "outputId": "25c01bbe-c4f8-4f23-ff66-464ee59c4521"
      },
      "execution_count": null,
      "outputs": [
        {
          "output_type": "stream",
          "name": "stdout",
          "text": [
            "apple\n",
            "banana\n",
            "cherry\n"
          ]
        }
      ]
    },
    {
      "cell_type": "code",
      "source": [
        "# list comprehension\n",
        "thislist = [\"apple\", \"banana\", \"cherry\"]\n",
        "[print(x) for x in thislist]"
      ],
      "metadata": {
        "colab": {
          "base_uri": "https://localhost:8080/"
        },
        "id": "NvjfoSkt-cxu",
        "outputId": "3d783be9-53fd-4dd4-dbaa-d8c1c86cd27b"
      },
      "execution_count": null,
      "outputs": [
        {
          "output_type": "stream",
          "name": "stdout",
          "text": [
            "apple\n",
            "banana\n",
            "cherry\n"
          ]
        },
        {
          "output_type": "execute_result",
          "data": {
            "text/plain": [
              "[None, None, None]"
            ]
          },
          "metadata": {},
          "execution_count": 27
        }
      ]
    },
    {
      "cell_type": "code",
      "source": [
        "thislist = [\"apple\", \"banana\", \"cherry\"]\n",
        "[print(thislist[num]) for num in range(len(thislist))]\n"
      ],
      "metadata": {
        "colab": {
          "base_uri": "https://localhost:8080/"
        },
        "id": "o6EGMcHh-thy",
        "outputId": "5507e152-4d4f-4406-c3e1-fb4c976d12b0"
      },
      "execution_count": null,
      "outputs": [
        {
          "output_type": "stream",
          "name": "stdout",
          "text": [
            "apple\n",
            "banana\n",
            "cherry\n"
          ]
        },
        {
          "output_type": "execute_result",
          "data": {
            "text/plain": [
              "[None, None, None]"
            ]
          },
          "metadata": {},
          "execution_count": 35
        }
      ]
    },
    {
      "cell_type": "code",
      "source": [
        "# Based on a list of fruits, you want a new list, containing only the fruits with the letter \"a\" in the name\n",
        "fruits = [\"apple\", \"banana\", \"cherry\", \"kiwi\", \"mango\"]\n",
        "newlist = []\n",
        "for x in thislist:\n",
        "  if \"a\" in x:\n",
        "    newlist.append(x)\n",
        "print(newlist)"
      ],
      "metadata": {
        "colab": {
          "base_uri": "https://localhost:8080/"
        },
        "id": "UzXSMXfM_pMN",
        "outputId": "535cf98c-d2d1-4f0c-82df-05dad1413d2c"
      },
      "execution_count": null,
      "outputs": [
        {
          "output_type": "stream",
          "name": "stdout",
          "text": [
            "['apple', 'banana']\n"
          ]
        }
      ]
    },
    {
      "cell_type": "code",
      "source": [
        "# list comprehension\n",
        "fruits = [\"apple\", \"banana\", \"cherry\", \"kiwi\", \"mango\"]\n",
        "newlist = [x for x in thislist if \"a\" in x]\n",
        "print(newlist)"
      ],
      "metadata": {
        "colab": {
          "base_uri": "https://localhost:8080/"
        },
        "id": "jpYRJSTZAF5C",
        "outputId": "3c12d865-5ca1-4dec-bc29-bd0647e1f085"
      },
      "execution_count": null,
      "outputs": [
        {
          "output_type": "stream",
          "name": "stdout",
          "text": [
            "['apple', 'banana']\n"
          ]
        }
      ]
    },
    {
      "cell_type": "code",
      "source": [
        "newlist = [x for x in range(10)]\n",
        "print(newlist)"
      ],
      "metadata": {
        "colab": {
          "base_uri": "https://localhost:8080/"
        },
        "id": "4Tyy8n84AQln",
        "outputId": "62c09d57-95b9-4d72-a568-56d87ec493f7"
      },
      "execution_count": null,
      "outputs": [
        {
          "output_type": "stream",
          "name": "stdout",
          "text": [
            "[0, 1, 2, 3, 4, 5, 6, 7, 8, 9]\n"
          ]
        }
      ]
    },
    {
      "cell_type": "code",
      "source": [
        "newlist = [x for x in range(10) if x <= 5]\n",
        "print(newlist)"
      ],
      "metadata": {
        "colab": {
          "base_uri": "https://localhost:8080/"
        },
        "id": "59UWSUmGAyoV",
        "outputId": "30a88bf1-0148-4743-a8d3-acc64c6bf632"
      },
      "execution_count": null,
      "outputs": [
        {
          "output_type": "stream",
          "name": "stdout",
          "text": [
            "[0, 1, 2, 3, 4, 5]\n"
          ]
        }
      ]
    },
    {
      "cell_type": "code",
      "source": [
        "fruits = [\"apple\", \"banana\", \"cherry\", \"kiwi\", \"mango\"]\n",
        "newlist = [x.upper() for x in fruits]\n",
        "print(newlist)"
      ],
      "metadata": {
        "colab": {
          "base_uri": "https://localhost:8080/"
        },
        "id": "EEAWyRjvA65P",
        "outputId": "4fb19ab6-e65c-4e55-9966-44b528992d0f"
      },
      "execution_count": null,
      "outputs": [
        {
          "output_type": "stream",
          "name": "stdout",
          "text": [
            "['APPLE', 'BANANA', 'CHERRY', 'KIWI', 'MANGO']\n"
          ]
        }
      ]
    },
    {
      "cell_type": "code",
      "source": [
        "fruits = [\"apple\", \"banana\", \"cherry\", \"kiwi\", \"mango\"]\n",
        "newlist = [\"hello\" for x in fruits]\n",
        "print(newlist)"
      ],
      "metadata": {
        "colab": {
          "base_uri": "https://localhost:8080/"
        },
        "id": "Vy57mkXrBCgW",
        "outputId": "3d8002f5-ba3e-4791-bd9b-3cf12606936c"
      },
      "execution_count": null,
      "outputs": [
        {
          "output_type": "stream",
          "name": "stdout",
          "text": [
            "['hello', 'hello', 'hello', 'hello', 'hello']\n"
          ]
        }
      ]
    },
    {
      "cell_type": "code",
      "source": [
        "# Return \"orange\" instead of \"banana\"\n",
        "fruits = [\"apple\", \"banana\", \"cherry\", \"kiwi\", \"mango\"]\n",
        "newlist = [x if x != \"apple\" else \"orange\" for x in fruits]\n",
        "print(newlist)"
      ],
      "metadata": {
        "colab": {
          "base_uri": "https://localhost:8080/"
        },
        "id": "IXqEbarxBSfM",
        "outputId": "5444dfa7-c209-4187-9be7-419e170a8669"
      },
      "execution_count": null,
      "outputs": [
        {
          "output_type": "stream",
          "name": "stdout",
          "text": [
            "['orange', 'banana', 'cherry', 'kiwi', 'mango']\n"
          ]
        }
      ]
    },
    {
      "cell_type": "code",
      "source": [
        "# Sorting Lists\n",
        "#sort(): will sort the list alphanumerically, ascending by default\n",
        "thislist = [\"orange\", \"mango\", \"kiwi\", \"pineapple\", \"banana\"]\n",
        "thislist.sort()\n",
        "print(thislist)"
      ],
      "metadata": {
        "colab": {
          "base_uri": "https://localhost:8080/"
        },
        "id": "5nbijWojBgzy",
        "outputId": "4a552290-5d71-4e48-d78e-02c414ea6c3a"
      },
      "execution_count": null,
      "outputs": [
        {
          "output_type": "stream",
          "name": "stdout",
          "text": [
            "['banana', 'kiwi', 'mango', 'orange', 'pineapple']\n"
          ]
        }
      ]
    },
    {
      "cell_type": "code",
      "source": [
        "thislist = [100, 50, 65, 82, 23]\n",
        "thislist.sort()\n",
        "print(thislist)"
      ],
      "metadata": {
        "colab": {
          "base_uri": "https://localhost:8080/"
        },
        "id": "hipSysrfCIX_",
        "outputId": "80ea0ca5-01cf-40f4-bf90-cb8c183c4027"
      },
      "execution_count": null,
      "outputs": [
        {
          "output_type": "stream",
          "name": "stdout",
          "text": [
            "[23, 50, 65, 82, 100]\n"
          ]
        }
      ]
    },
    {
      "cell_type": "code",
      "source": [
        "# Sort descending\n",
        "thislist = [100, 50, 65, 82, 23]\n",
        "thislist.sort(reverse = True)\n",
        "print(thislist)"
      ],
      "metadata": {
        "colab": {
          "base_uri": "https://localhost:8080/"
        },
        "id": "JT5sUiP-CSDI",
        "outputId": "a760ced6-c39c-4783-9b21-669eee640b85"
      },
      "execution_count": null,
      "outputs": [
        {
          "output_type": "stream",
          "name": "stdout",
          "text": [
            "[100, 82, 65, 50, 23]\n"
          ]
        }
      ]
    },
    {
      "cell_type": "code",
      "source": [
        "thislist = [100, 50, 65, 82, 23]\n",
        "thislist.sort(reverse = False)\n",
        "print(thislist)"
      ],
      "metadata": {
        "colab": {
          "base_uri": "https://localhost:8080/"
        },
        "id": "CfrPWR5UCcZb",
        "outputId": "1720963a-4719-4846-f28e-76d4c3cb7be2"
      },
      "execution_count": null,
      "outputs": [
        {
          "output_type": "stream",
          "name": "stdout",
          "text": [
            "[23, 50, 65, 82, 100]\n"
          ]
        }
      ]
    },
    {
      "cell_type": "code",
      "source": [
        "# Customizing sort function by using a keyword argument key = function\n",
        "def myfunc(n):\n",
        "  return abs(n - 50)\n",
        "thislist = [100, 50, 65, 82, 23]\n",
        "thislist.sort(key = myfunc)\n",
        "print(thislist)"
      ],
      "metadata": {
        "colab": {
          "base_uri": "https://localhost:8080/"
        },
        "id": "5p9CdTiVCnHZ",
        "outputId": "1c7ac4e7-2d51-4796-cc04-4526329e0a89"
      },
      "execution_count": null,
      "outputs": [
        {
          "output_type": "stream",
          "name": "stdout",
          "text": [
            "[50, 65, 23, 82, 100]\n"
          ]
        }
      ]
    },
    {
      "cell_type": "code",
      "source": [
        "# Case sensitive: sort() is case sensitive, resulting in all capital letters being sorted before lower case letters\n",
        "thislist = [\"banana\", \"Orange\", \"Kiwi\", \"cherry\"]\n",
        "thislist.sort()\n",
        "print(thislist)"
      ],
      "metadata": {
        "colab": {
          "base_uri": "https://localhost:8080/"
        },
        "id": "r6Eb85Z5C_JE",
        "outputId": "dc94a3ad-9aa0-4d7f-aff9-7cd1367eb857"
      },
      "execution_count": null,
      "outputs": [
        {
          "output_type": "stream",
          "name": "stdout",
          "text": [
            "['Kiwi', 'Orange', 'banana', 'cherry']\n"
          ]
        }
      ]
    },
    {
      "cell_type": "code",
      "source": [
        "# Case insensitive sort: using str.lower as key function\n",
        "thislist = [\"banana\", \"Orange\", \"Kiwi\", \"cherry\"]\n",
        "thislist.sort(key = str.lower)\n",
        "print(thislist)"
      ],
      "metadata": {
        "colab": {
          "base_uri": "https://localhost:8080/"
        },
        "id": "j1_GrVMODYB3",
        "outputId": "2b6ba58a-2af2-459f-d28d-5676b8d73714"
      },
      "execution_count": null,
      "outputs": [
        {
          "output_type": "stream",
          "name": "stdout",
          "text": [
            "['banana', 'cherry', 'Kiwi', 'Orange']\n"
          ]
        }
      ]
    },
    {
      "cell_type": "code",
      "source": [
        "# reverse order: the reverse() method reverses the current sorting order of the elements\n",
        "thislist = [\"banana\", \"Orange\", \"Kiwi\", \"cherry\"]\n",
        "thislist.reverse()\n",
        "print(thislist)"
      ],
      "metadata": {
        "colab": {
          "base_uri": "https://localhost:8080/"
        },
        "id": "0LWvNswhDhd7",
        "outputId": "6c83117c-690e-4465-bcc1-c940161c9769"
      },
      "execution_count": null,
      "outputs": [
        {
          "output_type": "stream",
          "name": "stdout",
          "text": [
            "['cherry', 'Kiwi', 'Orange', 'banana']\n"
          ]
        }
      ]
    },
    {
      "cell_type": "code",
      "source": [
        "# Copy list\n",
        "\"\"\"You cannot copy a list simply by typing list2 = list1, because: list2 will only be a reference to list1,\n",
        "and changes made in list1 will automatically also be made in list2.\n",
        "There are ways to make a copy, one way is to use the built-in List method copy().\"\"\"\n",
        "\n",
        "thislist = [\"apple\", \"banana\", \"cherry\"]\n",
        "thislist.copy()\n",
        "print(thislist)\n"
      ],
      "metadata": {
        "colab": {
          "base_uri": "https://localhost:8080/"
        },
        "id": "83hL_gkND3xf",
        "outputId": "1dcc8a5e-8d35-4f77-8860-5f39fe9388b6"
      },
      "execution_count": null,
      "outputs": [
        {
          "output_type": "stream",
          "name": "stdout",
          "text": [
            "['apple', 'banana', 'cherry']\n"
          ]
        }
      ]
    },
    {
      "cell_type": "code",
      "source": [
        "# Another way to make a copy is to use the built-in method list().\n",
        "thislist = [\"apple\", \"banana\", \"cherry\"]\n",
        "newlist = list(thislist)\n",
        "print(newlist)"
      ],
      "metadata": {
        "colab": {
          "base_uri": "https://localhost:8080/"
        },
        "id": "F69W9kFmCecd",
        "outputId": "51e17ff0-d107-40af-b969-e1b3657904c9"
      },
      "execution_count": null,
      "outputs": [
        {
          "output_type": "stream",
          "name": "stdout",
          "text": [
            "['apple', 'banana', 'cherry']\n"
          ]
        }
      ]
    },
    {
      "cell_type": "code",
      "source": [
        "# Join Two Lists: There are several ways to join, or concatenate, two or more lists in Python.\n",
        "# One of the easiest ways are by using the + operator.\n",
        "list1 = [\"a\",\"b\",\"c\"]\n",
        "list2 = [1,2,3]\n",
        "list3 = list1 + list2\n",
        "print(list3)"
      ],
      "metadata": {
        "colab": {
          "base_uri": "https://localhost:8080/"
        },
        "id": "PCuJrrAUCsLk",
        "outputId": "20be9504-8a47-40f8-ff40-bdacd0204df6"
      },
      "execution_count": null,
      "outputs": [
        {
          "output_type": "stream",
          "name": "stdout",
          "text": [
            "['a', 'b', 'c', 1, 2, 3]\n"
          ]
        }
      ]
    },
    {
      "cell_type": "code",
      "source": [
        "# Another way to join two lists is by appending all the items from list2 into list1, one by one\n",
        "list1 = [\"a,\"\"b\",\"c\"]\n",
        "list2 = [1,2,3]\n",
        "for x in list2:\n",
        "  list1.append(x)\n",
        "print(list2)"
      ],
      "metadata": {
        "colab": {
          "base_uri": "https://localhost:8080/"
        },
        "id": "jB_2XDNMDBbA",
        "outputId": "b7ce5a24-ebe6-4785-dd43-aa5ded103bd1"
      },
      "execution_count": null,
      "outputs": [
        {
          "output_type": "stream",
          "name": "stdout",
          "text": [
            "[1, 2, 3]\n"
          ]
        }
      ]
    },
    {
      "cell_type": "code",
      "source": [
        "#  use the extend() method, where the purpose is to add elements from one list to another list\n",
        "list1 = [\"a\",\"b\",\"c\"]\n",
        "list2 = [1,2,3]\n",
        "list1.extend(list2)\n",
        "print(list1)"
      ],
      "metadata": {
        "colab": {
          "base_uri": "https://localhost:8080/"
        },
        "id": "DQibH5DYDRgD",
        "outputId": "16a090e1-3b15-4153-8ca4-ed7560518a9c"
      },
      "execution_count": null,
      "outputs": [
        {
          "output_type": "stream",
          "name": "stdout",
          "text": [
            "['a', 'b', 'c', 1, 2, 3]\n"
          ]
        }
      ]
    },
    {
      "cell_type": "markdown",
      "source": [
        "## Tuple\n",
        "\n",
        "Tuples are used to store multiple items in a single variable.\n",
        "\n",
        "Tuple is one of 4 built-in data types in Python used to store collections of data, the other 3 are List, Set, and Dictionary, all with different qualities and usage.\n",
        "\n",
        "A tuple is a collection which is ordered and unchangeable.\n",
        "\n",
        "Tuples are written with round brackets.\n",
        "\n",
        "Tuple items are ordered, unchangeable, and allow duplicate values.\n",
        "\n",
        "Tuple items are indexed.\n",
        "\n",
        " tuples are ordered, it means that the items have a defined order, and that order will not change.\n",
        "\n",
        " Tuples are unchangeable, meaning that we cannot change, add or remove items after the tuple has been created.\n",
        "\n",
        "Since tuples are indexed, they can have items with the same value"
      ],
      "metadata": {
        "id": "HyTg1YqgDliB"
      }
    },
    {
      "cell_type": "code",
      "source": [
        "thistuple = (\"a\",\"b\",\"c\")\n",
        "print(thistuple)"
      ],
      "metadata": {
        "colab": {
          "base_uri": "https://localhost:8080/"
        },
        "id": "-nvn69JBDejz",
        "outputId": "d8fc9cec-017e-4d97-e5f8-5189f5b12acb"
      },
      "execution_count": null,
      "outputs": [
        {
          "output_type": "stream",
          "name": "stdout",
          "text": [
            "('a', 'b', 'c')\n"
          ]
        }
      ]
    },
    {
      "cell_type": "code",
      "source": [
        "thistuple = (\"a\",\"b\",\"c\",\"d\",\"a\")\n",
        "print(thistuple)"
      ],
      "metadata": {
        "colab": {
          "base_uri": "https://localhost:8080/"
        },
        "id": "wuy4K6onD0Qf",
        "outputId": "eb2c6b44-2114-4660-d819-5d9e7787ebfd"
      },
      "execution_count": null,
      "outputs": [
        {
          "output_type": "stream",
          "name": "stdout",
          "text": [
            "('a', 'b', 'c', 'd', 'a')\n"
          ]
        }
      ]
    },
    {
      "cell_type": "code",
      "source": [
        "# Tuple Length\n",
        "thistuple = (\"a\",\"b\",\"c\",\"d\",\"a\")\n",
        "print(len(thistuple))"
      ],
      "metadata": {
        "colab": {
          "base_uri": "https://localhost:8080/"
        },
        "id": "79FveKt5EO8t",
        "outputId": "438baa88-0ee7-4ed9-84af-f25f069df36f"
      },
      "execution_count": null,
      "outputs": [
        {
          "output_type": "stream",
          "name": "stdout",
          "text": [
            "5\n"
          ]
        }
      ]
    },
    {
      "cell_type": "code",
      "source": [
        "# Tuple Type\n",
        "thistuple = (\"apple\")\n",
        "print(type(thistuple))"
      ],
      "metadata": {
        "colab": {
          "base_uri": "https://localhost:8080/"
        },
        "id": "GTycQQzhEWFW",
        "outputId": "8007271d-d27c-4496-9c8b-8b882fa8ef0a"
      },
      "execution_count": null,
      "outputs": [
        {
          "output_type": "stream",
          "name": "stdout",
          "text": [
            "<class 'str'>\n"
          ]
        }
      ]
    },
    {
      "cell_type": "code",
      "source": [
        "thistuple = (\"apple\",)\n",
        "print(type(thistuple))"
      ],
      "metadata": {
        "colab": {
          "base_uri": "https://localhost:8080/"
        },
        "id": "dEVNJR8MEuvs",
        "outputId": "8be124b9-380c-4365-9ea7-3b055a078f59"
      },
      "execution_count": null,
      "outputs": [
        {
          "output_type": "stream",
          "name": "stdout",
          "text": [
            "<class 'tuple'>\n"
          ]
        }
      ]
    },
    {
      "cell_type": "code",
      "source": [
        "# A tuple can contain different data types\n",
        "thistuple = (\"a\",100, True, \"b\",\"male\")\n",
        "print(thistuple)"
      ],
      "metadata": {
        "colab": {
          "base_uri": "https://localhost:8080/"
        },
        "id": "nEEaIewoE0wp",
        "outputId": "96bac45b-6b3c-4836-b152-f55d7947fd23"
      },
      "execution_count": null,
      "outputs": [
        {
          "output_type": "stream",
          "name": "stdout",
          "text": [
            "('a', 100, True, 'b', 'male')\n"
          ]
        }
      ]
    },
    {
      "cell_type": "code",
      "source": [
        "# Tuple constructor: tuple() can be used to make a tuple\n",
        "# Very important the double round brackets, otherwise it will generate an error\n",
        "thistuple = tuple((\"a\",\"b\",\"c\"))\n",
        "print(type(thistuple))"
      ],
      "metadata": {
        "colab": {
          "base_uri": "https://localhost:8080/"
        },
        "id": "NfjS0hpeFAJw",
        "outputId": "0b4ca5b9-c9f7-4bb1-8938-83fd05d97b77"
      },
      "execution_count": null,
      "outputs": [
        {
          "output_type": "stream",
          "name": "stdout",
          "text": [
            "<class 'tuple'>\n"
          ]
        }
      ]
    },
    {
      "cell_type": "code",
      "source": [
        "# access tuple items\n",
        "thistuple = (\"a\",\"b\",\"c\",\"d\")\n",
        "print(thistuple[0])"
      ],
      "metadata": {
        "colab": {
          "base_uri": "https://localhost:8080/"
        },
        "id": "t1GTfTE_FT6C",
        "outputId": "fe0dd85d-d7eb-48d3-bdee-a8ccac44ef4f"
      },
      "execution_count": null,
      "outputs": [
        {
          "output_type": "stream",
          "name": "stdout",
          "text": [
            "a\n"
          ]
        }
      ]
    },
    {
      "cell_type": "code",
      "source": [
        "# Negative indexing\n",
        "thistuple = (\"a\",\"b\",\"c\",\"d\")\n",
        "print(thistuple[-1])"
      ],
      "metadata": {
        "colab": {
          "base_uri": "https://localhost:8080/"
        },
        "id": "ANJFx5XQF0R6",
        "outputId": "935c32cb-9155-416b-f045-8f603d0c6157"
      },
      "execution_count": null,
      "outputs": [
        {
          "output_type": "stream",
          "name": "stdout",
          "text": [
            "d\n"
          ]
        }
      ]
    },
    {
      "cell_type": "code",
      "source": [
        "# Range of indexes\n",
        "thistuple = (\"a\",\"b\",\"c\",\"d\")\n",
        "print(thistuple[0:2])"
      ],
      "metadata": {
        "colab": {
          "base_uri": "https://localhost:8080/"
        },
        "id": "dLRZFakIF-Si",
        "outputId": "b74c9c75-24d6-4ea3-ab4c-72d899e4b03c"
      },
      "execution_count": null,
      "outputs": [
        {
          "output_type": "stream",
          "name": "stdout",
          "text": [
            "('a', 'b')\n"
          ]
        }
      ]
    },
    {
      "cell_type": "code",
      "source": [
        "thistuple = (\"a\",\"b\",\"c\",\"d\")\n",
        "print(thistuple[:3])"
      ],
      "metadata": {
        "colab": {
          "base_uri": "https://localhost:8080/"
        },
        "id": "URwz5oxuGFUK",
        "outputId": "7c1e790c-d818-418d-c5d1-a22119e6319a"
      },
      "execution_count": null,
      "outputs": [
        {
          "output_type": "stream",
          "name": "stdout",
          "text": [
            "('a', 'b', 'c')\n"
          ]
        }
      ]
    },
    {
      "cell_type": "code",
      "source": [
        "thistuple = (\"a\",\"b\",\"c\",\"d\")\n",
        "print(thistuple[2:])"
      ],
      "metadata": {
        "colab": {
          "base_uri": "https://localhost:8080/"
        },
        "id": "Wc3n_ijAGLAy",
        "outputId": "1bc16bb8-e64e-46d7-c336-bcee1586ef4c"
      },
      "execution_count": null,
      "outputs": [
        {
          "output_type": "stream",
          "name": "stdout",
          "text": [
            "('c', 'd')\n"
          ]
        }
      ]
    },
    {
      "cell_type": "code",
      "source": [
        "# Range of negative indexes\n",
        "thistuple = (\"a\",\"b\",\"c\",\"d\")\n",
        "print(thistuple[-3:-1])"
      ],
      "metadata": {
        "colab": {
          "base_uri": "https://localhost:8080/"
        },
        "id": "lsdyC64JGPDY",
        "outputId": "b90c8f0d-8d18-4b65-82d6-136247560de0"
      },
      "execution_count": null,
      "outputs": [
        {
          "output_type": "stream",
          "name": "stdout",
          "text": [
            "('b', 'c')\n"
          ]
        }
      ]
    },
    {
      "cell_type": "code",
      "source": [
        "# check if the item exists in a tuple\n",
        "thistuple = (\"a\",\"b\",\"c\",\"d\")\n",
        "if \"c\" in thistuple:\n",
        "  print(\"C exists in this tuple\")"
      ],
      "metadata": {
        "colab": {
          "base_uri": "https://localhost:8080/"
        },
        "id": "K8rcv2ePGU8K",
        "outputId": "07e98e2a-67e1-40b9-ff82-26b965fd5459"
      },
      "execution_count": null,
      "outputs": [
        {
          "output_type": "stream",
          "name": "stdout",
          "text": [
            "C exists in this tuple\n"
          ]
        }
      ]
    },
    {
      "cell_type": "code",
      "source": [
        "\"\"\" CHanging value in a Tuple\n",
        "Once a tuple is created, you cannot change its values. Tuples are unchangeable, or immutable as it also is called.\n",
        "\n",
        "But there is a workaround. You can convert the tuple into a list, change the list, and convert the list back into a tuple\n",
        "\"\"\"\n",
        "\n",
        "x = (\"apple\",\"banana\",\"mago\")\n",
        "newlist = list(x)\n",
        "newlist[1] = \"kiwi\"\n",
        "print(newlist)\n",
        "x = tuple(newlist)\n"
      ],
      "metadata": {
        "colab": {
          "base_uri": "https://localhost:8080/"
        },
        "id": "dBDudM6pGwpj",
        "outputId": "761757a9-6b39-4ceb-c338-ff0c7693d20c"
      },
      "execution_count": null,
      "outputs": [
        {
          "output_type": "stream",
          "name": "stdout",
          "text": [
            "['apple', 'kiwi', 'mago']\n"
          ]
        }
      ]
    },
    {
      "cell_type": "code",
      "source": [
        "# Adding Items to a tuple\n",
        "x = (\"apple\",\"banana\",\"mago\")\n",
        "newlist = list(x)\n",
        "newlist.append(\"orange\")\n",
        "thistuple = tuple(newlist)\n",
        "print(thistuple)"
      ],
      "metadata": {
        "colab": {
          "base_uri": "https://localhost:8080/"
        },
        "id": "JxK2nQ62HhB-",
        "outputId": "bc91e1fd-58e1-4b72-9e9d-b1640d639454"
      },
      "execution_count": null,
      "outputs": [
        {
          "output_type": "stream",
          "name": "stdout",
          "text": [
            "('apple', 'banana', 'mago', 'orange')\n"
          ]
        }
      ]
    },
    {
      "cell_type": "code",
      "source": [
        "# Adding one tuple to another tuple\n",
        "x = (\"a\",\"b\",\"c\")\n",
        "y = (1,2,3)\n",
        "d = x + y\n",
        "print(d)"
      ],
      "metadata": {
        "colab": {
          "base_uri": "https://localhost:8080/"
        },
        "id": "wOlS7cSkH2vC",
        "outputId": "757b4c51-7f1b-40a0-af23-e27195478aee"
      },
      "execution_count": null,
      "outputs": [
        {
          "output_type": "stream",
          "name": "stdout",
          "text": [
            "('a', 'b', 'c', 1, 2, 3)\n"
          ]
        }
      ]
    },
    {
      "cell_type": "code",
      "source": [
        "# removing items from tuple\n",
        "x = (1,2,3)\n",
        "newlist = list(x)\n",
        "newlist.remove(2)\n",
        "thistuple = tuple(newlist)\n",
        "print(thistuple)"
      ],
      "metadata": {
        "colab": {
          "base_uri": "https://localhost:8080/"
        },
        "id": "WDYnBOkCIGHz",
        "outputId": "1d651a9e-0a0f-43c1-94ca-2af21fccb6c3"
      },
      "execution_count": null,
      "outputs": [
        {
          "output_type": "stream",
          "name": "stdout",
          "text": [
            "(1, 3)\n"
          ]
        }
      ]
    },
    {
      "cell_type": "code",
      "source": [
        "# deleting a tuple using del()\n",
        "thistuple = (1,2,3)\n",
        "del thistuple\n",
        "print(thistuple)"
      ],
      "metadata": {
        "colab": {
          "base_uri": "https://localhost:8080/",
          "height": 216
        },
        "id": "EK-Pr_PyIUBq",
        "outputId": "c3d9753b-f260-4a58-f3a2-39396b0cfd44"
      },
      "execution_count": null,
      "outputs": [
        {
          "output_type": "error",
          "ename": "NameError",
          "evalue": "name 'thistuple' is not defined",
          "traceback": [
            "\u001b[0;31m---------------------------------------------------------------------------\u001b[0m",
            "\u001b[0;31mNameError\u001b[0m                                 Traceback (most recent call last)",
            "\u001b[0;32m<ipython-input-87-7a26d115c6dd>\u001b[0m in \u001b[0;36m<cell line: 4>\u001b[0;34m()\u001b[0m\n\u001b[1;32m      2\u001b[0m \u001b[0mthistuple\u001b[0m \u001b[0;34m=\u001b[0m \u001b[0;34m(\u001b[0m\u001b[0;36m1\u001b[0m\u001b[0;34m,\u001b[0m\u001b[0;36m2\u001b[0m\u001b[0;34m,\u001b[0m\u001b[0;36m3\u001b[0m\u001b[0;34m)\u001b[0m\u001b[0;34m\u001b[0m\u001b[0;34m\u001b[0m\u001b[0m\n\u001b[1;32m      3\u001b[0m \u001b[0;32mdel\u001b[0m \u001b[0mthistuple\u001b[0m\u001b[0;34m\u001b[0m\u001b[0;34m\u001b[0m\u001b[0m\n\u001b[0;32m----> 4\u001b[0;31m \u001b[0mprint\u001b[0m\u001b[0;34m(\u001b[0m\u001b[0mthistuple\u001b[0m\u001b[0;34m)\u001b[0m\u001b[0;34m\u001b[0m\u001b[0;34m\u001b[0m\u001b[0m\n\u001b[0m",
            "\u001b[0;31mNameError\u001b[0m: name 'thistuple' is not defined"
          ]
        }
      ]
    },
    {
      "cell_type": "code",
      "source": [
        "# Unpacking Tuple\n",
        "# when we create a tuple, we assign values to it, it is called packing\n",
        "thistuple = (1,2,3,4,5)\n"
      ],
      "metadata": {
        "id": "n4jw3jZFIgq3"
      },
      "execution_count": null,
      "outputs": []
    },
    {
      "cell_type": "code",
      "source": [
        "# but in python, one can extract values back into variables, this called unpacking\n",
        "thistuple = (\"apple\",\"kiwi\",\"banana\")\n",
        "(red,green,yellow) = thistuple\n",
        "print(green)\n",
        "print(red)\n",
        "print(yellow)"
      ],
      "metadata": {
        "colab": {
          "base_uri": "https://localhost:8080/"
        },
        "id": "sM8koZ9ErpGD",
        "outputId": "23f037e6-b906-412c-e89d-335bff47a32e"
      },
      "execution_count": null,
      "outputs": [
        {
          "output_type": "stream",
          "name": "stdout",
          "text": [
            "kiwi\n",
            "apple\n",
            "banana\n"
          ]
        }
      ]
    },
    {
      "cell_type": "code",
      "source": [
        "# Using Astrick: If the number of variables is less than the number of values, you can add an * to the variable name and the values will be assigned to the variable as a list\n",
        "fruits = (\"banana\",\"kiwi\",\"apple\",\"orange\",\"strawberry\")\n",
        "(green,red,*black) = fruits\n",
        "print(green)\n",
        "print(red)\n",
        "print(*black)"
      ],
      "metadata": {
        "colab": {
          "base_uri": "https://localhost:8080/"
        },
        "id": "uG-COEXhr2mR",
        "outputId": "308403ff-1e45-45dc-e028-554c9ddd94b4"
      },
      "execution_count": null,
      "outputs": [
        {
          "output_type": "stream",
          "name": "stdout",
          "text": [
            "banana\n",
            "kiwi\n",
            "apple orange strawberry\n"
          ]
        }
      ]
    },
    {
      "cell_type": "code",
      "source": [
        "\"\"\"If the asterisk is added to another variable name than the last, Python will assign values to the variable until the number of\n",
        "values left matches the number of variables left\"\"\"\n",
        "fruits = (\"banana\",\"kiwi\",\"apple\",\"orange\",\"strawberry\")\n",
        "(red,*green,black) = fruits\n",
        "print(red)\n",
        "print(*green)\n",
        "print(black)"
      ],
      "metadata": {
        "colab": {
          "base_uri": "https://localhost:8080/"
        },
        "id": "v4eAGm5350YC",
        "outputId": "8a283a98-aa87-4923-f911-d5819eb3ccfa"
      },
      "execution_count": null,
      "outputs": [
        {
          "output_type": "stream",
          "name": "stdout",
          "text": [
            "banana\n",
            "kiwi apple orange\n",
            "strawberry\n"
          ]
        }
      ]
    },
    {
      "cell_type": "code",
      "source": [
        "# For loop\n",
        "thistuple = (\"apple\", \"banana\", \"cherry\")\n",
        "for i in thistuple:\n",
        "  print(i)"
      ],
      "metadata": {
        "colab": {
          "base_uri": "https://localhost:8080/"
        },
        "id": "gcnIA33B6BNi",
        "outputId": "a470ae8a-58d7-4e65-cd4d-9c51d3b452bb"
      },
      "execution_count": null,
      "outputs": [
        {
          "output_type": "stream",
          "name": "stdout",
          "text": [
            "apple\n",
            "banana\n",
            "cherry\n"
          ]
        }
      ]
    },
    {
      "cell_type": "code",
      "source": [
        "thistuple = (\"apple\", \"banana\", \"cherry\")\n",
        "for i in range(len(thistuple)):\n",
        "  print(thistuple[i])"
      ],
      "metadata": {
        "colab": {
          "base_uri": "https://localhost:8080/"
        },
        "id": "UnAZ5qFc6RdV",
        "outputId": "097b77de-1762-4986-ecfe-1a5d25688ef0"
      },
      "execution_count": null,
      "outputs": [
        {
          "output_type": "stream",
          "name": "stdout",
          "text": [
            "apple\n",
            "banana\n",
            "cherry\n"
          ]
        }
      ]
    },
    {
      "cell_type": "code",
      "source": [
        "# Using while loop\n",
        "i = 0\n",
        "while i < len(thistuple):\n",
        "    print(thistuple[i])\n",
        "    i += 1"
      ],
      "metadata": {
        "colab": {
          "base_uri": "https://localhost:8080/"
        },
        "id": "UKkjMCKa6aWf",
        "outputId": "59528bbd-bd76-4bc6-e4e6-7e918a5364ab"
      },
      "execution_count": null,
      "outputs": [
        {
          "output_type": "stream",
          "name": "stdout",
          "text": [
            "apple\n",
            "banana\n",
            "cherry\n"
          ]
        }
      ]
    },
    {
      "cell_type": "code",
      "source": [
        "# Join two tuples\n",
        "tuple1 = (\"a\",\"b\",\"c\",\"d\")\n",
        "tuple2 = (1,2,3,4,)\n",
        "tuple3 = tuple1 + tuple2\n",
        "print(tuple3)"
      ],
      "metadata": {
        "colab": {
          "base_uri": "https://localhost:8080/"
        },
        "id": "vnAR5FqO6t_9",
        "outputId": "12845332-46b4-4ead-cb89-fbe6097633bd"
      },
      "execution_count": null,
      "outputs": [
        {
          "output_type": "stream",
          "name": "stdout",
          "text": [
            "('a', 'b', 'c', 'd', 1, 2, 3, 4)\n"
          ]
        }
      ]
    },
    {
      "cell_type": "code",
      "source": [
        "# Multiply tuple: If you want to multiply the content of a tuple a given number of times, you can use the * operator\n",
        "thistuple = (\"apple\",\"kiwi\",\"mango\")\n",
        "mytuple = thistuple * 2\n",
        "print(mytuple)\n"
      ],
      "metadata": {
        "colab": {
          "base_uri": "https://localhost:8080/"
        },
        "id": "-WI5Ab0l7CIw",
        "outputId": "bd85317a-4393-49a5-a28d-c111dc79b756"
      },
      "execution_count": null,
      "outputs": [
        {
          "output_type": "stream",
          "name": "stdout",
          "text": [
            "('apple', 'kiwi', 'mango', 'apple', 'kiwi', 'mango')\n"
          ]
        }
      ]
    },
    {
      "cell_type": "code",
      "source": [
        "# count(): Return the number of times a specific element occurs in a tuple\n",
        "thistuple = (\"apple\",\"kiwi\",\"mango\")\n",
        "print(thistuple.count(\"apple\"))"
      ],
      "metadata": {
        "colab": {
          "base_uri": "https://localhost:8080/"
        },
        "id": "iKUupmIp7XV-",
        "outputId": "4c620b77-d253-4463-ee62-bc96b9c2b650"
      },
      "execution_count": null,
      "outputs": [
        {
          "output_type": "stream",
          "name": "stdout",
          "text": [
            "1\n"
          ]
        }
      ]
    },
    {
      "cell_type": "markdown",
      "source": [
        "## SETS\n",
        "\n",
        "A set is a collection which is unordered, unchangeable*, and unindexed.\n",
        "\n",
        "Sets are written with curly brackets.\n",
        "\n",
        "Set items are unordered, unchangeable, and do not allow duplicate values.\n",
        "\n"
      ],
      "metadata": {
        "id": "sXDKza_J7r5k"
      }
    },
    {
      "cell_type": "code",
      "source": [
        "thisset = {\"apple\",\"kiwi\",\"mango\",\"orange\"}\n",
        "print(thisset)"
      ],
      "metadata": {
        "colab": {
          "base_uri": "https://localhost:8080/"
        },
        "id": "4d_j46LP7n_g",
        "outputId": "651048ca-9c1a-464b-8685-292fad13d250"
      },
      "execution_count": null,
      "outputs": [
        {
          "output_type": "stream",
          "name": "stdout",
          "text": [
            "{'apple', 'kiwi', 'mango', 'orange'}\n"
          ]
        }
      ]
    },
    {
      "cell_type": "code",
      "source": [
        "# no duplicate is allowed: Duplicate values will be ignored\n",
        "thisset = {\"apple\",\"kiwi\",\"mango\",\"strawberry\",\"apple\"}\n",
        "print(thisset)"
      ],
      "metadata": {
        "colab": {
          "base_uri": "https://localhost:8080/"
        },
        "id": "zOiq2zrR8HBJ",
        "outputId": "d7ec9d92-424c-4336-eb42-e734a3b811d8"
      },
      "execution_count": null,
      "outputs": [
        {
          "output_type": "stream",
          "name": "stdout",
          "text": [
            "{'strawberry', 'apple', 'kiwi', 'mango'}\n"
          ]
        }
      ]
    },
    {
      "cell_type": "code",
      "source": [
        "# True and 1 are considered the same value\n",
        "thisset = {\"apple\",\"kiwi\",\"orange\",True,1}\n",
        "print(thisset)"
      ],
      "metadata": {
        "colab": {
          "base_uri": "https://localhost:8080/"
        },
        "id": "Y0JRCVzw8Vb_",
        "outputId": "7ef5a81f-c247-4418-c383-40e413f277a5"
      },
      "execution_count": null,
      "outputs": [
        {
          "output_type": "stream",
          "name": "stdout",
          "text": [
            "{True, 'apple', 'kiwi', 'orange'}\n"
          ]
        }
      ]
    },
    {
      "cell_type": "code",
      "source": [
        "# False and 0 are considered the same value\n",
        "thiset = {\"apple\",\"kiwi\",\"orange\",0,False}\n",
        "print(thisset)"
      ],
      "metadata": {
        "colab": {
          "base_uri": "https://localhost:8080/"
        },
        "id": "hN4qaIUB8ob0",
        "outputId": "e21901bc-5d16-46b3-8144-d7d557fb0d26"
      },
      "execution_count": null,
      "outputs": [
        {
          "output_type": "stream",
          "name": "stdout",
          "text": [
            "{True, 'apple', 'kiwi', 'orange'}\n"
          ]
        }
      ]
    },
    {
      "cell_type": "code",
      "source": [
        "# Length of a set: using len()\n",
        "thisset = {\"orange\",\"kiwi\",\"apple\"}\n",
        "print(len(thisset))"
      ],
      "metadata": {
        "colab": {
          "base_uri": "https://localhost:8080/"
        },
        "id": "loFug1CB8z3E",
        "outputId": "dee0e435-4c8e-4493-f77d-f01c50755f70"
      },
      "execution_count": null,
      "outputs": [
        {
          "output_type": "stream",
          "name": "stdout",
          "text": [
            "3\n"
          ]
        }
      ]
    },
    {
      "cell_type": "code",
      "source": [
        "# Data types: type()\n",
        "thisset = {\"apple\",\"kiwi\",\"orange\"}\n",
        "print(type(thisset))"
      ],
      "metadata": {
        "colab": {
          "base_uri": "https://localhost:8080/"
        },
        "id": "3yAyiY-m9AMV",
        "outputId": "6b172252-1301-4c90-ba59-2bc3029dd4f6"
      },
      "execution_count": null,
      "outputs": [
        {
          "output_type": "stream",
          "name": "stdout",
          "text": [
            "<class 'set'>\n"
          ]
        }
      ]
    },
    {
      "cell_type": "code",
      "source": [
        "# Set data types: A set can contain different data types\n",
        "thisset = {1,2,3,4}\n",
        "thisset1 = {\"a\",\"b\",\"c\",\"d\"}\n",
        "thisset2 = {True,False,True,False}\n",
        "thisset3 = {\"a\",1,\"Male\",True}\n",
        "print(thisset)\n",
        "print(thisset1)\n",
        "print(thisset2)\n",
        "print(thisset3)"
      ],
      "metadata": {
        "colab": {
          "base_uri": "https://localhost:8080/"
        },
        "id": "E79E6MM6_8rB",
        "outputId": "53aef4b7-a0aa-48b2-f07c-30a2677c76cb"
      },
      "execution_count": null,
      "outputs": [
        {
          "output_type": "stream",
          "name": "stdout",
          "text": [
            "{1, 2, 3, 4}\n",
            "{'d', 'b', 'c', 'a'}\n",
            "{False, True}\n",
            "{'Male', 1, 'a'}\n"
          ]
        }
      ]
    },
    {
      "cell_type": "code",
      "source": [
        "# The set() Constructor: It is also possible to use the set() constructor to make a set\n",
        "# note the double round-brackets\n",
        "thisset = set((\"a\",\"b\",\"c\",\"d\"))\n",
        "print(thisset)"
      ],
      "metadata": {
        "colab": {
          "base_uri": "https://localhost:8080/"
        },
        "id": "4GDOamhTAei9",
        "outputId": "8b29c8f0-d665-4f86-d20c-c6f7df840ace"
      },
      "execution_count": null,
      "outputs": [
        {
          "output_type": "stream",
          "name": "stdout",
          "text": [
            "{'d', 'c', 'a', 'b'}\n"
          ]
        }
      ]
    },
    {
      "cell_type": "code",
      "source": [
        "# Set access item\n",
        "thisset = {1,2,3,4}\n",
        "for num in thisset:\n",
        "  print(num)"
      ],
      "metadata": {
        "colab": {
          "base_uri": "https://localhost:8080/"
        },
        "id": "BfVBMj_rArwq",
        "outputId": "5670453f-0db1-4e5a-d31c-30d0b0f625d5"
      },
      "execution_count": null,
      "outputs": [
        {
          "output_type": "stream",
          "name": "stdout",
          "text": [
            "1\n",
            "2\n",
            "3\n",
            "4\n"
          ]
        }
      ]
    },
    {
      "cell_type": "code",
      "source": [
        "thisset = {\"apple\",\"kiwi\",\"orange\"}\n",
        "if \"orange\" in thisset:\n",
        "  print(\"Orange exists in this set\")"
      ],
      "metadata": {
        "colab": {
          "base_uri": "https://localhost:8080/"
        },
        "id": "f8FpaDwsA4m6",
        "outputId": "e0010ce2-2658-423d-bdad-ff7c34131c7f"
      },
      "execution_count": null,
      "outputs": [
        {
          "output_type": "stream",
          "name": "stdout",
          "text": [
            "Orange exists in this set\n"
          ]
        }
      ]
    },
    {
      "cell_type": "markdown",
      "source": [
        "# Change items in set: Once a set is created, you cannot change its items, but you can add new items."
      ],
      "metadata": {
        "id": "XwXtzI3UBLtS"
      }
    },
    {
      "cell_type": "code",
      "source": [
        "# Add item to a set: Once a set is created, you cannot change its items, but you can add new items.\n",
        "# To add one item to a set use the add() method.\n",
        "\n",
        "thisset = {1,2,3,4}\n",
        "thisset.add(5)\n",
        "print(thisset)"
      ],
      "metadata": {
        "colab": {
          "base_uri": "https://localhost:8080/"
        },
        "id": "3BjOanZvBD0g",
        "outputId": "72184c9f-242b-48ca-b371-041cfdbad731"
      },
      "execution_count": null,
      "outputs": [
        {
          "output_type": "stream",
          "name": "stdout",
          "text": [
            "{1, 2, 3, 4, 5}\n"
          ]
        }
      ]
    },
    {
      "cell_type": "code",
      "source": [
        "# Add sets: To add items from another set into the current set, use the update() method.\n",
        "set1 = {1,2,3,4}\n",
        "set2 = {\"a\",\"b\",\"c\",\"d\"}\n",
        "set1.update(set2)\n",
        "print(set1)"
      ],
      "metadata": {
        "colab": {
          "base_uri": "https://localhost:8080/"
        },
        "id": "6S-gBhfUDfF-",
        "outputId": "a6123afe-d27c-4515-8425-d35f3a252f3f"
      },
      "execution_count": null,
      "outputs": [
        {
          "output_type": "stream",
          "name": "stdout",
          "text": [
            "{1, 2, 3, 4, 'c', 'b', 'd', 'a'}\n"
          ]
        }
      ]
    },
    {
      "cell_type": "code",
      "source": [
        "# Add any iterable: The object in the update() method does not have to be a set, it can be any iterable object (tuples, lists, dictionaries etc.)\n",
        "set1 = {1,2,3,4}\n",
        "list1 = [\"a\",\"b\",\"c\",\"d\"]\n",
        "set1.update(list1)\n",
        "print(set1)"
      ],
      "metadata": {
        "colab": {
          "base_uri": "https://localhost:8080/"
        },
        "id": "KBeAc19GDvXY",
        "outputId": "423c80ef-1ee3-4c8f-934d-e01b0e3826ba"
      },
      "execution_count": null,
      "outputs": [
        {
          "output_type": "stream",
          "name": "stdout",
          "text": [
            "{1, 2, 3, 4, 'c', 'b', 'd', 'a'}\n"
          ]
        }
      ]
    },
    {
      "cell_type": "code",
      "source": [
        "# Remove item from set: To remove an item in a set, use the remove(), or the discard() method.\n",
        "# Note: If the item to remove does not exist, remove() will raise an error.\n",
        "thisset = {1,2,3,4,5,6}\n",
        "thisset.remove(5)\n",
        "print(thisset)"
      ],
      "metadata": {
        "colab": {
          "base_uri": "https://localhost:8080/"
        },
        "id": "cZEmUmb-EDxO",
        "outputId": "aedcd0cb-43a1-4662-e6f8-d0214a341316"
      },
      "execution_count": null,
      "outputs": [
        {
          "output_type": "stream",
          "name": "stdout",
          "text": [
            "{1, 2, 3, 4, 6}\n"
          ]
        }
      ]
    },
    {
      "cell_type": "code",
      "source": [
        "# usinf discard(): Note: If the item to remove does not exist, discard() will NOT raise an error\n",
        "thisset = {\"a\",\"b\",\"c\",\"d\"}\n",
        "thisset.discard(\"c\")\n",
        "print(thisset)"
      ],
      "metadata": {
        "colab": {
          "base_uri": "https://localhost:8080/"
        },
        "id": "1fP7_SrwEOg8",
        "outputId": "18b0ed32-d4e5-419a-93d7-c0efb30a5d8d"
      },
      "execution_count": null,
      "outputs": [
        {
          "output_type": "stream",
          "name": "stdout",
          "text": [
            "{'d', 'b', 'a'}\n"
          ]
        }
      ]
    },
    {
      "cell_type": "code",
      "source": [
        "# pop(): Remove a random item by using the pop() method, Sets are unordered, so when using the pop() method, you do not know which item that gets removed.\n",
        "set1 = {1,2,3,4,5,6,7,8,9}\n",
        "set1.pop()\n",
        "print(set1)"
      ],
      "metadata": {
        "colab": {
          "base_uri": "https://localhost:8080/"
        },
        "id": "O2pgE3l5EYCH",
        "outputId": "ee708d57-de38-4d80-8e05-3c53a056363b"
      },
      "execution_count": null,
      "outputs": [
        {
          "output_type": "stream",
          "name": "stdout",
          "text": [
            "{2, 3, 4, 5, 6, 7, 8, 9}\n"
          ]
        }
      ]
    },
    {
      "cell_type": "code",
      "source": [
        "# clear():emptoes the set\n",
        "set1 = {1,2,3,4}\n",
        "set1.clear()\n",
        "print(set1)"
      ],
      "metadata": {
        "colab": {
          "base_uri": "https://localhost:8080/"
        },
        "id": "IdwsWJyIEuDr",
        "outputId": "e13a7aee-e06d-4dcd-b19a-120f0395bcaa"
      },
      "execution_count": null,
      "outputs": [
        {
          "output_type": "stream",
          "name": "stdout",
          "text": [
            "set()\n"
          ]
        }
      ]
    },
    {
      "cell_type": "code",
      "source": [
        "# del: will delete the set completely\n",
        "set1 = {1,2,3,4}\n",
        "del set1\n",
        "print(set1)"
      ],
      "metadata": {
        "colab": {
          "base_uri": "https://localhost:8080/",
          "height": 216
        },
        "id": "-nsMuzhiE3LR",
        "outputId": "282e2318-c901-4497-adea-f8f5b03e3083"
      },
      "execution_count": null,
      "outputs": [
        {
          "output_type": "error",
          "ename": "NameError",
          "evalue": "name 'set1' is not defined",
          "traceback": [
            "\u001b[0;31m---------------------------------------------------------------------------\u001b[0m",
            "\u001b[0;31mNameError\u001b[0m                                 Traceback (most recent call last)",
            "\u001b[0;32m<ipython-input-33-decf64590bc6>\u001b[0m in \u001b[0;36m<cell line: 4>\u001b[0;34m()\u001b[0m\n\u001b[1;32m      2\u001b[0m \u001b[0mset1\u001b[0m \u001b[0;34m=\u001b[0m \u001b[0;34m{\u001b[0m\u001b[0;36m1\u001b[0m\u001b[0;34m,\u001b[0m\u001b[0;36m2\u001b[0m\u001b[0;34m,\u001b[0m\u001b[0;36m3\u001b[0m\u001b[0;34m,\u001b[0m\u001b[0;36m4\u001b[0m\u001b[0;34m}\u001b[0m\u001b[0;34m\u001b[0m\u001b[0;34m\u001b[0m\u001b[0m\n\u001b[1;32m      3\u001b[0m \u001b[0;32mdel\u001b[0m \u001b[0mset1\u001b[0m\u001b[0;34m\u001b[0m\u001b[0;34m\u001b[0m\u001b[0m\n\u001b[0;32m----> 4\u001b[0;31m \u001b[0mprint\u001b[0m\u001b[0;34m(\u001b[0m\u001b[0mset1\u001b[0m\u001b[0;34m)\u001b[0m\u001b[0;34m\u001b[0m\u001b[0;34m\u001b[0m\u001b[0m\n\u001b[0m",
            "\u001b[0;31mNameError\u001b[0m: name 'set1' is not defined"
          ]
        }
      ]
    },
    {
      "cell_type": "code",
      "source": [
        "# set loop\n",
        "set1 = {\"a\",\"b\",\"c\",\"d\"}\n",
        "for x in set1:\n",
        "  print(x)"
      ],
      "metadata": {
        "colab": {
          "base_uri": "https://localhost:8080/"
        },
        "id": "WEmrG0dgFAD1",
        "outputId": "458b0ea6-f7c4-471b-aa1d-df750f1a11fc"
      },
      "execution_count": null,
      "outputs": [
        {
          "output_type": "stream",
          "name": "stdout",
          "text": [
            "d\n",
            "b\n",
            "c\n",
            "a\n"
          ]
        }
      ]
    },
    {
      "cell_type": "code",
      "source": [
        "# Join sets\n",
        "# There are several ways to join two or more sets in Python\n",
        "# The union() method returns a new set with all items from both sets\n",
        "set1 = {1,2,3,4}\n",
        "set2 = {\"a\",\"b\",\"c\",\"d\"}\n",
        "set3 = set1.union(set2)\n",
        "print(set3)"
      ],
      "metadata": {
        "colab": {
          "base_uri": "https://localhost:8080/"
        },
        "id": "6-MCe_jaFMI3",
        "outputId": "13d20f31-b51d-4186-eeeb-cf2fb74d05b1"
      },
      "execution_count": null,
      "outputs": [
        {
          "output_type": "stream",
          "name": "stdout",
          "text": [
            "{1, 2, 3, 4, 'c', 'b', 'd', 'a'}\n"
          ]
        }
      ]
    },
    {
      "cell_type": "code",
      "source": [
        "# The update() method inserts the items in set2 into set1\n",
        "set1 = {1,2,3,4}\n",
        "set2 = {\"a\",\"b\",\"c\",\"d\"}\n",
        "set1.update(set2)\n",
        "print(set1)"
      ],
      "metadata": {
        "colab": {
          "base_uri": "https://localhost:8080/"
        },
        "id": "7Mez_ZdNFiYT",
        "outputId": "b1eafbdc-f16c-4728-bcbd-940aa30f9ca6"
      },
      "execution_count": null,
      "outputs": [
        {
          "output_type": "stream",
          "name": "stdout",
          "text": [
            "{1, 2, 3, 4, 'c', 'b', 'd', 'a'}\n"
          ]
        }
      ]
    },
    {
      "cell_type": "markdown",
      "source": [
        "Note: Both union() and update() will exclude any duplicate items"
      ],
      "metadata": {
        "id": "ORB6oA8HFzoo"
      }
    },
    {
      "cell_type": "code",
      "source": [
        "# Keep only the duplicates: The intersection_update() method will keep only the items that are present in both sets\n",
        "# Keep the items that exist in both set x, and set y\n",
        "set1 = {1,2,3,4,5,6}\n",
        "set2 = {5,6,7,8,9,0}\n",
        "set1.intersection_update(set2)\n",
        "print(set1)"
      ],
      "metadata": {
        "colab": {
          "base_uri": "https://localhost:8080/"
        },
        "id": "vSLpK0OhFw95",
        "outputId": "9859690d-0bd4-4ff6-e9e2-586360240533"
      },
      "execution_count": null,
      "outputs": [
        {
          "output_type": "stream",
          "name": "stdout",
          "text": [
            "{5, 6}\n"
          ]
        }
      ]
    },
    {
      "cell_type": "code",
      "source": [
        "# The intersection() method will return a new set, that only contains the items that are present in both sets\n",
        "set1 = {1,2,3,4,5}\n",
        "set2 = {1,\"a\",\"b\",4}\n",
        "set1.intersection(set2)"
      ],
      "metadata": {
        "colab": {
          "base_uri": "https://localhost:8080/"
        },
        "id": "O0iMkKYWGJMS",
        "outputId": "756d714c-dd22-4484-ef6b-36531efee5a6"
      },
      "execution_count": null,
      "outputs": [
        {
          "output_type": "execute_result",
          "data": {
            "text/plain": [
              "{1, 4}"
            ]
          },
          "metadata": {},
          "execution_count": 41
        }
      ]
    },
    {
      "cell_type": "code",
      "source": [
        "# The symmetric_difference_update() method will keep only the elements that are NOT present in both sets.#\n",
        "set1 = {1,2,3,4,5,6}\n",
        "set2 = {5,6,7,8,9,0}\n",
        "set1.symmetric_difference_update(set2)\n",
        "print(set1)\n"
      ],
      "metadata": {
        "colab": {
          "base_uri": "https://localhost:8080/"
        },
        "id": "bG3BIFOeSFpU",
        "outputId": "bad5a56e-f557-4bd6-c751-f6a5b9f8f4fd"
      },
      "execution_count": null,
      "outputs": [
        {
          "output_type": "stream",
          "name": "stdout",
          "text": [
            "{0, 1, 2, 3, 4, 7, 8, 9}\n"
          ]
        }
      ]
    },
    {
      "cell_type": "code",
      "source": [
        "# The symmetric_difference() method will return a new set, that contains only the elements that are NOT present in both sets.\n",
        "set1 = {1,2,3,4,5,6}\n",
        "set2 = {5,6,7,8,9,0}\n",
        "set3 = set1.symmetric_difference(set2)\n",
        "print(set3)"
      ],
      "metadata": {
        "colab": {
          "base_uri": "https://localhost:8080/"
        },
        "id": "O-sCWyFdSa0i",
        "outputId": "bf3e628a-694f-48cc-cc21-9c5e56a94faa"
      },
      "execution_count": null,
      "outputs": [
        {
          "output_type": "stream",
          "name": "stdout",
          "text": [
            "{0, 1, 2, 3, 4, 7, 8, 9}\n"
          ]
        }
      ]
    },
    {
      "cell_type": "code",
      "source": [
        "# The values True and 1 are considered the same value in sets, and are treated as duplicates\n",
        "set1 = {True,2,4,5,6}\n",
        "set2 = {1,7,8,9,0}\n",
        "newset = set1.symmetric_difference(set2)\n",
        "print(newset)"
      ],
      "metadata": {
        "colab": {
          "base_uri": "https://localhost:8080/"
        },
        "id": "9Zi-SMy0U7uW",
        "outputId": "685bfa3b-aaa2-4e00-a9b0-ac54ef620773"
      },
      "execution_count": null,
      "outputs": [
        {
          "output_type": "stream",
          "name": "stdout",
          "text": [
            "{0, 2, 4, 5, 6, 7, 8, 9}\n"
          ]
        }
      ]
    },
    {
      "cell_type": "code",
      "source": [
        "# Set Disjoin: Returns True if no items in set1 is presented in set2 using isdisjoint\n",
        "set1 = {1,2,3,4,5,6}\n",
        "set2 = {\"a\",\"b\",\"c\",\"d\",\"e\"}\n",
        "newset = set1.isdisjoint(set2)\n",
        "print(newset)"
      ],
      "metadata": {
        "colab": {
          "base_uri": "https://localhost:8080/"
        },
        "id": "oyEDDHpcVSbF",
        "outputId": "ac9c4888-219f-4146-9298-7349d9f68d88"
      },
      "execution_count": null,
      "outputs": [
        {
          "output_type": "stream",
          "name": "stdout",
          "text": [
            "True\n"
          ]
        }
      ]
    },
    {
      "cell_type": "code",
      "source": [
        "set1 = {\"apple\",\"mangi\",\"kiwi\"}\n",
        "set2 = {\"kiwi\",\"cucumber\",\"orange\"}\n",
        "newset = set1.isdisjoint(set2)\n",
        "print(newset)"
      ],
      "metadata": {
        "colab": {
          "base_uri": "https://localhost:8080/"
        },
        "id": "6mSglzB5V41S",
        "outputId": "d6b221d7-d6fb-4c84-a509-b4b82bc35884"
      },
      "execution_count": null,
      "outputs": [
        {
          "output_type": "stream",
          "name": "stdout",
          "text": [
            "False\n"
          ]
        }
      ]
    },
    {
      "cell_type": "code",
      "source": [
        "# Set issubset() method: returns True if all items in set1 are presented in set2\n",
        "set1 = {1,2,3,4,5}\n",
        "set2 = {1,2,3,4,5}\n",
        "set3 = set1.issubset(set2)\n",
        "print(set3)"
      ],
      "metadata": {
        "colab": {
          "base_uri": "https://localhost:8080/"
        },
        "id": "T5-_C2djWPhQ",
        "outputId": "6cf43028-f926-422f-a446-5aa991e2e88c"
      },
      "execution_count": null,
      "outputs": [
        {
          "output_type": "stream",
          "name": "stdout",
          "text": [
            "True\n"
          ]
        }
      ]
    },
    {
      "cell_type": "code",
      "source": [
        "set1 = {1,2,3,4}\n",
        "set2 = {1,2,3,\"a\"}\n",
        "set3 = set1.issubset(set2)\n",
        "print(set3)"
      ],
      "metadata": {
        "colab": {
          "base_uri": "https://localhost:8080/"
        },
        "id": "grpv3XkMWjJs",
        "outputId": "471e9f83-7af8-4c22-dd71-c2cde9d291a3"
      },
      "execution_count": null,
      "outputs": [
        {
          "output_type": "stream",
          "name": "stdout",
          "text": [
            "False\n"
          ]
        }
      ]
    },
    {
      "cell_type": "code",
      "source": [
        "# Set issuperset() method: return true if all items in set2 are presented in set1\n",
        "x = {\"f\",\"e\",\"d\",\"c\",\"b\",\"a\"}\n",
        "y = {\"c\",\"b\",\"a\"}\n",
        "z = x.issuperset(y)\n",
        "print(z)"
      ],
      "metadata": {
        "colab": {
          "base_uri": "https://localhost:8080/"
        },
        "id": "e6-9jGHkWulW",
        "outputId": "651e9d29-b472-4ee8-9ea2-f9a028bab252"
      },
      "execution_count": null,
      "outputs": [
        {
          "output_type": "stream",
          "name": "stdout",
          "text": [
            "True\n"
          ]
        }
      ]
    },
    {
      "cell_type": "code",
      "source": [
        "x = {\"f\",\"e\",\"d\",\"c\",\"b\",\"a\"}\n",
        "y = {\"c\",\"b\",\"w\"}\n",
        "z = x.issuperset(y)\n",
        "print(z)"
      ],
      "metadata": {
        "colab": {
          "base_uri": "https://localhost:8080/"
        },
        "id": "0K3FLDfnXFVK",
        "outputId": "eb5cc921-d260-48b2-85bc-c55bd6a43f66"
      },
      "execution_count": null,
      "outputs": [
        {
          "output_type": "stream",
          "name": "stdout",
          "text": [
            "False\n"
          ]
        }
      ]
    },
    {
      "cell_type": "markdown",
      "source": [
        "# Dictionaries\n",
        "Dictionaries are used to store data values in key:value pairs, Dictionaries are written with curly brackets, and have keys and values\n",
        "\n",
        "A dictionary is a collection which is ordered*, changeable and do not allow duplicates\n",
        "\n",
        "When we say that dictionaries are ordered, it means that the items have a defined order, and that order will not change.\n",
        "\n",
        "Unordered means that the items does not have a defined order, you cannot refer to an item by using an index.\n",
        "\n",
        "Dictionaries are changeable, meaning that we can change, add or remove items after the dictionary has been created."
      ],
      "metadata": {
        "id": "lqBjUbOduHe4"
      }
    },
    {
      "cell_type": "code",
      "source": [
        "thisdic = {\"brand\":\"Ford\",\n",
        "          \"Model\":\"Mustang\",\n",
        "          \"Year\":1964}\n",
        "print(thisdic)"
      ],
      "metadata": {
        "id": "zN6wH2UXXYbd",
        "colab": {
          "base_uri": "https://localhost:8080/"
        },
        "outputId": "76c8df30-8d61-4472-c63f-7ee4a52be035"
      },
      "execution_count": null,
      "outputs": [
        {
          "output_type": "stream",
          "name": "stdout",
          "text": [
            "{'brand': 'Ford', 'Model': 'Mustang', 'Year': 1964}\n"
          ]
        }
      ]
    },
    {
      "cell_type": "code",
      "source": [
        "# Dictionary Items: Dictionary items are presented in key:value pairs, and can be referred to by using the key name\n",
        "print(thisdic[\"brand\"])"
      ],
      "metadata": {
        "colab": {
          "base_uri": "https://localhost:8080/"
        },
        "id": "AaPpd9a8ud6k",
        "outputId": "1ff08c87-687f-43bc-9a1a-c85a0c3e693a"
      },
      "execution_count": null,
      "outputs": [
        {
          "output_type": "stream",
          "name": "stdout",
          "text": [
            "Ford\n"
          ]
        }
      ]
    },
    {
      "cell_type": "code",
      "source": [
        "# Duplicate values will overwrite existing values, last value gets written.\n",
        "thisdic = {\"brand\": \"ford\",\n",
        "           \"model\": \"mustang\",\n",
        "           \"year\": 1969,\n",
        "           \"year\": 1973}\n",
        "\n",
        "print(thisdic)"
      ],
      "metadata": {
        "colab": {
          "base_uri": "https://localhost:8080/"
        },
        "id": "GW92045Ouy5_",
        "outputId": "6a714f5e-8034-4a7d-b549-0245cfa81480"
      },
      "execution_count": null,
      "outputs": [
        {
          "output_type": "stream",
          "name": "stdout",
          "text": [
            "{'brand': 'ford', 'model': 'mustang', 'year': 1973}\n"
          ]
        }
      ]
    },
    {
      "cell_type": "code",
      "source": [
        "thisdic = {\"brand\":\"BMW\",\n",
        "           \"model\":\"7series\",\n",
        "           \"year\": 1988\n",
        "          }\n",
        "print(len(thisdic))"
      ],
      "metadata": {
        "colab": {
          "base_uri": "https://localhost:8080/"
        },
        "id": "qzl65dasvfGj",
        "outputId": "8e2472f0-09eb-48fe-ae76-042f54701668"
      },
      "execution_count": null,
      "outputs": [
        {
          "output_type": "stream",
          "name": "stdout",
          "text": [
            "3\n"
          ]
        }
      ]
    },
    {
      "cell_type": "code",
      "source": [
        "thisdic = {\"brand\":\"BMW\",\n",
        "           \"model\":\"7series\",\n",
        "           \"year\": 1988}\n",
        "print(type(thisdic))"
      ],
      "metadata": {
        "colab": {
          "base_uri": "https://localhost:8080/"
        },
        "id": "OoQ98Cuk4evm",
        "outputId": "70f636ae-4b12-4827-a69f-9162a8815323"
      },
      "execution_count": null,
      "outputs": [
        {
          "output_type": "stream",
          "name": "stdout",
          "text": [
            "<class 'dict'>\n"
          ]
        }
      ]
    },
    {
      "cell_type": "code",
      "source": [
        "thisdic = {\"brand\":\"BMW\",\n",
        "           \"model\":\"7series\",\n",
        "           \"year\": 1988,\n",
        "           \"colors\":[\"red\",\"green\",\"blue\"]}\n",
        "\n",
        "print(thisdic)"
      ],
      "metadata": {
        "colab": {
          "base_uri": "https://localhost:8080/"
        },
        "id": "iBHLzii24sgD",
        "outputId": "96370bae-eb8b-46a1-a96f-eaa1590ed537"
      },
      "execution_count": null,
      "outputs": [
        {
          "output_type": "stream",
          "name": "stdout",
          "text": [
            "{'brand': 'BMW', 'model': '7series', 'year': 1988, 'colors': ['red', 'green', 'blue']}\n"
          ]
        }
      ]
    },
    {
      "cell_type": "code",
      "source": [
        "thisdic = dict(brand = \"BMW\",model = \"7series\",year = 1988, colors = [\"red\",\"blue\",\"green\"])\n",
        "print(thisdic)"
      ],
      "metadata": {
        "colab": {
          "base_uri": "https://localhost:8080/"
        },
        "id": "Y3l-rXov43W-",
        "outputId": "0f1f37c8-5058-4657-cd0d-c328c3c8f58e"
      },
      "execution_count": null,
      "outputs": [
        {
          "output_type": "stream",
          "name": "stdout",
          "text": [
            "{'brand': 'BMW', 'model': '7series', 'year': 1988, 'colors': ['red', 'blue', 'green']}\n"
          ]
        }
      ]
    },
    {
      "cell_type": "code",
      "source": [
        "# Dictionary Accessing Items\n",
        "thisdict = {\n",
        "  \"brand\": \"Ford\",\n",
        "  \"model\": \"Mustang\",\n",
        "  \"year\": 1964\n",
        "}\n",
        "thisdic[\"model\"]"
      ],
      "metadata": {
        "colab": {
          "base_uri": "https://localhost:8080/",
          "height": 36
        },
        "id": "crw-3_KT5if6",
        "outputId": "e45e2bb9-d5c7-4732-a7dd-5630b7a9470c"
      },
      "execution_count": null,
      "outputs": [
        {
          "output_type": "execute_result",
          "data": {
            "text/plain": [
              "'7series'"
            ],
            "application/vnd.google.colaboratory.intrinsic+json": {
              "type": "string"
            }
          },
          "metadata": {},
          "execution_count": 9
        }
      ]
    },
    {
      "cell_type": "code",
      "source": [
        "# Another method is using get\n",
        "thisdict = {\n",
        "  \"brand\": \"Ford\",\n",
        "  \"model\": \"Mustang\",\n",
        "  \"year\": 1964\n",
        "}\n",
        "thisdic.get(\"model\")"
      ],
      "metadata": {
        "colab": {
          "base_uri": "https://localhost:8080/",
          "height": 36
        },
        "id": "YX9p3pbH7KP8",
        "outputId": "da212d9f-118d-48aa-c38a-658248f69e0b"
      },
      "execution_count": null,
      "outputs": [
        {
          "output_type": "execute_result",
          "data": {
            "text/plain": [
              "'7series'"
            ],
            "application/vnd.google.colaboratory.intrinsic+json": {
              "type": "string"
            }
          },
          "metadata": {},
          "execution_count": 10
        }
      ]
    },
    {
      "cell_type": "code",
      "source": [
        "# to get the key values in a dictionary\n",
        "thisdic.keys()"
      ],
      "metadata": {
        "colab": {
          "base_uri": "https://localhost:8080/"
        },
        "id": "UwxacpND7Uh6",
        "outputId": "c22fd4bf-69e1-4a27-a4aa-410b85641e07"
      },
      "execution_count": null,
      "outputs": [
        {
          "output_type": "execute_result",
          "data": {
            "text/plain": [
              "dict_keys(['brand', 'model', 'year', 'colors'])"
            ]
          },
          "metadata": {},
          "execution_count": 11
        }
      ]
    },
    {
      "cell_type": "code",
      "source": [
        "# Adding a new value to a dictionary\n",
        "thisdict = {\n",
        "  \"brand\": \"Ford\",\n",
        "  \"model\": \"Mustang\",\n",
        "  \"year\": 1964\n",
        "}\n",
        "x = thisdic.keys()\n",
        "print(x)\n",
        "thisdic[\"model\"] = \"6series\"\n",
        "print(thisdic)"
      ],
      "metadata": {
        "colab": {
          "base_uri": "https://localhost:8080/"
        },
        "id": "s5u6droB7bTg",
        "outputId": "5fc32446-7b71-49f4-eaf9-1bb6f4153157"
      },
      "execution_count": null,
      "outputs": [
        {
          "output_type": "stream",
          "name": "stdout",
          "text": [
            "dict_keys(['brand', 'model', 'year', 'colors'])\n",
            "{'brand': 'BMW', 'model': '6series', 'year': 1988, 'colors': ['red', 'blue', 'green']}\n"
          ]
        }
      ]
    },
    {
      "cell_type": "code",
      "source": [
        "thisdict = {\n",
        "  \"brand\": \"Ford\",\n",
        "  \"model\": \"Mustang\",\n",
        "  \"year\": 1964\n",
        "}\n",
        "thisdic[\"year\"] = 2019\n",
        "print(thisdic)"
      ],
      "metadata": {
        "colab": {
          "base_uri": "https://localhost:8080/"
        },
        "id": "TRnf6GbH7wqx",
        "outputId": "ebee6eb9-1290-42fd-afdb-55cfe8b72270"
      },
      "execution_count": null,
      "outputs": [
        {
          "output_type": "stream",
          "name": "stdout",
          "text": [
            "{'brand': 'BMW', 'model': '6series', 'year': 2019, 'colors': ['red', 'blue', 'green']}\n"
          ]
        }
      ]
    },
    {
      "cell_type": "code",
      "source": [
        "# Get items (key and values) from a dictionary: items()\n",
        "thisdict = {\n",
        "  \"brand\": \"Ford\",\n",
        "  \"model\": \"Mustang\",\n",
        "  \"year\": 1964\n",
        "}\n",
        "thisdic.items()"
      ],
      "metadata": {
        "colab": {
          "base_uri": "https://localhost:8080/"
        },
        "id": "UkKpv7xC8PZf",
        "outputId": "cfe1322d-7e02-4fa3-b549-e6b0cb4b3f4c"
      },
      "execution_count": null,
      "outputs": [
        {
          "output_type": "execute_result",
          "data": {
            "text/plain": [
              "dict_items([('brand', 'BMW'), ('model', '6series'), ('year', 2019), ('colors', ['red', 'blue', 'green'])])"
            ]
          },
          "metadata": {},
          "execution_count": 17
        }
      ]
    },
    {
      "cell_type": "code",
      "source": [
        "# values(): values() method will return a list of all the values in the dictionary\n",
        "car = {\n",
        "\"brand\": \"Ford\",\n",
        "\"model\": \"Mustang\",\n",
        "\"year\": 1964\n",
        "}\n",
        "car.values()\n",
        "car[\"model\"]\n",
        "car.items()\n",
        "car.keys()\n",
        "car.get(\"model\")"
      ],
      "metadata": {
        "colab": {
          "base_uri": "https://localhost:8080/",
          "height": 36
        },
        "id": "voX8iJsl8v-F",
        "outputId": "4032f136-9bef-49d4-a967-ba1af106979c"
      },
      "execution_count": null,
      "outputs": [
        {
          "output_type": "execute_result",
          "data": {
            "text/plain": [
              "'Mustang'"
            ],
            "application/vnd.google.colaboratory.intrinsic+json": {
              "type": "string"
            }
          },
          "metadata": {},
          "execution_count": 22
        }
      ]
    },
    {
      "cell_type": "code",
      "source": [
        "# Add a new item to the original dictionary\n",
        "car = {\n",
        "\"brand\": \"Ford\",\n",
        "\"model\": \"Mustang\",\n",
        "\"year\": 1964\n",
        "}\n",
        "car[\"color\"] = \"red\"\n",
        "print(car)"
      ],
      "metadata": {
        "colab": {
          "base_uri": "https://localhost:8080/"
        },
        "id": "l1DVVTelFX_f",
        "outputId": "78e10506-eb88-4edc-a916-5d13bf7ee0f4"
      },
      "execution_count": null,
      "outputs": [
        {
          "output_type": "stream",
          "name": "stdout",
          "text": [
            "{'brand': 'Ford', 'model': 'Mustang', 'year': 1964, 'color': 'red'}\n"
          ]
        }
      ]
    },
    {
      "cell_type": "code",
      "source": [
        "# Changing an item in the dictionary using items to view the items and then change it\n",
        "car = {\n",
        "\"brand\": \"Ford\",\n",
        "\"model\": \"Mustang\",\n",
        "\"year\": 1964\n",
        "}\n",
        "x = car.items()\n",
        "print(x)\n",
        "car[\"year\"] = 2020\n",
        "print(car)\n"
      ],
      "metadata": {
        "colab": {
          "base_uri": "https://localhost:8080/"
        },
        "id": "i0i6i--RFx1-",
        "outputId": "5f3b89b4-8a26-40c3-db07-5e62f4f8588f"
      },
      "execution_count": null,
      "outputs": [
        {
          "output_type": "stream",
          "name": "stdout",
          "text": [
            "dict_items([('brand', 'Ford'), ('model', 'Mustang'), ('year', 1964)])\n",
            "{'brand': 'Ford', 'model': 'Mustang', 'year': 2020}\n"
          ]
        }
      ]
    },
    {
      "cell_type": "code",
      "source": [
        "# Checking if key exists in a dictionary\n",
        "car = {\n",
        "\"brand\": \"Ford\",\n",
        "\"model\": \"Mustang\",\n",
        "\"year\": 1964\n",
        "}\n",
        "if \"model\" in car:\n",
        "  print(\"Yes, this key exists\")\n",
        "else:\n",
        "  print(\"No key exists\")"
      ],
      "metadata": {
        "colab": {
          "base_uri": "https://localhost:8080/"
        },
        "id": "xlrHiSGWF6y0",
        "outputId": "3c82ed6d-11eb-43fd-d6c8-eb9ebb5d854d"
      },
      "execution_count": null,
      "outputs": [
        {
          "output_type": "stream",
          "name": "stdout",
          "text": [
            "Yes, this key exists\n"
          ]
        }
      ]
    },
    {
      "cell_type": "code",
      "source": [
        "# Change dictionary items\n",
        "car = {\n",
        "\"brand\": \"Ford\",\n",
        "\"model\": \"Mustang\",\n",
        "\"year\": 1964\n",
        "}\n",
        "car[\"year\"] = 2020\n",
        "print(car)"
      ],
      "metadata": {
        "colab": {
          "base_uri": "https://localhost:8080/"
        },
        "id": "PXZKGIbKGc2d",
        "outputId": "9f888262-f839-4fec-9685-acf968565bfd"
      },
      "execution_count": null,
      "outputs": [
        {
          "output_type": "stream",
          "name": "stdout",
          "text": [
            "{'brand': 'Ford', 'model': 'Mustang', 'year': 2020}\n"
          ]
        }
      ]
    },
    {
      "cell_type": "code",
      "source": [
        "# The update() method will update the dictionary with the items from the given argument.\n",
        "\n",
        "# The argument must be a dictionary, or an iterable object with key:value pairs.\n",
        "thisdict = {\n",
        "  \"brand\": \"Ford\",\n",
        "  \"model\": \"Mustang\",\n",
        "  \"year\": 1964\n",
        "}\n",
        "thisdict.update({\"model\":\"BMW\"})\n",
        "print(thisdict)"
      ],
      "metadata": {
        "colab": {
          "base_uri": "https://localhost:8080/"
        },
        "id": "xKOncWp9Gm1X",
        "outputId": "ac94e7eb-0e33-4cdf-bc6f-77d5527107d9"
      },
      "execution_count": null,
      "outputs": [
        {
          "output_type": "stream",
          "name": "stdout",
          "text": [
            "{'brand': 'Ford', 'model': 'BMW', 'year': 1964}\n"
          ]
        }
      ]
    },
    {
      "cell_type": "code",
      "source": [
        "# Adding items to dictionary\n",
        "thisdict = {\n",
        "  \"brand\": \"Ford\",\n",
        "  \"model\": \"Mustang\",\n",
        "  \"year\": 1964\n",
        "}\n",
        "thisdic[\"color\"] = \"red\"\n",
        "print(thisdict)"
      ],
      "metadata": {
        "colab": {
          "base_uri": "https://localhost:8080/"
        },
        "id": "bK6w4JpeG35X",
        "outputId": "be5ac8f6-aa50-41a4-8859-48e108473f94"
      },
      "execution_count": null,
      "outputs": [
        {
          "output_type": "stream",
          "name": "stdout",
          "text": [
            "{'brand': 'Ford', 'model': 'Mustang', 'year': 1964}\n"
          ]
        }
      ]
    },
    {
      "cell_type": "code",
      "source": [
        "# The update() method will update the dictionary with the items from a given argument. If the item does not exist, the item will be added.\n",
        "thisdict = {\n",
        "  \"brand\": \"Ford\",\n",
        "  \"model\": \"Mustang\",\n",
        "  \"year\": 1964\n",
        "}\n",
        "thisdict.update({\"color\":\"red\"})\n",
        "print(thisidct)"
      ],
      "metadata": {
        "colab": {
          "base_uri": "https://localhost:8080/"
        },
        "id": "mpflVCLBHVt9",
        "outputId": "ee400537-b8f1-418a-ed26-8acd3647c278"
      },
      "execution_count": null,
      "outputs": [
        {
          "output_type": "stream",
          "name": "stdout",
          "text": [
            "{'brand': 'Ford', 'model': 'BMW', 'year': 2020, 'color': 'red'}\n"
          ]
        }
      ]
    },
    {
      "cell_type": "code",
      "source": [
        "# Removing Dictionary items\n",
        "# The pop() method removes the item with the specified key name\n",
        "thisdict = {\n",
        "  \"brand\": \"Ford\",\n",
        "  \"model\": \"Mustang\",\n",
        "  \"year\": 1964\n",
        "}\n",
        "thisdict.pop(\"model\")\n",
        "print(thisdict)"
      ],
      "metadata": {
        "colab": {
          "base_uri": "https://localhost:8080/"
        },
        "id": "mWK8-hz7HlX5",
        "outputId": "998971bc-95f5-49a9-82e7-832009e41888"
      },
      "execution_count": null,
      "outputs": [
        {
          "output_type": "stream",
          "name": "stdout",
          "text": [
            "{'brand': 'Ford', 'year': 1964}\n"
          ]
        }
      ]
    },
    {
      "cell_type": "code",
      "source": [
        "# The popitem() method removes the last inserted item\n",
        "thisdict = {\n",
        "  \"brand\": \"Ford\",\n",
        "  \"model\": \"Mustang\",\n",
        "  \"year\": 1964\n",
        "}\n",
        "thisdict.popitem()\n",
        "print(thisdict)"
      ],
      "metadata": {
        "colab": {
          "base_uri": "https://localhost:8080/"
        },
        "id": "UKHuJ15-H2Av",
        "outputId": "cd4c360f-29a6-41a9-d708-52ab10b0f295"
      },
      "execution_count": null,
      "outputs": [
        {
          "output_type": "stream",
          "name": "stdout",
          "text": [
            "{'brand': 'Ford', 'model': 'Mustang'}\n"
          ]
        }
      ]
    },
    {
      "cell_type": "code",
      "source": [
        "# The del keyword removes the item with the specified key name\n",
        "thisdict = {\n",
        "  \"brand\": \"Ford\",\n",
        "  \"model\": \"Mustang\",\n",
        "  \"year\": 1964\n",
        "}\n",
        "del thisdict[\"model\"]\n",
        "print(thisdict)"
      ],
      "metadata": {
        "colab": {
          "base_uri": "https://localhost:8080/"
        },
        "id": "L7ZUutfvH-ph",
        "outputId": "f9494dda-2581-4e1b-e0f2-7d1a2f38a9ff"
      },
      "execution_count": null,
      "outputs": [
        {
          "output_type": "stream",
          "name": "stdout",
          "text": [
            "{'brand': 'Ford', 'year': 1964}\n"
          ]
        }
      ]
    },
    {
      "cell_type": "code",
      "source": [
        "thisdict = {\n",
        "  \"brand\": \"Ford\",\n",
        "  \"model\": \"Mustang\",\n",
        "  \"year\": 1964\n",
        "}\n",
        "del thisdict\n",
        "print(thisdict)"
      ],
      "metadata": {
        "colab": {
          "base_uri": "https://localhost:8080/",
          "height": 216
        },
        "id": "RZePzhzsItwh",
        "outputId": "2988d614-689c-41fd-c51a-57a3dadba5fe"
      },
      "execution_count": null,
      "outputs": [
        {
          "output_type": "error",
          "ename": "NameError",
          "evalue": "name 'thisdict' is not defined",
          "traceback": [
            "\u001b[0;31m---------------------------------------------------------------------------\u001b[0m",
            "\u001b[0;31mNameError\u001b[0m                                 Traceback (most recent call last)",
            "\u001b[0;32m<ipython-input-41-282b8c869b84>\u001b[0m in \u001b[0;36m<cell line: 7>\u001b[0;34m()\u001b[0m\n\u001b[1;32m      5\u001b[0m }\n\u001b[1;32m      6\u001b[0m \u001b[0;32mdel\u001b[0m \u001b[0mthisdict\u001b[0m\u001b[0;34m\u001b[0m\u001b[0;34m\u001b[0m\u001b[0m\n\u001b[0;32m----> 7\u001b[0;31m \u001b[0mprint\u001b[0m\u001b[0;34m(\u001b[0m\u001b[0mthisdict\u001b[0m\u001b[0;34m)\u001b[0m\u001b[0;34m\u001b[0m\u001b[0;34m\u001b[0m\u001b[0m\n\u001b[0m",
            "\u001b[0;31mNameError\u001b[0m: name 'thisdict' is not defined"
          ]
        }
      ]
    },
    {
      "cell_type": "code",
      "source": [
        "# The clear() method empties the dictionary\n",
        "thisdict = {\n",
        "  \"brand\": \"Ford\",\n",
        "  \"model\": \"Mustang\",\n",
        "  \"year\": 1964\n",
        "}\n",
        "thisdict.clear()\n",
        "print(thisdict)"
      ],
      "metadata": {
        "colab": {
          "base_uri": "https://localhost:8080/"
        },
        "id": "Jql0B8ETI3NF",
        "outputId": "1d9f7794-d916-4b36-86ad-061167e1461b"
      },
      "execution_count": null,
      "outputs": [
        {
          "output_type": "stream",
          "name": "stdout",
          "text": [
            "{}\n"
          ]
        }
      ]
    },
    {
      "cell_type": "code",
      "source": [
        "# Loop through dictionary\n",
        "thisdict = {\n",
        "  \"brand\": \"Ford\",\n",
        "  \"model\": \"Mustang\",\n",
        "  \"year\": 1964\n",
        "}\n",
        "for x in thisdict:\n",
        "  print(x)"
      ],
      "metadata": {
        "colab": {
          "base_uri": "https://localhost:8080/"
        },
        "id": "Yc2Y13vDI_ET",
        "outputId": "4e1d6e69-6ca3-4811-b0a6-91e22065c300"
      },
      "execution_count": null,
      "outputs": [
        {
          "output_type": "stream",
          "name": "stdout",
          "text": [
            "brand\n",
            "model\n",
            "year\n"
          ]
        }
      ]
    },
    {
      "cell_type": "code",
      "source": [
        "thisdict = {\n",
        "  \"brand\": \"Ford\",\n",
        "  \"model\": \"Mustang\",\n",
        "  \"year\": 1964\n",
        "}\n",
        "for x in thisdict.values():\n",
        "  print(x)"
      ],
      "metadata": {
        "colab": {
          "base_uri": "https://localhost:8080/"
        },
        "id": "nYgYJToNJUav",
        "outputId": "67fc4a8e-0cb7-4218-d9aa-e3b937d5adee"
      },
      "execution_count": null,
      "outputs": [
        {
          "output_type": "stream",
          "name": "stdout",
          "text": [
            "Ford\n",
            "Mustang\n",
            "1964\n"
          ]
        }
      ]
    },
    {
      "cell_type": "code",
      "source": [
        "thisdict = {\n",
        "  \"brand\": \"Ford\",\n",
        "  \"model\": \"Mustang\",\n",
        "  \"year\": 1964\n",
        "}\n",
        "for x in thisdict.keys():\n",
        "  print(x)"
      ],
      "metadata": {
        "colab": {
          "base_uri": "https://localhost:8080/"
        },
        "id": "q_CcIPVCJcAR",
        "outputId": "be62d291-61dc-4f6f-d8ad-09209761a524"
      },
      "execution_count": null,
      "outputs": [
        {
          "output_type": "stream",
          "name": "stdout",
          "text": [
            "brand\n",
            "model\n",
            "year\n"
          ]
        }
      ]
    },
    {
      "cell_type": "code",
      "source": [
        "for x,y in thisdict.items():\n",
        "  print(x,y)"
      ],
      "metadata": {
        "colab": {
          "base_uri": "https://localhost:8080/"
        },
        "id": "gM5twbR2JqiV",
        "outputId": "cb2ede2c-1c9c-4ace-8190-13c25fdf6ded"
      },
      "execution_count": null,
      "outputs": [
        {
          "output_type": "stream",
          "name": "stdout",
          "text": [
            "brand Ford\n",
            "model Mustang\n",
            "year 1964\n"
          ]
        }
      ]
    },
    {
      "cell_type": "code",
      "source": [
        "# Copy a dictionary\n",
        "\n",
        "# You cannot copy a dictionary simply by typing dict2 = dict1, because: dict2 will only be a reference to dict1, and changes made in dict1 will automatically also be made in dict2.\n",
        "\n",
        "# There are ways to make a copy, one way is to use the built-in Dictionary method copy()."
      ],
      "metadata": {
        "id": "MYaKA5hnJxQP"
      },
      "execution_count": null,
      "outputs": []
    },
    {
      "cell_type": "code",
      "source": [
        "thisdict = {\n",
        "  \"brand\": \"Ford\",\n",
        "  \"model\": \"Mustang\",\n",
        "  \"year\": 1964\n",
        "}\n",
        "newdict = thisdict.copy()\n",
        "print(newdict)"
      ],
      "metadata": {
        "colab": {
          "base_uri": "https://localhost:8080/"
        },
        "id": "tDDpgRX9KO8L",
        "outputId": "c13856f5-38fb-48eb-ffbd-39e77507e6ed"
      },
      "execution_count": null,
      "outputs": [
        {
          "output_type": "stream",
          "name": "stdout",
          "text": [
            "{'brand': 'Ford', 'model': 'Mustang', 'year': 1964}\n"
          ]
        }
      ]
    },
    {
      "cell_type": "code",
      "source": [
        "# Make a copy of a dictionary with the dict() function\n",
        "thisdict = {\n",
        "  \"brand\": \"Ford\",\n",
        "  \"model\": \"Mustang\",\n",
        "  \"year\": 1964\n",
        "}\n",
        "newdict = dict(thisdict)\n",
        "print(newdict)"
      ],
      "metadata": {
        "colab": {
          "base_uri": "https://localhost:8080/"
        },
        "id": "z0_GyBD4KVdn",
        "outputId": "e961b156-6954-4c84-e2d9-948026f3626f"
      },
      "execution_count": null,
      "outputs": [
        {
          "output_type": "stream",
          "name": "stdout",
          "text": [
            "{'brand': 'Ford', 'model': 'Mustang', 'year': 1964}\n"
          ]
        }
      ]
    },
    {
      "cell_type": "code",
      "source": [
        "# Nested Dictionaries\n",
        "# A dictionary can contain dictionaries, this is called nested dictionaries\n",
        "myfamily = {\"child1\":{\"name\":\"John\",\"year\":2014}, \"child2\": {\"name\":\"Alex\",\"year\":2011}, \"child2\":{\"name\":\"Dexter\",\"year\":2019}, \"child3\":{\"name\":\"Lion\",\"year\": 1982}}\n",
        "print(myfamily)"
      ],
      "metadata": {
        "colab": {
          "base_uri": "https://localhost:8080/"
        },
        "id": "Kjrp16LxNR4B",
        "outputId": "ed3e588a-2f61-48bd-deab-3486cc2d7acb"
      },
      "execution_count": null,
      "outputs": [
        {
          "output_type": "stream",
          "name": "stdout",
          "text": [
            "{'child1': {'name': 'John', 'year': 2014}, 'child2': {'name': 'Dexter', 'year': 2019}, 'child3': {'name': 'Lion', 'year': 1982}}\n"
          ]
        }
      ]
    },
    {
      "cell_type": "code",
      "source": [
        "child1 = {\"name\":\"John\",\"year\":2011}\n",
        "child2 = {\"name\":\"Alex\",\"year\":2012}\n",
        "child3 = {\"name\":\"Lion\",\"year\":2019}\n",
        "myfamily = {\"child1\":child1,\"child2\":child2,\"child3\":child3}\n",
        "print(myfamily)"
      ],
      "metadata": {
        "colab": {
          "base_uri": "https://localhost:8080/"
        },
        "id": "PKTK97CKOx94",
        "outputId": "f118d058-14f9-4a53-f37b-e599fd0ea9fb"
      },
      "execution_count": null,
      "outputs": [
        {
          "output_type": "stream",
          "name": "stdout",
          "text": [
            "{'child1': {'name': 'John', 'year': 2011}, 'child2': {'name': 'Alex', 'year': 2012}, 'child3': {'name': 'Lion', 'year': 2019}}\n"
          ]
        }
      ]
    },
    {
      "cell_type": "code",
      "source": [
        "# Access items in nested dictionary\n",
        "print(myfamily[\"child1\"][\"name\"])"
      ],
      "metadata": {
        "colab": {
          "base_uri": "https://localhost:8080/"
        },
        "id": "jxlamNjcPK05",
        "outputId": "a1f7ffc7-a5b3-46ab-dd4e-0fc5c4958226"
      },
      "execution_count": null,
      "outputs": [
        {
          "output_type": "stream",
          "name": "stdout",
          "text": [
            "John\n"
          ]
        }
      ]
    },
    {
      "cell_type": "code",
      "source": [
        "# dictionary fromkeys() method: returns a dictionary with the specified keys and the specified value.\n",
        "# dict.fromkeys(keys, value)\n",
        "\"\"\"\n",
        "Parameter\tDescription\n",
        "keys\tRequired: An iterable specifying the keys of the new dictionary\n",
        "value\tOptional: The value for all keys. Default value is None\n",
        "\n",
        "\"\"\"\n",
        "x = (\"key1\",\"key2\",\"key3\")\n",
        "y = 0\n",
        "thisdict = dict.fromkeys(x,y)\n",
        "print(thisdict)"
      ],
      "metadata": {
        "colab": {
          "base_uri": "https://localhost:8080/"
        },
        "id": "RzMLVaxKPqVu",
        "outputId": "3ff74a6e-ee84-4039-8192-593f9cce4854"
      },
      "execution_count": null,
      "outputs": [
        {
          "output_type": "stream",
          "name": "stdout",
          "text": [
            "{'key1': 0, 'key2': 0, 'key3': 0}\n"
          ]
        }
      ]
    },
    {
      "cell_type": "code",
      "source": [
        "x = (\"key1\",\"key2\",\"key3\")\n",
        "thisdict = dict.fromkeys(x)\n",
        "print(thisdict)"
      ],
      "metadata": {
        "colab": {
          "base_uri": "https://localhost:8080/"
        },
        "id": "bV2D8An5QHvj",
        "outputId": "a707b274-d6f2-41bc-cd54-8a8f1297a21e"
      },
      "execution_count": null,
      "outputs": [
        {
          "output_type": "stream",
          "name": "stdout",
          "text": [
            "{'key1': None, 'key2': None, 'key3': None}\n"
          ]
        }
      ]
    },
    {
      "cell_type": "code",
      "source": [
        "# python dictionary setdefault() method: returns the value of the item with the specified key.\n",
        "# dictionary.setdefault(keyname, value)\n",
        "\"\"\"\n",
        "keyname\tRequired. The keyname of the item you want to return the value from\n",
        "value\tOptional.\n",
        "If the key exist, this parameter has no effect.\n",
        "If the key does not exist, this value becomes the key's value\n",
        "Default value None\n",
        "\"\"\"\n",
        "car = {\n",
        "  \"brand\": \"Ford\",\n",
        "  \"model\": \"Mustang\",\n",
        "  \"year\": 1964\n",
        "}\n",
        "x = car.setdefault(\"color\",\"white\")\n",
        "print(x)\n",
        "print(car)"
      ],
      "metadata": {
        "colab": {
          "base_uri": "https://localhost:8080/"
        },
        "id": "nqcNBph9Qdvm",
        "outputId": "aa2424b6-5c4c-4627-c336-0744c40b283e"
      },
      "execution_count": null,
      "outputs": [
        {
          "output_type": "stream",
          "name": "stdout",
          "text": [
            "white\n",
            "{'brand': 'Ford', 'model': 'Mustang', 'year': 1964, 'color': 'white'}\n"
          ]
        }
      ]
    },
    {
      "cell_type": "markdown",
      "source": [
        "# Python if ... else\n",
        "Equals a ==b\n",
        "not equal a!=b\n",
        "less than a < b\n",
        "less than or equal a <= b\n",
        "greater than a > b\n",
        "greater than or equal a >= b"
      ],
      "metadata": {
        "id": "rRd_9biQRL5X"
      }
    },
    {
      "cell_type": "code",
      "source": [
        "a = 33\n",
        "b = 200\n",
        "if b > a:\n",
        "  print(\"b is greater than a\")"
      ],
      "metadata": {
        "colab": {
          "base_uri": "https://localhost:8080/"
        },
        "id": "s8S9RNk3RBnL",
        "outputId": "78ba1302-5e18-4991-cddf-28ce53c93fef"
      },
      "execution_count": null,
      "outputs": [
        {
          "output_type": "stream",
          "name": "stdout",
          "text": [
            "b is greater than a\n"
          ]
        }
      ]
    },
    {
      "cell_type": "code",
      "source": [
        "a = 33\n",
        "b = 33\n",
        "if a > b:\n",
        "  print(\"a is greater than b\")\n",
        "elif a ==b:\n",
        "  print(\"a and b are equal\")"
      ],
      "metadata": {
        "colab": {
          "base_uri": "https://localhost:8080/"
        },
        "id": "80-CakEmpbQ8",
        "outputId": "c135bd81-cafb-4aff-9aa0-824999040c77"
      },
      "execution_count": null,
      "outputs": [
        {
          "output_type": "stream",
          "name": "stdout",
          "text": [
            "a and b are equal\n"
          ]
        }
      ]
    },
    {
      "cell_type": "code",
      "source": [
        "a = 200\n",
        "b =33\n",
        "if a < b:\n",
        "  print(\"a is less than b\")\n",
        "elif a == b:\n",
        "  print(\"a and b are equal\")\n",
        "else:\n",
        "  print(\"a is greater than b\")"
      ],
      "metadata": {
        "colab": {
          "base_uri": "https://localhost:8080/"
        },
        "id": "uJktuL55pyYr",
        "outputId": "f8cfb2dc-3376-402b-9c52-955b1a169a1f"
      },
      "execution_count": null,
      "outputs": [
        {
          "output_type": "stream",
          "name": "stdout",
          "text": [
            "a is greater than b\n"
          ]
        }
      ]
    },
    {
      "cell_type": "code",
      "source": [
        "a = 200\n",
        "b = 33\n",
        "if b > a:\n",
        "  print(\"b is greater than a\")\n",
        "else:\n",
        "  print(\"a is greater than b\")"
      ],
      "metadata": {
        "colab": {
          "base_uri": "https://localhost:8080/"
        },
        "id": "NOxI1K-fqHee",
        "outputId": "d867583f-b981-4847-f7c9-00e11706fa9d"
      },
      "execution_count": null,
      "outputs": [
        {
          "output_type": "stream",
          "name": "stdout",
          "text": [
            "a is greater than b\n"
          ]
        }
      ]
    },
    {
      "cell_type": "markdown",
      "source": [
        "# This technique is known as Ternary Operators or conditional expression"
      ],
      "metadata": {
        "id": "UnOQ8ybJsfvA"
      }
    },
    {
      "cell_type": "code",
      "source": [
        "a = 300\n",
        "b = 200\n",
        "if a > b: print(\"A is greater than B\")"
      ],
      "metadata": {
        "colab": {
          "base_uri": "https://localhost:8080/"
        },
        "id": "UknILxs1spmP",
        "outputId": "cc981ab3-cd16-401d-a4c9-20b7fc98701c"
      },
      "execution_count": null,
      "outputs": [
        {
          "output_type": "stream",
          "name": "stdout",
          "text": [
            "A is greater than B\n"
          ]
        }
      ]
    },
    {
      "cell_type": "code",
      "source": [
        "# short hand if\n",
        "print(\"A is greater than b\") if a > b else print(\"B is greater than A\")"
      ],
      "metadata": {
        "colab": {
          "base_uri": "https://localhost:8080/"
        },
        "id": "ITjA4MNEq2Sc",
        "outputId": "528c4792-c27f-4fea-9921-86f327634bd5"
      },
      "execution_count": null,
      "outputs": [
        {
          "output_type": "stream",
          "name": "stdout",
          "text": [
            "A is greater than b\n"
          ]
        }
      ]
    },
    {
      "cell_type": "code",
      "source": [
        "a = 2\n",
        "b = 330\n",
        "print(\"A\") if a > b else print(\"B\")"
      ],
      "metadata": {
        "colab": {
          "base_uri": "https://localhost:8080/"
        },
        "id": "lgkBEGYKrBgn",
        "outputId": "57218ed2-b89f-4e59-f597-67d053603e22"
      },
      "execution_count": null,
      "outputs": [
        {
          "output_type": "stream",
          "name": "stdout",
          "text": [
            "B\n"
          ]
        }
      ]
    },
    {
      "cell_type": "code",
      "source": [
        "print(\"A\") if a < b else print(\"=\") if a == b else print(\"B\")"
      ],
      "metadata": {
        "colab": {
          "base_uri": "https://localhost:8080/"
        },
        "id": "dRT6fg7xrPV_",
        "outputId": "fa65dbb1-f740-4911-bec9-bbc3c466abad"
      },
      "execution_count": null,
      "outputs": [
        {
          "output_type": "stream",
          "name": "stdout",
          "text": [
            "B\n"
          ]
        }
      ]
    },
    {
      "cell_type": "code",
      "source": [
        "# And: The and keyword is a logical operator, and is used to combine conditional statements\n",
        "a = 200\n",
        "b = 33\n",
        "c = 500\n",
        "if a > b and c > b:\n",
        "  print(\"Both conditions are True\")"
      ],
      "metadata": {
        "colab": {
          "base_uri": "https://localhost:8080/"
        },
        "id": "mYGURca_rqtA",
        "outputId": "488930ad-63cc-40c1-9a74-9f50a89eff3d"
      },
      "execution_count": null,
      "outputs": [
        {
          "output_type": "stream",
          "name": "stdout",
          "text": [
            "Both conditions are True\n"
          ]
        }
      ]
    },
    {
      "cell_type": "code",
      "source": [
        "# OR: The or keyword is a logical operator, and is used to combine conditional statements\n",
        "a = 200\n",
        "b = 33\n",
        "c = 500\n",
        "if a > b or c < b:\n",
        "  print(\"At least one condition is true\")"
      ],
      "metadata": {
        "colab": {
          "base_uri": "https://localhost:8080/"
        },
        "id": "Mhk1iDXiuWu-",
        "outputId": "cb485fe8-6064-4fb5-ea69-60534552e202"
      },
      "execution_count": null,
      "outputs": [
        {
          "output_type": "stream",
          "name": "stdout",
          "text": [
            "At least one condition is true\n"
          ]
        }
      ]
    },
    {
      "cell_type": "code",
      "source": [
        "# Not: The not keyword is a logical operator, and is used to reverse the result of the conditional statement\n",
        "a = 300\n",
        "b = 55\n",
        "if not b > a:\n",
        "  print(\"this statement is True\")\n"
      ],
      "metadata": {
        "colab": {
          "base_uri": "https://localhost:8080/"
        },
        "id": "jWvpBmX5upH2",
        "outputId": "e8daf014-3100-4d9b-f26d-9af4fa2ac4ed"
      },
      "execution_count": null,
      "outputs": [
        {
          "output_type": "stream",
          "name": "stdout",
          "text": [
            "this statement is True\n"
          ]
        }
      ]
    },
    {
      "cell_type": "code",
      "source": [
        "# Nested if: You can have if statements inside if statements, this is called nested if statements.\n",
        "x = 41\n",
        "\n",
        "if x > 10:\n",
        "  print(\"Above ten, \")\n",
        "  if x > 20:\n",
        "    print(\"and also above 20!\")\n",
        "  else:\n",
        "    print(\"but not above 2.0\")\n",
        "else:\n",
        "  print(\"it is \")"
      ],
      "metadata": {
        "colab": {
          "base_uri": "https://localhost:8080/"
        },
        "id": "-x6ZJo4qw28t",
        "outputId": "7e35d59d-e2d3-400d-983d-aab01cd5893b"
      },
      "execution_count": null,
      "outputs": [
        {
          "output_type": "stream",
          "name": "stdout",
          "text": [
            "Above ten, \n",
            "and also above 20!\n"
          ]
        }
      ]
    },
    {
      "cell_type": "code",
      "source": [
        "a = 33\n",
        "b = 200\n",
        "if a > b:\n",
        "  pass"
      ],
      "metadata": {
        "id": "LnQqAccAxOlZ"
      },
      "execution_count": null,
      "outputs": []
    },
    {
      "cell_type": "code",
      "source": [
        "# Python while loop\n",
        "i = 1\n",
        "while i < 6:\n",
        "  print(i)\n",
        "  i += 1\n"
      ],
      "metadata": {
        "colab": {
          "base_uri": "https://localhost:8080/"
        },
        "id": "NcWErGATz4xj",
        "outputId": "be4d9399-a8d9-494a-f814-68dafe4651fd"
      },
      "execution_count": null,
      "outputs": [
        {
          "output_type": "stream",
          "name": "stdout",
          "text": [
            "1\n",
            "2\n",
            "3\n",
            "4\n",
            "5\n"
          ]
        }
      ]
    },
    {
      "cell_type": "code",
      "source": [
        "i = 1\n",
        "while i < 6:\n",
        "  print(i)\n",
        "  if i == 3:\n",
        "    break\n",
        "  i +=1"
      ],
      "metadata": {
        "colab": {
          "base_uri": "https://localhost:8080/"
        },
        "id": "5pcDj9yQ07Tj",
        "outputId": "ee9d843c-0f53-4ada-b461-6d0f38fc064c"
      },
      "execution_count": null,
      "outputs": [
        {
          "output_type": "stream",
          "name": "stdout",
          "text": [
            "1\n",
            "2\n",
            "3\n"
          ]
        }
      ]
    },
    {
      "cell_type": "code",
      "source": [
        "i = 0\n",
        "while i < 6:\n",
        "  i += 1\n",
        "  if i == 3:\n",
        "    continue\n",
        "  print(i)"
      ],
      "metadata": {
        "colab": {
          "base_uri": "https://localhost:8080/"
        },
        "id": "dBPA1ZLs2XeK",
        "outputId": "ee61d09c-f42e-42e5-8b17-43fa60d8b5da"
      },
      "execution_count": null,
      "outputs": [
        {
          "output_type": "stream",
          "name": "stdout",
          "text": [
            "1\n",
            "2\n",
            "4\n",
            "5\n",
            "6\n"
          ]
        }
      ]
    },
    {
      "cell_type": "code",
      "source": [
        "i = 0\n",
        "while i < 6:\n",
        "  print(i)\n",
        "  i += 1\n",
        "else:\n",
        "  print(\"i is no longer less than 6\")"
      ],
      "metadata": {
        "colab": {
          "base_uri": "https://localhost:8080/"
        },
        "id": "g-2SjpKO3MIe",
        "outputId": "950c174f-8710-4c04-fff4-b8f94944ea95"
      },
      "execution_count": null,
      "outputs": [
        {
          "output_type": "stream",
          "name": "stdout",
          "text": [
            "0\n",
            "1\n",
            "2\n",
            "3\n",
            "4\n",
            "5\n",
            "i is no longer less than 6\n"
          ]
        }
      ]
    },
    {
      "cell_type": "code",
      "source": [
        "# For Loop statement\n",
        "fruits = [\"apple\",\"orange\",\"mango\"]\n",
        "for x in fruits:\n",
        "  print(x)"
      ],
      "metadata": {
        "colab": {
          "base_uri": "https://localhost:8080/"
        },
        "id": "ZMKHiZJP3fn3",
        "outputId": "84acab86-26b8-420b-ece7-18d0b172fbc0"
      },
      "execution_count": null,
      "outputs": [
        {
          "output_type": "stream",
          "name": "stdout",
          "text": [
            "apple\n",
            "orange\n",
            "mango\n"
          ]
        }
      ]
    },
    {
      "cell_type": "code",
      "source": [
        "for ch in \"banana\":\n",
        "  print(ch)"
      ],
      "metadata": {
        "colab": {
          "base_uri": "https://localhost:8080/"
        },
        "id": "C4rkTXrc3vyf",
        "outputId": "612d848e-70d8-40ad-8231-b08340b1344e"
      },
      "execution_count": null,
      "outputs": [
        {
          "output_type": "stream",
          "name": "stdout",
          "text": [
            "b\n",
            "a\n",
            "n\n",
            "a\n",
            "n\n",
            "a\n"
          ]
        }
      ]
    },
    {
      "cell_type": "code",
      "source": [
        "fruits = [\"apple\",\"mango\",\"banana\",\"strawberry\"]\n",
        "for x in fruits:\n",
        "  print(x)\n",
        "  if x == \"banana\":\n",
        "    break"
      ],
      "metadata": {
        "colab": {
          "base_uri": "https://localhost:8080/"
        },
        "id": "FfjBSicM4KOu",
        "outputId": "509f3cb6-36d8-40e0-90f8-d4b8c5ba6e88"
      },
      "execution_count": null,
      "outputs": [
        {
          "output_type": "stream",
          "name": "stdout",
          "text": [
            "apple\n",
            "mango\n",
            "banana\n"
          ]
        }
      ]
    },
    {
      "cell_type": "code",
      "source": [
        "fruits = [\"apple\",\"mango\",\"banana\",\"strawberry\"]\n",
        "for x in fruits:\n",
        "  if x == \"banana\":\n",
        "    break\n",
        "  print(x)"
      ],
      "metadata": {
        "colab": {
          "base_uri": "https://localhost:8080/"
        },
        "id": "UMjCsr_C4i4D",
        "outputId": "734ee742-b16d-4394-9834-bddec5b28b5c"
      },
      "execution_count": null,
      "outputs": [
        {
          "output_type": "stream",
          "name": "stdout",
          "text": [
            "apple\n",
            "mango\n"
          ]
        }
      ]
    },
    {
      "cell_type": "code",
      "source": [
        "fruits = [\"apple\",\"mango\",\"banana\",\"strawberry\"]\n",
        "for x in fruits:\n",
        "  print(x)\n",
        "  if x == \"banana\":\n",
        "    break"
      ],
      "metadata": {
        "colab": {
          "base_uri": "https://localhost:8080/"
        },
        "id": "lGDYILjf5Jvg",
        "outputId": "0a3c0818-4777-4b31-a12a-530c82b7bb2d"
      },
      "execution_count": null,
      "outputs": [
        {
          "output_type": "stream",
          "name": "stdout",
          "text": [
            "apple\n",
            "mango\n",
            "banana\n"
          ]
        }
      ]
    },
    {
      "cell_type": "code",
      "source": [
        "fruits = [\"apple\",\"mango\",\"banana\",\"strawberry\"]\n",
        "for x in fruits:\n",
        "  if x == \"banana\":\n",
        "    break\n",
        "  print(x)"
      ],
      "metadata": {
        "colab": {
          "base_uri": "https://localhost:8080/"
        },
        "id": "fnVrOJz05iSM",
        "outputId": "de20cebe-da14-4ed9-823d-648a0819b266"
      },
      "execution_count": null,
      "outputs": [
        {
          "output_type": "stream",
          "name": "stdout",
          "text": [
            "apple\n",
            "mango\n"
          ]
        }
      ]
    },
    {
      "cell_type": "code",
      "source": [
        "for i in range(len(fruits)):\n",
        "  print(fruits[i])"
      ],
      "metadata": {
        "colab": {
          "base_uri": "https://localhost:8080/"
        },
        "id": "lF4gGWnG6wlX",
        "outputId": "d031e217-5584-4d22-f907-327a4e229fe9"
      },
      "execution_count": null,
      "outputs": [
        {
          "output_type": "stream",
          "name": "stdout",
          "text": [
            "apple\n",
            "mango\n",
            "banana\n",
            "strawberry\n"
          ]
        }
      ]
    },
    {
      "cell_type": "code",
      "source": [
        "for i in range(0,10):\n",
        "  print(i)"
      ],
      "metadata": {
        "colab": {
          "base_uri": "https://localhost:8080/"
        },
        "id": "yxLG6eLJ7JxL",
        "outputId": "5900532a-6428-42ba-adcb-c47fd80d896c"
      },
      "execution_count": null,
      "outputs": [
        {
          "output_type": "stream",
          "name": "stdout",
          "text": [
            "0\n",
            "1\n",
            "2\n",
            "3\n",
            "4\n",
            "5\n",
            "6\n",
            "7\n",
            "8\n",
            "9\n"
          ]
        }
      ]
    },
    {
      "cell_type": "code",
      "source": [
        "for i in range(0,10,2):\n",
        "  print(i)"
      ],
      "metadata": {
        "colab": {
          "base_uri": "https://localhost:8080/"
        },
        "id": "O3lXT6aW7O46",
        "outputId": "aa1fd14c-85a3-48f4-e3bf-40660c5b4158"
      },
      "execution_count": null,
      "outputs": [
        {
          "output_type": "stream",
          "name": "stdout",
          "text": [
            "0\n",
            "2\n",
            "4\n",
            "6\n",
            "8\n"
          ]
        }
      ]
    },
    {
      "cell_type": "code",
      "source": [
        "for i in range(0,10, 2):\n",
        "  print(i)\n",
        "else:\n",
        "  print(\"it is done!\")"
      ],
      "metadata": {
        "colab": {
          "base_uri": "https://localhost:8080/"
        },
        "id": "9z32FCMK7SzU",
        "outputId": "74fabc6b-c39b-4ba0-b61d-86e3d010606d"
      },
      "execution_count": null,
      "outputs": [
        {
          "output_type": "stream",
          "name": "stdout",
          "text": [
            "0\n",
            "2\n",
            "4\n",
            "6\n",
            "8\n",
            "it is done!\n"
          ]
        }
      ]
    },
    {
      "cell_type": "code",
      "source": [
        "for i in range(6):\n",
        "  if i == 3: break\n",
        "  print(i)\n",
        "else:\n",
        "  print(\"finally finished\")"
      ],
      "metadata": {
        "colab": {
          "base_uri": "https://localhost:8080/"
        },
        "id": "ZPIzjavn7gnT",
        "outputId": "2d07ca0c-5a32-45b2-96b0-8ce4559dcdb9"
      },
      "execution_count": null,
      "outputs": [
        {
          "output_type": "stream",
          "name": "stdout",
          "text": [
            "0\n",
            "1\n",
            "2\n"
          ]
        }
      ]
    },
    {
      "cell_type": "code",
      "source": [
        "# A nested loop is a loop inside a loop.\n",
        "\n",
        "# The \"inner loop\" will be executed one time for each iteration of the \"outer loop\"\n",
        "\n",
        "adj = [\"red\",\"big\",\"tasty\"]\n",
        "fruits = [\"apple\",\"banana\",\"cherry\"]\n",
        "for x in adj:\n",
        "  for y in fruits:\n",
        "    print(x,y)"
      ],
      "metadata": {
        "colab": {
          "base_uri": "https://localhost:8080/"
        },
        "id": "sZm8Ch6s8Bqx",
        "outputId": "d87346eb-fbce-4bf1-e7cb-5bbf5789c653"
      },
      "execution_count": null,
      "outputs": [
        {
          "output_type": "stream",
          "name": "stdout",
          "text": [
            "red apple\n",
            "red banana\n",
            "red cherry\n",
            "big apple\n",
            "big banana\n",
            "big cherry\n",
            "tasty apple\n",
            "tasty banana\n",
            "tasty cherry\n"
          ]
        }
      ]
    },
    {
      "cell_type": "code",
      "source": [
        "  for i in range(0,10,2):\n",
        "    pass"
      ],
      "metadata": {
        "id": "ckIcQAr89ALX"
      },
      "execution_count": null,
      "outputs": []
    },
    {
      "cell_type": "markdown",
      "source": [
        "# Python Functions\n",
        "A function is a block of code which runs only when it is called.\n",
        "\n",
        "One can pass data, known as parameters into a function."
      ],
      "metadata": {
        "id": "JazLRAu4XF-k"
      }
    },
    {
      "cell_type": "code",
      "source": [
        "def my_function():\n",
        "  print(\"Hello from a function\")\n",
        "my_function()"
      ],
      "metadata": {
        "id": "wa8nrSjB9W9Y",
        "colab": {
          "base_uri": "https://localhost:8080/"
        },
        "outputId": "de902cb5-9920-44d4-8e84-b4f77595e8ac"
      },
      "execution_count": null,
      "outputs": [
        {
          "output_type": "stream",
          "name": "stdout",
          "text": [
            "Hello from a function\n"
          ]
        }
      ]
    },
    {
      "cell_type": "markdown",
      "source": [
        "Information can be passed into a function as arguments.\n",
        "\n",
        "Arguments are specified after the function name, inside the parantheses. One can add many arguments as one wants, just by separating them with a comma.\n"
      ],
      "metadata": {
        "id": "422r6hEDXsdQ"
      }
    },
    {
      "cell_type": "code",
      "source": [
        "def my_function(fname):\n",
        "  print(fname + \"Refsnes\")\n",
        "my_function(\"Emil\")\n",
        "my_function(\"Tobias\")\n",
        "my_function(\"Linus\")"
      ],
      "metadata": {
        "colab": {
          "base_uri": "https://localhost:8080/"
        },
        "id": "ia1x8kVwXhFF",
        "outputId": "e82fc2b3-2f33-4779-bc27-9302f751a190"
      },
      "execution_count": null,
      "outputs": [
        {
          "output_type": "stream",
          "name": "stdout",
          "text": [
            "EmilRefsnes\n",
            "TobiasRefsnes\n",
            "LinusRefsnes\n"
          ]
        }
      ]
    },
    {
      "cell_type": "markdown",
      "source": [
        "Parameters or Arguments\n",
        "\n",
        "From a function's perspective:\n",
        "\n",
        "A parameter is the variable listed inside the parantheses in the function definition.\n",
        "\n",
        "An argument is the value that is sent to the function when it is called.\n",
        "\n",
        "By default, a function must be called with the correct number of arguments. Meaning that if your function expects 2 arguments, you have to call the function with 2 arguments, not more, and not less."
      ],
      "metadata": {
        "id": "N0s_9mMvYgga"
      }
    },
    {
      "cell_type": "code",
      "source": [
        "def my_function(fname,lname):\n",
        "  print(fname + \" \" + lname)\n",
        "my_function(\"Emil\",\"Refsens\")"
      ],
      "metadata": {
        "colab": {
          "base_uri": "https://localhost:8080/"
        },
        "id": "DdVEge8-YJqg",
        "outputId": "4d452740-8e6f-4088-eae9-5353921901d5"
      },
      "execution_count": null,
      "outputs": [
        {
          "output_type": "stream",
          "name": "stdout",
          "text": [
            "Emil Refsens\n"
          ]
        }
      ]
    },
    {
      "cell_type": "markdown",
      "source": [
        "# Arbitary Arguments, *args\n",
        "If one does not know how many arguments will be passed into the function, add a * before the parameter name in the function definition, this way the function will receive a tuple of arguments."
      ],
      "metadata": {
        "id": "oiukcBgUZT8s"
      }
    },
    {
      "cell_type": "code",
      "source": [
        "def my_function(*args):\n",
        "  print(\"The youngest child is \" + args[2])\n",
        "my_function(\"Emil\",\"Tobias\",\"Linus\")"
      ],
      "metadata": {
        "colab": {
          "base_uri": "https://localhost:8080/"
        },
        "id": "Ur5TQZDBZRX9",
        "outputId": "97a330a7-5077-4b11-9709-77935a8f5b42"
      },
      "execution_count": null,
      "outputs": [
        {
          "output_type": "stream",
          "name": "stdout",
          "text": [
            "The youngest child is Linus\n"
          ]
        }
      ]
    },
    {
      "cell_type": "code",
      "source": [
        "# one can send arguments with the key = value syntax, the order of arguments is not important.\n",
        "def my_function(child3,child2,child1):\n",
        "  print(\"The youngest child is \" + child3)\n",
        "\n",
        "my_function(child1 = \"Emil\", child2 = \"Tobias\", child3 = \"Linus\")"
      ],
      "metadata": {
        "colab": {
          "base_uri": "https://localhost:8080/"
        },
        "id": "LHLC2jDwZ6Zp",
        "outputId": "275732fe-9984-49fe-90c5-5c99867691dc"
      },
      "execution_count": null,
      "outputs": [
        {
          "output_type": "stream",
          "name": "stdout",
          "text": [
            "The youngest child is Linus\n"
          ]
        }
      ]
    },
    {
      "cell_type": "markdown",
      "source": [
        "# Arbitary Keywords Arguments (**kwargs)\n",
        "If one does noy know how many keyword arguments will be passed into your function, add two asterisk ** before the parameter name in the function definition, this way the function will receive a dictionary of arguments.\n"
      ],
      "metadata": {
        "id": "xAAGLyKRadsI"
      }
    },
    {
      "cell_type": "code",
      "source": [
        "def my_function(**kwargs):\n",
        "  print(\"His last name is \" + kwargs[\"lname\"])\n",
        "\n",
        "my_function(fname = \"Tobias\", lname = \"Linus\")"
      ],
      "metadata": {
        "colab": {
          "base_uri": "https://localhost:8080/"
        },
        "id": "acHnA4YSaac0",
        "outputId": "744fa243-a3c3-48c2-e171-19df3e913dd2"
      },
      "execution_count": null,
      "outputs": [
        {
          "output_type": "stream",
          "name": "stdout",
          "text": [
            "His last name is Linus\n"
          ]
        }
      ]
    },
    {
      "cell_type": "code",
      "source": [
        "# Default Parameter Value\n",
        "# If one call the function without argument, it uses the default value\n",
        "def my_function(country = \"Norway\"):\n",
        "  print(\"I am from \" + country)\n",
        "\n",
        "my_function(\"Spain\")\n",
        "my_function(\"India\")\n",
        "my_function()"
      ],
      "metadata": {
        "colab": {
          "base_uri": "https://localhost:8080/"
        },
        "id": "KWR1Rl4dbNM2",
        "outputId": "06c12076-d60d-431f-d62a-65bee1b5b236"
      },
      "execution_count": null,
      "outputs": [
        {
          "output_type": "stream",
          "name": "stdout",
          "text": [
            "I am from Spain\n",
            "I am from India\n",
            "I am from Norway\n"
          ]
        }
      ]
    },
    {
      "cell_type": "markdown",
      "source": [
        "# Passing a List as an argument\n",
        "One can send any data types of argument to a function(string, number, list, dictionary) and it will be treated as the same data type inside the function."
      ],
      "metadata": {
        "id": "rhTHTYPxbwUP"
      }
    },
    {
      "cell_type": "code",
      "source": [
        "def my_function(food):\n",
        "  for x in food:\n",
        "    print(x)\n",
        "\n",
        "fruits = [\"apple\",\"banana\",\"cherry\"]\n",
        "\n",
        "my_function(fruits)"
      ],
      "metadata": {
        "colab": {
          "base_uri": "https://localhost:8080/"
        },
        "id": "J25u62xqbstX",
        "outputId": "d3d3d7f8-6f91-4bac-cbff-cb6bc1167e39"
      },
      "execution_count": null,
      "outputs": [
        {
          "output_type": "stream",
          "name": "stdout",
          "text": [
            "apple\n",
            "banana\n",
            "cherry\n"
          ]
        }
      ]
    },
    {
      "cell_type": "code",
      "source": [
        "# return Values: a function return a value, use the return statement\n",
        "\n",
        "def my_function(x):\n",
        "  return 5 * x\n",
        "\n",
        "print(my_function(3))\n",
        "print(my_function(5))\n",
        "print(my_function(9))"
      ],
      "metadata": {
        "colab": {
          "base_uri": "https://localhost:8080/"
        },
        "id": "f1S_0wwPcTtz",
        "outputId": "50737010-ab78-4777-b62a-a15d1bafb14a"
      },
      "execution_count": null,
      "outputs": [
        {
          "output_type": "stream",
          "name": "stdout",
          "text": [
            "15\n",
            "25\n",
            "45\n"
          ]
        }
      ]
    },
    {
      "cell_type": "code",
      "source": [
        "\"\"\"\n",
        "The Pass Statement:\n",
        "Function definition can not be empty, but if you for some reason\n",
        "have a function definition with no content, put in the pass statement\n",
        "to avoid getting an error.\n",
        "\"\"\"\n",
        "def my_function():\n",
        "  pass\n",
        "\n",
        "my_function()"
      ],
      "metadata": {
        "id": "YBbIQMhPcqIr"
      },
      "execution_count": null,
      "outputs": []
    },
    {
      "cell_type": "code",
      "source": [
        "# Positional - only Arguments\n",
        "# One can specify a function that can have only positional arguments,\n",
        "# or only keyword arguments\n",
        "# To specify that a function can have only positional arguments add, / after the argument\n",
        "\n",
        "def my_function(x, /):\n",
        "  print(x)\n",
        "\n",
        "my_function(3)\n",
        "my_function(x = 3) # will raise an error\n"
      ],
      "metadata": {
        "colab": {
          "base_uri": "https://localhost:8080/",
          "height": 253
        },
        "id": "0vwksroodKBn",
        "outputId": "e710e350-566c-4ed4-d177-37ad102fe3f2"
      },
      "execution_count": null,
      "outputs": [
        {
          "output_type": "stream",
          "name": "stdout",
          "text": [
            "3\n"
          ]
        },
        {
          "output_type": "error",
          "ename": "TypeError",
          "evalue": "my_function() got some positional-only arguments passed as keyword arguments: 'x'",
          "traceback": [
            "\u001b[0;31m---------------------------------------------------------------------------\u001b[0m",
            "\u001b[0;31mTypeError\u001b[0m                                 Traceback (most recent call last)",
            "\u001b[0;32m<ipython-input-19-639e19a1849c>\u001b[0m in \u001b[0;36m<cell line: 10>\u001b[0;34m()\u001b[0m\n\u001b[1;32m      8\u001b[0m \u001b[0;34m\u001b[0m\u001b[0m\n\u001b[1;32m      9\u001b[0m \u001b[0mmy_function\u001b[0m\u001b[0;34m(\u001b[0m\u001b[0;36m3\u001b[0m\u001b[0;34m)\u001b[0m\u001b[0;34m\u001b[0m\u001b[0;34m\u001b[0m\u001b[0m\n\u001b[0;32m---> 10\u001b[0;31m \u001b[0mmy_function\u001b[0m\u001b[0;34m(\u001b[0m\u001b[0mx\u001b[0m \u001b[0;34m=\u001b[0m \u001b[0;36m3\u001b[0m\u001b[0;34m)\u001b[0m \u001b[0;31m# will raise an error\u001b[0m\u001b[0;34m\u001b[0m\u001b[0;34m\u001b[0m\u001b[0m\n\u001b[0m",
            "\u001b[0;31mTypeError\u001b[0m: my_function() got some positional-only arguments passed as keyword arguments: 'x'"
          ]
        }
      ]
    },
    {
      "cell_type": "markdown",
      "source": [
        "Without the, / one is allowed to use keyword argument even if the function expects positional arguments. But when , / is added, one will get an erro if he/she tries to send a keyword argument."
      ],
      "metadata": {
        "id": "lowvrc5mhvoS"
      }
    },
    {
      "cell_type": "code",
      "source": [
        "# Keyword only Argument: To specify that a function have only keyword\n",
        "# arguments, add *, before the argument\n",
        "\n",
        "def my_function(*, x):\n",
        "  print(x)\n",
        "\n",
        "my_function(x = 10)"
      ],
      "metadata": {
        "colab": {
          "base_uri": "https://localhost:8080/"
        },
        "id": "IOzv-m_SgfFz",
        "outputId": "e1f87108-5b28-42ff-8bb5-5362d65d29a0"
      },
      "execution_count": null,
      "outputs": [
        {
          "output_type": "stream",
          "name": "stdout",
          "text": [
            "10\n"
          ]
        }
      ]
    },
    {
      "cell_type": "code",
      "source": [
        "# Without the *, one is allowed to use positional arguments even if the\n",
        "# function expects keyword arguments\n",
        "\n",
        "def my_function(*, x):\n",
        "  print(x)\n",
        "\n",
        "my_function(3)"
      ],
      "metadata": {
        "colab": {
          "base_uri": "https://localhost:8080/",
          "height": 216
        },
        "id": "DY1OJyYJiWFU",
        "outputId": "5ee85abd-fcf8-4329-da39-98a2dc7a614e"
      },
      "execution_count": null,
      "outputs": [
        {
          "output_type": "error",
          "ename": "TypeError",
          "evalue": "my_function() takes 0 positional arguments but 1 was given",
          "traceback": [
            "\u001b[0;31m---------------------------------------------------------------------------\u001b[0m",
            "\u001b[0;31mTypeError\u001b[0m                                 Traceback (most recent call last)",
            "\u001b[0;32m<ipython-input-21-0e2401839cb6>\u001b[0m in \u001b[0;36m<cell line: 7>\u001b[0;34m()\u001b[0m\n\u001b[1;32m      5\u001b[0m   \u001b[0mprint\u001b[0m\u001b[0;34m(\u001b[0m\u001b[0mx\u001b[0m\u001b[0;34m)\u001b[0m\u001b[0;34m\u001b[0m\u001b[0;34m\u001b[0m\u001b[0m\n\u001b[1;32m      6\u001b[0m \u001b[0;34m\u001b[0m\u001b[0m\n\u001b[0;32m----> 7\u001b[0;31m \u001b[0mmy_function\u001b[0m\u001b[0;34m(\u001b[0m\u001b[0;36m3\u001b[0m\u001b[0;34m)\u001b[0m\u001b[0;34m\u001b[0m\u001b[0;34m\u001b[0m\u001b[0m\n\u001b[0m",
            "\u001b[0;31mTypeError\u001b[0m: my_function() takes 0 positional arguments but 1 was given"
          ]
        }
      ]
    },
    {
      "cell_type": "markdown",
      "source": [
        "# combine Positional only and Keyword-only\n",
        "One can combine the two argument types in the same function.\n",
        "\n",
        "Any argument before the / , are positional, and any argument after the *, are key word - only"
      ],
      "metadata": {
        "id": "JtjQEIDAi3Ox"
      }
    },
    {
      "cell_type": "code",
      "source": [
        "def my_function(x,y,/,*,w,z):\n",
        "  print(x,y,w,z)\n",
        "\n",
        "my_function(3,4,w = 5,z = 6)"
      ],
      "metadata": {
        "colab": {
          "base_uri": "https://localhost:8080/"
        },
        "id": "p1e5YfJ-is-p",
        "outputId": "115ef925-ba59-4921-dc67-60e464cc5f3d"
      },
      "execution_count": null,
      "outputs": [
        {
          "output_type": "stream",
          "name": "stdout",
          "text": [
            "3 4 5 6\n"
          ]
        }
      ]
    },
    {
      "cell_type": "code",
      "source": [
        "def my_function(x,y,/,*,w,z):\n",
        "  print(x + y + w + z)\n",
        "\n",
        "my_function(3,4,w = 5,z = 6)"
      ],
      "metadata": {
        "colab": {
          "base_uri": "https://localhost:8080/"
        },
        "id": "O43ftjO6jS6d",
        "outputId": "13cd760b-2d0f-4f89-e3a9-02a290b293b6"
      },
      "execution_count": null,
      "outputs": [
        {
          "output_type": "stream",
          "name": "stdout",
          "text": [
            "18\n"
          ]
        }
      ]
    },
    {
      "cell_type": "markdown",
      "source": [
        "# Recursion\n",
        "Python accepts function recursion, which means a defined function can call itself, which has the benefit of the meaning that one can loop through data to reach a result.\n",
        "\n",
        "Drawbacks are: a function that never terminates, or one that uses excess amounts of memorry or processor power.\n",
        "\n",
        "\n"
      ],
      "metadata": {
        "id": "0sINhHTNjgoi"
      }
    },
    {
      "cell_type": "code",
      "source": [
        "# Recursion Example\n",
        "\n",
        "def tri_recursion(k):\n",
        "  if(k > 0):\n",
        "    result = k + tri_recursion(k - 1)\n",
        "    print(result)\n",
        "  else:\n",
        "    result = 0\n",
        "  return result\n",
        "\n",
        "print(\"\\n\\nRecursion Example result\")\n",
        "tri_recursion(6)"
      ],
      "metadata": {
        "colab": {
          "base_uri": "https://localhost:8080/"
        },
        "id": "wg-Uwj2cjexd",
        "outputId": "41636965-7130-42bc-ff77-f63569c894f5"
      },
      "execution_count": null,
      "outputs": [
        {
          "output_type": "stream",
          "name": "stdout",
          "text": [
            "\n",
            "\n",
            "Recursion Example result\n",
            "1\n",
            "3\n",
            "6\n",
            "10\n",
            "15\n",
            "21\n"
          ]
        },
        {
          "output_type": "execute_result",
          "data": {
            "text/plain": [
              "21"
            ]
          },
          "metadata": {},
          "execution_count": 25
        }
      ]
    },
    {
      "cell_type": "markdown",
      "source": [
        "# Python Lambda\n",
        "\n",
        "A lambda function is a small anonymous function.\n",
        "\n",
        "A lambda function can take any numbe of arguments, but can only have one expression.\n",
        "\n",
        "lambda arguments: expession"
      ],
      "metadata": {
        "id": "tQtFnytRlNhl"
      }
    },
    {
      "cell_type": "code",
      "source": [
        "x= lambda a,b: a+b\n",
        "\n",
        "print(x(4,5))"
      ],
      "metadata": {
        "colab": {
          "base_uri": "https://localhost:8080/"
        },
        "id": "osrXyYflkpBM",
        "outputId": "e60a52b0-400e-4aa8-dfe7-0c7a7207a640"
      },
      "execution_count": null,
      "outputs": [
        {
          "output_type": "stream",
          "name": "stdout",
          "text": [
            "9\n"
          ]
        }
      ]
    },
    {
      "cell_type": "code",
      "source": [
        "x = lambda a: a + 10\n",
        "print(x(2))"
      ],
      "metadata": {
        "colab": {
          "base_uri": "https://localhost:8080/"
        },
        "id": "w3LhGEsLlomU",
        "outputId": "2a2e278d-f5c3-4bd1-9310-011a2fc949c8"
      },
      "execution_count": null,
      "outputs": [
        {
          "output_type": "stream",
          "name": "stdout",
          "text": [
            "12\n"
          ]
        }
      ]
    },
    {
      "cell_type": "code",
      "source": [
        "x = lambda a,b,c: a + b * c\n",
        "print(x(2,3,4))"
      ],
      "metadata": {
        "colab": {
          "base_uri": "https://localhost:8080/"
        },
        "id": "J3N9zEsDmQyd",
        "outputId": "b7ffcb27-6799-44b5-d319-0a1398a9d945"
      },
      "execution_count": null,
      "outputs": [
        {
          "output_type": "stream",
          "name": "stdout",
          "text": [
            "14\n"
          ]
        }
      ]
    },
    {
      "cell_type": "markdown",
      "source": [
        "# Why use lambda function\n",
        "The power of lambda is better shown when one uses it as an anonymous function inside of another function."
      ],
      "metadata": {
        "id": "iYAXezMYmhOZ"
      }
    },
    {
      "cell_type": "code",
      "source": [
        "def my_function(n):\n",
        "  return lambda a: a * n\n",
        "\n",
        "my_doubler = my_function(2)\n",
        "print(my_doubler(11))\n"
      ],
      "metadata": {
        "colab": {
          "base_uri": "https://localhost:8080/"
        },
        "id": "4SPom-uombc5",
        "outputId": "0ebf453d-ec2a-414c-c2ea-d4d60e27075d"
      },
      "execution_count": null,
      "outputs": [
        {
          "output_type": "stream",
          "name": "stdout",
          "text": [
            "22\n"
          ]
        }
      ]
    },
    {
      "cell_type": "code",
      "source": [
        "def my_function(a,b,c):\n",
        "  return lambda x: x + a + b * c\n",
        "\n",
        "newfunc = my_function(2,3,4)\n",
        "print(newfunc(11))"
      ],
      "metadata": {
        "colab": {
          "base_uri": "https://localhost:8080/"
        },
        "id": "Wt9I6sOjoPaN",
        "outputId": "8c059ad8-3a50-4d86-aa5a-0d78549e0e59"
      },
      "execution_count": null,
      "outputs": [
        {
          "output_type": "stream",
          "name": "stdout",
          "text": [
            "25\n"
          ]
        }
      ]
    },
    {
      "cell_type": "markdown",
      "source": [
        "# Python Arrays\n",
        "Python does not have built-in support for arrays, but python lists can be used instead. To work with arrays, a python library called numpy can be used.\n",
        "\n"
      ],
      "metadata": {
        "id": "KVzhccHhpLXs"
      }
    },
    {
      "cell_type": "code",
      "source": [
        "# Creating an array containing car names\n",
        "cars = [\"Ford\",\"Bmw\",\"Alpha\"]\n",
        "# Access the elements of an array\n",
        "cars[0]\n"
      ],
      "metadata": {
        "colab": {
          "base_uri": "https://localhost:8080/",
          "height": 36
        },
        "id": "At5lZ4bmo-Vq",
        "outputId": "b3d7844d-8bf8-4a9f-d3ec-3816351f0125"
      },
      "execution_count": null,
      "outputs": [
        {
          "output_type": "execute_result",
          "data": {
            "text/plain": [
              "'Ford'"
            ],
            "application/vnd.google.colaboratory.intrinsic+json": {
              "type": "string"
            }
          },
          "metadata": {},
          "execution_count": 45
        }
      ]
    },
    {
      "cell_type": "code",
      "source": [
        "# Modifying the value in an array\n",
        "cars[1] = \"Jeep\"\n",
        "print(cars)"
      ],
      "metadata": {
        "colab": {
          "base_uri": "https://localhost:8080/"
        },
        "id": "m_IE7OVip8gN",
        "outputId": "7a244de0-498a-4c0e-df75-bd72b3b654f4"
      },
      "execution_count": null,
      "outputs": [
        {
          "output_type": "stream",
          "name": "stdout",
          "text": [
            "['Ford', 'Jeep', 'Alpha']\n"
          ]
        }
      ]
    },
    {
      "cell_type": "code",
      "source": [
        "# Use len() method to return the length of an array\n",
        "len(cars)"
      ],
      "metadata": {
        "colab": {
          "base_uri": "https://localhost:8080/"
        },
        "id": "xswXgm2XqN9B",
        "outputId": "45985da5-4ac4-443b-ceae-6f1957d8c27f"
      },
      "execution_count": null,
      "outputs": [
        {
          "output_type": "execute_result",
          "data": {
            "text/plain": [
              "3"
            ]
          },
          "metadata": {},
          "execution_count": 47
        }
      ]
    },
    {
      "cell_type": "code",
      "source": [
        "# Looping through an array\n",
        "cars = [\"BMW\",\"JEEP\",\"FORD\"]\n",
        "for x in cars:\n",
        "  print(x)"
      ],
      "metadata": {
        "colab": {
          "base_uri": "https://localhost:8080/"
        },
        "id": "jW9YcdR_qXbx",
        "outputId": "312ed2b6-addd-4cfc-f95b-b8ac6965ec33"
      },
      "execution_count": null,
      "outputs": [
        {
          "output_type": "stream",
          "name": "stdout",
          "text": [
            "BMW\n",
            "JEEP\n",
            "FORD\n"
          ]
        }
      ]
    },
    {
      "cell_type": "code",
      "source": [
        "# Adding Array Elements: One can use append() method to add elements to the array\n",
        "cars.append(\"BENZ\")\n",
        "print(cars)"
      ],
      "metadata": {
        "colab": {
          "base_uri": "https://localhost:8080/"
        },
        "id": "_fVfcuAfqjun",
        "outputId": "9aebed08-d0e1-4780-84ff-a2beb94d74a7"
      },
      "execution_count": null,
      "outputs": [
        {
          "output_type": "stream",
          "name": "stdout",
          "text": [
            "['BMW', 'JEEP', 'FORD', 'BENZ']\n"
          ]
        }
      ]
    },
    {
      "cell_type": "code",
      "source": [
        "# removing Array Elements: one can use pop() method\n",
        "cars.pop(3)\n",
        "print(cars)"
      ],
      "metadata": {
        "colab": {
          "base_uri": "https://localhost:8080/"
        },
        "id": "nCQYRzT6qxXK",
        "outputId": "94079b4a-8d0e-4766-ce09-37c2969df13c"
      },
      "execution_count": null,
      "outputs": [
        {
          "output_type": "stream",
          "name": "stdout",
          "text": [
            "['BMW', 'JEEP', 'FORD']\n"
          ]
        }
      ]
    },
    {
      "cell_type": "code",
      "source": [
        "# removing an element from an array: one can use remove() method\n",
        "cars = [\"BMW\",\"FORD\",\"JEEP\",\"BENZ\"]\n",
        "cars.remove(\"BENZ\")\n",
        "print(cars)"
      ],
      "metadata": {
        "colab": {
          "base_uri": "https://localhost:8080/"
        },
        "id": "10OdNIcuq7F7",
        "outputId": "934c180a-1143-41c7-b431-fa1e2d8a41dc"
      },
      "execution_count": null,
      "outputs": [
        {
          "output_type": "stream",
          "name": "stdout",
          "text": [
            "['BMW', 'FORD', 'JEEP']\n"
          ]
        }
      ]
    },
    {
      "cell_type": "markdown",
      "source": [
        "Note: The list's remove() method only removes the first occurance of the specified value."
      ],
      "metadata": {
        "id": "C0taVr_TrauN"
      }
    },
    {
      "cell_type": "markdown",
      "source": [
        "# Python Classes and Objects\n",
        "Python is an object Oriented Programming language. Almost everything in python is an object, with its properties and methods."
      ],
      "metadata": {
        "id": "76P7KcPprrPe"
      }
    },
    {
      "cell_type": "code",
      "source": [
        "# Creating a class\n",
        "class MyClass:\n",
        "  x = 5"
      ],
      "metadata": {
        "id": "VOk-wsiSrM80"
      },
      "execution_count": null,
      "outputs": []
    },
    {
      "cell_type": "code",
      "source": [
        "# Create an Object: one can use the class name to create an object\n",
        "class MyClass:\n",
        "  x = 5\n",
        "p1 = MyClass()\n",
        "print(p1.x)"
      ],
      "metadata": {
        "colab": {
          "base_uri": "https://localhost:8080/"
        },
        "id": "fCBTPGQ2vW1c",
        "outputId": "78188eec-0a25-47e3-d07a-c6cd5aeffce3"
      },
      "execution_count": null,
      "outputs": [
        {
          "output_type": "stream",
          "name": "stdout",
          "text": [
            "5\n"
          ]
        }
      ]
    },
    {
      "cell_type": "markdown",
      "source": [
        "# The __init__() function\n",
        "All classes have a function called __init__(), which is always executed when the class is being initiated.\n",
        "\n",
        "Use the __init__() function assign values to object properties or other operations that are necessary to do when the object is being executed.\n",
        "\n",
        "The __init__() function is called automatically every time the class is being used to create a new object.\n",
        "\n"
      ],
      "metadata": {
        "id": "2h3c59gFvtIv"
      }
    },
    {
      "cell_type": "code",
      "source": [
        "class MyClass:\n",
        "  def __init__(self,fname,age):\n",
        "    self.fname = fname\n",
        "    self.age = age\n",
        "\n",
        "p1 = MyClass(\"John\",61)\n",
        "print(p1.fname)\n",
        "print(p1.age)\n"
      ],
      "metadata": {
        "colab": {
          "base_uri": "https://localhost:8080/"
        },
        "id": "aANuHQ7avlZq",
        "outputId": "8b180747-eb83-446d-9528-8ee530a03ab1"
      },
      "execution_count": null,
      "outputs": [
        {
          "output_type": "stream",
          "name": "stdout",
          "text": [
            "John\n",
            "61\n"
          ]
        }
      ]
    },
    {
      "cell_type": "markdown",
      "source": [
        "# The __str__ Function\n",
        "The __str__() function controls what should be returned when the class object is represented as a string.\n"
      ],
      "metadata": {
        "id": "kpHkD7St7ErG"
      }
    },
    {
      "cell_type": "code",
      "source": [
        "# The string representation of an object without the __str__() function\n",
        "class person:\n",
        "  def __init__(self,fname,age):\n",
        "    self.fname = fname\n",
        "    self.age = age\n",
        "\n",
        "p1 = person(\"John\",36)\n",
        "print(p1)"
      ],
      "metadata": {
        "id": "QXXpBlz6xUEX",
        "colab": {
          "base_uri": "https://localhost:8080/"
        },
        "outputId": "4fb7a06a-7d6c-4988-f901-939cc45e4a63"
      },
      "execution_count": null,
      "outputs": [
        {
          "output_type": "stream",
          "name": "stdout",
          "text": [
            "<__main__.person object at 0x7d5916420e80>\n"
          ]
        }
      ]
    },
    {
      "cell_type": "code",
      "source": [
        "# The string representation of an object with __str__() function\n",
        "class person:\n",
        "  def __init__(self,name,age):\n",
        "    self.name = name\n",
        "    self.age = age\n",
        "  def __str__(self):\n",
        "    return(f\"{self.name},{self.age}\")\n",
        "\n",
        "p1 = person(\"John\",36)\n",
        "print(p1)"
      ],
      "metadata": {
        "colab": {
          "base_uri": "https://localhost:8080/"
        },
        "id": "0F8aofByqqWm",
        "outputId": "0f266b55-8031-46a9-bfa6-abd96c4bb949"
      },
      "execution_count": null,
      "outputs": [
        {
          "output_type": "stream",
          "name": "stdout",
          "text": [
            "John,36\n"
          ]
        }
      ]
    },
    {
      "cell_type": "markdown",
      "source": [
        "# Object Method\n",
        "Objects can also contain methods. Methods in objects are functions that belong to the object.\n",
        "\n",
        "The self parameter is a reference to the current instance of the class, and is used to access variables that belong to the class."
      ],
      "metadata": {
        "id": "_q-ukqQQrxMV"
      }
    },
    {
      "cell_type": "code",
      "source": [
        "class person:\n",
        "  def __init__(self,name,age):\n",
        "    self.name = name\n",
        "    self.age = age\n",
        "  def myfunc(self):\n",
        "    print(f\"my name is {self.name} and my age is {self.age}\")\n",
        "\n",
        "p1 = person(\"John\",36)\n",
        "p1.myfunc()"
      ],
      "metadata": {
        "colab": {
          "base_uri": "https://localhost:8080/"
        },
        "id": "tPirAvw7rog8",
        "outputId": "7a9e30cd-ec6a-4dbf-c1cb-e6fa597fb8bb"
      },
      "execution_count": null,
      "outputs": [
        {
          "output_type": "stream",
          "name": "stdout",
          "text": [
            "my name is John and my age is 36\n"
          ]
        }
      ]
    },
    {
      "cell_type": "markdown",
      "source": [
        "# The Self Parameter\n",
        "The self parameter is a reference to the current instance of the class, and is used to access variables that belong to the class."
      ],
      "metadata": {
        "id": "FO6ObvQMukEl"
      }
    },
    {
      "cell_type": "code",
      "source": [
        "# Using other words instead of self\n",
        "class person:\n",
        "  def __init__(anothername,name,lname,age):\n",
        "    anothername.name = name\n",
        "    anothername.age = age\n",
        "  def myfunc(abc):\n",
        "    print(\"My name is \" + abc.name)\n",
        "\n",
        "p1 = person(\"John\",\"Tobias\",36)\n",
        "p1.myfunc()\n"
      ],
      "metadata": {
        "colab": {
          "base_uri": "https://localhost:8080/"
        },
        "id": "6KprkbXVuZIE",
        "outputId": "6d79c7df-746a-491a-da3e-a6d8b8f1b3b8"
      },
      "execution_count": null,
      "outputs": [
        {
          "output_type": "stream",
          "name": "stdout",
          "text": [
            "My name is John\n"
          ]
        }
      ]
    },
    {
      "cell_type": "code",
      "source": [
        "# To modify Object Properties\n",
        "p1.age = 40\n",
        "p1.age"
      ],
      "metadata": {
        "colab": {
          "base_uri": "https://localhost:8080/"
        },
        "id": "x34eDb4L0kHI",
        "outputId": "6dfc1856-78b6-4ca2-e2b1-9dd7e4517eff"
      },
      "execution_count": null,
      "outputs": [
        {
          "output_type": "execute_result",
          "data": {
            "text/plain": [
              "40"
            ]
          },
          "metadata": {},
          "execution_count": 13
        }
      ]
    },
    {
      "cell_type": "code",
      "source": [
        "# Delete Object Properties\n",
        "del p1.age\n",
        "p1.age"
      ],
      "metadata": {
        "colab": {
          "base_uri": "https://localhost:8080/",
          "height": 216
        },
        "id": "XWhUGeQR1Mhs",
        "outputId": "5d55e3e8-ef21-4afd-e672-87e7f0446f7f"
      },
      "execution_count": null,
      "outputs": [
        {
          "output_type": "error",
          "ename": "AttributeError",
          "evalue": "'person' object has no attribute 'age'",
          "traceback": [
            "\u001b[0;31m---------------------------------------------------------------------------\u001b[0m",
            "\u001b[0;31mAttributeError\u001b[0m                            Traceback (most recent call last)",
            "\u001b[0;32m<ipython-input-14-61fc539adc15>\u001b[0m in \u001b[0;36m<cell line: 3>\u001b[0;34m()\u001b[0m\n\u001b[1;32m      1\u001b[0m \u001b[0;31m# Delete Object Properties\u001b[0m\u001b[0;34m\u001b[0m\u001b[0;34m\u001b[0m\u001b[0m\n\u001b[1;32m      2\u001b[0m \u001b[0;32mdel\u001b[0m \u001b[0mp1\u001b[0m\u001b[0;34m.\u001b[0m\u001b[0mage\u001b[0m\u001b[0;34m\u001b[0m\u001b[0;34m\u001b[0m\u001b[0m\n\u001b[0;32m----> 3\u001b[0;31m \u001b[0mp1\u001b[0m\u001b[0;34m.\u001b[0m\u001b[0mage\u001b[0m\u001b[0;34m\u001b[0m\u001b[0;34m\u001b[0m\u001b[0m\n\u001b[0m",
            "\u001b[0;31mAttributeError\u001b[0m: 'person' object has no attribute 'age'"
          ]
        }
      ]
    },
    {
      "cell_type": "code",
      "source": [
        "# delete Objects\n",
        "del p1\n",
        "p1.age"
      ],
      "metadata": {
        "colab": {
          "base_uri": "https://localhost:8080/",
          "height": 216
        },
        "id": "WVzRXp1v1XVH",
        "outputId": "cdeca86f-4b44-45fc-b394-6eb57a3ac98d"
      },
      "execution_count": null,
      "outputs": [
        {
          "output_type": "error",
          "ename": "NameError",
          "evalue": "name 'p1' is not defined",
          "traceback": [
            "\u001b[0;31m---------------------------------------------------------------------------\u001b[0m",
            "\u001b[0;31mNameError\u001b[0m                                 Traceback (most recent call last)",
            "\u001b[0;32m<ipython-input-15-e12161bfce2a>\u001b[0m in \u001b[0;36m<cell line: 3>\u001b[0;34m()\u001b[0m\n\u001b[1;32m      1\u001b[0m \u001b[0;31m# delete Objects\u001b[0m\u001b[0;34m\u001b[0m\u001b[0;34m\u001b[0m\u001b[0m\n\u001b[1;32m      2\u001b[0m \u001b[0;32mdel\u001b[0m \u001b[0mp1\u001b[0m\u001b[0;34m\u001b[0m\u001b[0;34m\u001b[0m\u001b[0m\n\u001b[0;32m----> 3\u001b[0;31m \u001b[0mp1\u001b[0m\u001b[0;34m.\u001b[0m\u001b[0mage\u001b[0m\u001b[0;34m\u001b[0m\u001b[0;34m\u001b[0m\u001b[0m\n\u001b[0m",
            "\u001b[0;31mNameError\u001b[0m: name 'p1' is not defined"
          ]
        }
      ]
    },
    {
      "cell_type": "code",
      "source": [
        "\"\"\" The Pass Statement\n",
        "class definition can not be empty, but if you for some reason have a class definition\n",
        "with no content, put in the pass statement to avoid getting an error.\n",
        "\"\"\"\n",
        "class person:\n",
        "  pass"
      ],
      "metadata": {
        "id": "aWA9rZMO1dc7"
      },
      "execution_count": null,
      "outputs": []
    },
    {
      "cell_type": "markdown",
      "source": [
        "# Python Inheritance\n",
        "\n",
        "Inheritance allows us to define a class that inherits all the methods and properties from another class.\n",
        "\n",
        "Parent class is the class being inherited from alse called base class.\n",
        "\n",
        "Child class is the class that inherits from another class, also called derived class."
      ],
      "metadata": {
        "id": "XCdHuor-3g_A"
      }
    },
    {
      "cell_type": "code",
      "source": [
        "# create a Parent Class: any class can be a parent class, so the syntax is the same as creating any other class.\n",
        "class person:\n",
        "  def __init__(self,name,age):\n",
        "    self.name = name\n",
        "    self.age = age\n",
        "  def myfunc(self):\n",
        "    print(f\"my name is {self.name},my age is {self.age}\")\n",
        "p1 = person(\"John\",36)\n",
        "p1.myfunc()"
      ],
      "metadata": {
        "colab": {
          "base_uri": "https://localhost:8080/"
        },
        "id": "tCsbD3Kc10GJ",
        "outputId": "4c4f811c-1731-4294-8eb6-18f79509920c"
      },
      "execution_count": null,
      "outputs": [
        {
          "output_type": "stream",
          "name": "stdout",
          "text": [
            "my name is John,my age is 36\n"
          ]
        }
      ]
    },
    {
      "cell_type": "code",
      "source": [
        "# creating a child class\n",
        "class student(person):\n",
        "  pass"
      ],
      "metadata": {
        "id": "V3dl4-9L4izn"
      },
      "execution_count": null,
      "outputs": []
    },
    {
      "cell_type": "code",
      "source": [
        "# Using student class to create an object, and then execute the printname method\n",
        "x = student(\"Mike\",48)\n",
        "x.myfunc()"
      ],
      "metadata": {
        "colab": {
          "base_uri": "https://localhost:8080/"
        },
        "id": "7gQE1iRa4tAg",
        "outputId": "166fbb22-4272-4efb-aba8-3badead74ca4"
      },
      "execution_count": null,
      "outputs": [
        {
          "output_type": "stream",
          "name": "stdout",
          "text": [
            "my name is Mike,my age is 48\n"
          ]
        }
      ]
    },
    {
      "cell_type": "code",
      "source": [
        "# Adding __init__() function to the child class\n",
        "# The child's __init__() function overrides the inheritance of the parent's __init__() function\n",
        "# To keep the inheritance of the parent's __init__() function, add a call to the parent's __init__() function\n",
        "class student(person):\n",
        "  def __init__(self,name,age):\n",
        "    person.__init__(self,name,age)"
      ],
      "metadata": {
        "id": "kONNN45R5BTa"
      },
      "execution_count": null,
      "outputs": []
    },
    {
      "cell_type": "code",
      "source": [
        "# Use the super() function\n",
        "# python has a super() function, which will make the child class inherit all the methods and properties from its parent\n",
        "# By suing super() function, one does not need to use the name of the parent element, which will automatically inherit the methods and properties from its parent.\n",
        "# Add proper\n",
        "class student(person):\n",
        "  def __init__(self,name,age,year):\n",
        "    super().__init__(name,age)\n",
        "    self.graduationyear = 2019\n",
        "  def welcome(self):\n",
        "    print(\"Welcome\", self.name, \"my age is \", self.age, \"the graduation year is \", self.graduationyear)\n",
        "x = student(\"Dexter\",46,2019)\n",
        "x.welcome()\n"
      ],
      "metadata": {
        "colab": {
          "base_uri": "https://localhost:8080/"
        },
        "id": "_FsfILuf6Mdu",
        "outputId": "43a676bc-d350-4a2f-9544-4511d0dcdf94"
      },
      "execution_count": null,
      "outputs": [
        {
          "output_type": "stream",
          "name": "stdout",
          "text": [
            "Welcome Dexter my age is  46 the graduation year is  2019\n"
          ]
        }
      ]
    },
    {
      "cell_type": "markdown",
      "source": [
        "# Python Iterators\n",
        "An iterator is an object that contains a countable number of values, an iterator is an object that can be iterated upon, meaning that you can transverse through all the values.\n",
        "\n",
        "Technically, in python, an iterator is an object which implements the iterator protocol, which consists of the methods __iter__() and __next__().\n",
        "\n",
        "Lists, tuples, dictionaries, and sets are all iterable objects. They are iterable containers which you can get an iterator from.\n",
        "\n"
      ],
      "metadata": {
        "id": "7C_1CtwXESn-"
      }
    },
    {
      "cell_type": "code",
      "source": [
        "mytuple = (\"apple\",\"banana\",\"kiwi\",\"orange\")\n",
        "myit = iter(mytuple)\n",
        "\n",
        "print(next(myit))\n",
        "print(next(myit))\n",
        "print(next(myit))\n",
        "print(next(myit))"
      ],
      "metadata": {
        "colab": {
          "base_uri": "https://localhost:8080/"
        },
        "id": "9mG1oIb3C6qJ",
        "outputId": "69e8cc5a-7fd8-4ec2-9f29-a994ecb91555"
      },
      "execution_count": null,
      "outputs": [
        {
          "output_type": "stream",
          "name": "stdout",
          "text": [
            "apple\n",
            "banana\n",
            "kiwi\n",
            "orange\n"
          ]
        }
      ]
    },
    {
      "cell_type": "code",
      "source": [
        "mystr = \"banana\"\n",
        "myit = iter(mystr)\n",
        "\n",
        "print(next(myit))\n",
        "print(next(myit))\n",
        "print(next(myit))\n",
        "print(next(myit))\n",
        "print(next(myit))\n",
        "print(next(myit))"
      ],
      "metadata": {
        "colab": {
          "base_uri": "https://localhost:8080/"
        },
        "id": "FN3sjS2FGVYg",
        "outputId": "5fd58b74-0c16-42bc-84eb-218727436f2b"
      },
      "execution_count": null,
      "outputs": [
        {
          "output_type": "stream",
          "name": "stdout",
          "text": [
            "b\n",
            "a\n",
            "n\n",
            "a\n",
            "n\n",
            "a\n"
          ]
        }
      ]
    },
    {
      "cell_type": "code",
      "source": [
        "# Looping through an iterator\n",
        "mytuple = (\"apple\",\"orange\",\"kiwi\",\"banana\")\n",
        "for x in mytuple:\n",
        "  print(x)"
      ],
      "metadata": {
        "colab": {
          "base_uri": "https://localhost:8080/"
        },
        "id": "VbrdC905HBa6",
        "outputId": "47d14c9d-131f-415a-abdf-6641e6b32977"
      },
      "execution_count": null,
      "outputs": [
        {
          "output_type": "stream",
          "name": "stdout",
          "text": [
            "apple\n",
            "orange\n",
            "kiwi\n",
            "banana\n"
          ]
        }
      ]
    },
    {
      "cell_type": "code",
      "source": [
        "mystr = \"banana\"\n",
        "for x in mystr:\n",
        "  print(x)"
      ],
      "metadata": {
        "colab": {
          "base_uri": "https://localhost:8080/"
        },
        "id": "4EkXwUEjHxPq",
        "outputId": "c3711ec2-a6c9-4249-ea6d-11b895912b2b"
      },
      "execution_count": null,
      "outputs": [
        {
          "output_type": "stream",
          "name": "stdout",
          "text": [
            "b\n",
            "a\n",
            "n\n",
            "a\n",
            "n\n",
            "a\n"
          ]
        }
      ]
    },
    {
      "cell_type": "markdown",
      "source": [
        "# Create an Iterator\n",
        "to create an object/class as an iterator you have to implement the methods __iter__() and __next__() to your object.\n",
        "\n",
        "The __iter__() method acts similar, you can do operations, but must always return the iterator object itself.\n",
        "\n",
        "The __next__() method also allows you to do operations, and must return the next item in the sequence."
      ],
      "metadata": {
        "id": "qbQ_LjH2IWAT"
      }
    },
    {
      "cell_type": "code",
      "source": [
        "class MyNumber:\n",
        "  def __iter__(self):\n",
        "    self.a = 1\n",
        "    return self\n",
        "  def __next__(self):\n",
        "    x = self.a\n",
        "    self.a += 1\n",
        "    return x\n",
        "\n",
        "MyClass = MyNumber()\n",
        "myiter = iter(MyClass)\n",
        "\n",
        "print(next(myiter))\n",
        "print(next(myiter))\n",
        "print(next(myiter))\n",
        "print(next(myiter))\n",
        "print(next(myiter))\n",
        "print(next(myiter))"
      ],
      "metadata": {
        "colab": {
          "base_uri": "https://localhost:8080/"
        },
        "id": "Zv3JpPlaH-Z0",
        "outputId": "96fd058c-e68f-4c3f-e68d-c9ed26c9f20e"
      },
      "execution_count": null,
      "outputs": [
        {
          "output_type": "stream",
          "name": "stdout",
          "text": [
            "1\n",
            "2\n",
            "3\n",
            "4\n",
            "5\n",
            "6\n"
          ]
        }
      ]
    },
    {
      "cell_type": "code",
      "source": [
        "# To prevent the iteration from going on forever, one can use StopIteration statement.\n",
        "# In the __next__() method, one can add a terminating condition to raise an error if the iteration is done a specified number of times.\n",
        "class MyNumbers:\n",
        "  def __iter__(self):\n",
        "    self.a = 1\n",
        "    return self\n",
        "\n",
        "  def __next__(self):\n",
        "    if self.a <= 20:\n",
        "      x = self.a\n",
        "      self.a += 1\n",
        "      return x\n",
        "    else:\n",
        "      raise StopIteration\n",
        "\n",
        "myclass = MyNumbers()\n",
        "myiter = iter(myclass)\n",
        "\n",
        "for x in myiter:\n",
        "  print(x)"
      ],
      "metadata": {
        "colab": {
          "base_uri": "https://localhost:8080/"
        },
        "id": "tFOg_2H87SFp",
        "outputId": "72f1a216-1708-4ea2-d670-102664e1804a"
      },
      "execution_count": null,
      "outputs": [
        {
          "output_type": "stream",
          "name": "stdout",
          "text": [
            "1\n",
            "2\n",
            "3\n",
            "4\n",
            "5\n",
            "6\n",
            "7\n",
            "8\n",
            "9\n",
            "10\n",
            "11\n",
            "12\n",
            "13\n",
            "14\n",
            "15\n",
            "16\n",
            "17\n",
            "18\n",
            "19\n",
            "20\n"
          ]
        }
      ]
    },
    {
      "cell_type": "markdown",
      "source": [
        "# Python Polymorphism\n",
        "In programming it refers to methods/functions/operators with the same name that can be executed on many objects or classes.\n",
        "\n",
        "An example of python function that can be used on different objects is the len() function.\n",
        "\n",
        "String: for strings len() returns the number of characters"
      ],
      "metadata": {
        "id": "fQi-DAjlCcmT"
      }
    },
    {
      "cell_type": "code",
      "source": [
        "x = \"Hello World\"\n",
        "print(len(x))"
      ],
      "metadata": {
        "id": "TX-fuOLP9Uv7",
        "colab": {
          "base_uri": "https://localhost:8080/"
        },
        "outputId": "3480464f-883e-458d-8225-6fbfa9db8691"
      },
      "execution_count": null,
      "outputs": [
        {
          "output_type": "stream",
          "name": "stdout",
          "text": [
            "11\n"
          ]
        }
      ]
    },
    {
      "cell_type": "code",
      "source": [
        "mytuple = (\"apple\",\"orange\",\"kiwi\")\n",
        "len(mytuple)"
      ],
      "metadata": {
        "colab": {
          "base_uri": "https://localhost:8080/"
        },
        "id": "Qo3_r55tytvh",
        "outputId": "10c9d9b1-3dd3-49c6-dc8a-0a46e1287f77"
      },
      "execution_count": null,
      "outputs": [
        {
          "output_type": "execute_result",
          "data": {
            "text/plain": [
              "3"
            ]
          },
          "metadata": {},
          "execution_count": 2
        }
      ]
    },
    {
      "cell_type": "code",
      "source": [
        "thisdict = {\n",
        "    \"name\": \"John\",\n",
        "    \"lastname\":\"Tobias\",\n",
        "    \"age\":36}\n",
        "len(thisdict)"
      ],
      "metadata": {
        "colab": {
          "base_uri": "https://localhost:8080/"
        },
        "id": "NjLCWWgNy0HQ",
        "outputId": "87cc2f37-32ce-4dba-f566-0b59e0614a73"
      },
      "execution_count": null,
      "outputs": [
        {
          "output_type": "execute_result",
          "data": {
            "text/plain": [
              "3"
            ]
          },
          "metadata": {},
          "execution_count": 5
        }
      ]
    },
    {
      "cell_type": "code",
      "source": [
        "# Polymorphism is often used in class methods, where we can have multiple classes with the same method name\n",
        "class car:\n",
        "  def __init__(self,brand, model):\n",
        "    self.brand = brand\n",
        "    self.model = model\n",
        "  def move(self):\n",
        "    print(\"Drive!\")\n",
        "\n",
        "class boat:\n",
        "  def __init__(self,brand,model):\n",
        "    self.brand = brand\n",
        "    self.model = model\n",
        "  def move(self):\n",
        "    print(\"Sail!\")\n",
        "\n",
        "class plane:\n",
        "  def __init__(self,brand,model):\n",
        "    self.brand = brand\n",
        "    self.model = model\n",
        "  def move(self):\n",
        "    print(\"Fly!\")\n",
        "\n",
        "car1 = car(\"Ford\",\"Mustang\")\n",
        "boat1 = boat(\"Ibiza\",\"Touring 20\")\n",
        "plane1 = plane(\"Boeing\",\"747\")\n",
        "\n",
        "for x in (car1,boat1,plane1):\n",
        "  x.move()"
      ],
      "metadata": {
        "colab": {
          "base_uri": "https://localhost:8080/"
        },
        "id": "uOUVoEN9zEk0",
        "outputId": "43c74a21-8632-494b-a015-5035a4703094"
      },
      "execution_count": null,
      "outputs": [
        {
          "output_type": "stream",
          "name": "stdout",
          "text": [
            "Drive!\n",
            "Sail!\n",
            "Fly!\n"
          ]
        }
      ]
    },
    {
      "cell_type": "markdown",
      "source": [
        "Child classes inherits the properties and methods from the parent class.\n",
        "\n",
        "In the example above you can see that the Car class is empty, but it inherits brand, model, and move() from Vehicle.\n",
        "\n",
        "The Boat and Plane classes also inherit brand, model, and move() from Vehicle, but they both override the move() method.\n",
        "\n",
        "Because of polymorphism we can execute the same method for all classes."
      ],
      "metadata": {
        "id": "KZgh55jH2l9g"
      }
    },
    {
      "cell_type": "code",
      "source": [
        "# Inheritance Class Polymorphism\n",
        "class vehicle:\n",
        "  def __init__(self,brand,model):\n",
        "    self.brand = brand\n",
        "    self.model = model\n",
        "  def move(self):\n",
        "    print(\"Drive\")\n",
        "class car(vehicle):\n",
        "  pass\n",
        "class boat(vehicle):\n",
        "  def move(self):\n",
        "    print(\"Sail!\")\n",
        "class plane(vehicle):\n",
        "  def move(self):\n",
        "    print(\"Fly!\")\n",
        "\n",
        "car1 = car(\"Ford\",\"Mustang\")\n",
        "boat1 = boat(\"Ibiza\",\"North Star\")\n",
        "plane1 = plane(\"Boeing\",\"747\")\n",
        "\n",
        "for x in (car1,boat1,plane1):\n",
        "  x.move()\n",
        "\n"
      ],
      "metadata": {
        "colab": {
          "base_uri": "https://localhost:8080/"
        },
        "id": "xfBrSuwb0bpX",
        "outputId": "0a703b14-179e-4316-d8c8-b2aa53395337"
      },
      "execution_count": null,
      "outputs": [
        {
          "output_type": "stream",
          "name": "stdout",
          "text": [
            "Drive\n",
            "Sail!\n",
            "Fly!\n"
          ]
        }
      ]
    },
    {
      "cell_type": "markdown",
      "source": [
        "# Python Scope\n",
        "\n",
        "A variable is only available from inside the region it is created. This is called scope.\n",
        "\n",
        "Local Scope: A variable created inside a function belongs to the local scope of that function, and can only be used inside that function.\n",
        "\n"
      ],
      "metadata": {
        "id": "ScXgGQS22rXy"
      }
    },
    {
      "cell_type": "code",
      "source": [
        "# Local Scope\n",
        "\n",
        "def myfunc():\n",
        "  x = 300\n",
        "  print(x)\n",
        "\n",
        "myfunc()"
      ],
      "metadata": {
        "colab": {
          "base_uri": "https://localhost:8080/"
        },
        "id": "B4djFtbc2a7T",
        "outputId": "c8f48332-8177-45ae-8308-9e23e1e46f38"
      },
      "execution_count": null,
      "outputs": [
        {
          "output_type": "stream",
          "name": "stdout",
          "text": [
            "300\n"
          ]
        }
      ]
    },
    {
      "cell_type": "code",
      "source": [
        "#  the variable x is not available outside the function, but it is available for any function inside the function\n",
        "# The local variable can be accessed from a function within the function\n",
        "def myfunc():\n",
        "  x = 300\n",
        "  def myinnerfunction():\n",
        "    print(x)\n",
        "  myinnerfunction()\n",
        "\n",
        "myfunc()"
      ],
      "metadata": {
        "colab": {
          "base_uri": "https://localhost:8080/"
        },
        "id": "b4qjPx7d3YxW",
        "outputId": "242bc909-a74a-4bf9-f76f-eb383a2e05e6"
      },
      "execution_count": null,
      "outputs": [
        {
          "output_type": "stream",
          "name": "stdout",
          "text": [
            "300\n"
          ]
        }
      ]
    },
    {
      "cell_type": "code",
      "source": [
        "# Global Scope\n",
        "# A variable created in the main body of the python code is a global variable and belongs to global scope\n",
        "# Global variables are available from within any scope, global and local.\n",
        "\n",
        "x = 300\n",
        "\n",
        "def myfunc():\n",
        "  print(x)\n",
        "\n",
        "myfunc()\n",
        "\n",
        "print(x)"
      ],
      "metadata": {
        "colab": {
          "base_uri": "https://localhost:8080/"
        },
        "id": "rIw82CUG3o7g",
        "outputId": "d4d9405a-a167-4e8f-ede0-b80b69ac17e4"
      },
      "execution_count": null,
      "outputs": [
        {
          "output_type": "stream",
          "name": "stdout",
          "text": [
            "300\n",
            "300\n"
          ]
        }
      ]
    },
    {
      "cell_type": "code",
      "source": [
        "# Naming Variables\n",
        "# If you operate with the same variable name inside and outside of a function, Python will treat them as two separate variables,\n",
        "# one available in the global scope (outside the function) and one available in the local scope (inside the function)\n",
        "\n",
        "x = 300\n",
        "\n",
        "def myfunc():\n",
        "  x = 150\n",
        "  print(x)\n",
        "\n",
        "myfunc()\n",
        "\n",
        "print(x)"
      ],
      "metadata": {
        "colab": {
          "base_uri": "https://localhost:8080/"
        },
        "id": "6wRxjDfT4J4q",
        "outputId": "6e1346e5-a5bc-492a-ca90-3182fb8e963d"
      },
      "execution_count": null,
      "outputs": [
        {
          "output_type": "stream",
          "name": "stdout",
          "text": [
            "150\n",
            "300\n"
          ]
        }
      ]
    },
    {
      "cell_type": "code",
      "source": [
        "# Global Keyword\n",
        "# If you need to create a global variable, but are stuck in the local scope, you can use the global keyword.\n",
        "# The global keyword makes the variable global\n",
        "\n",
        "def myfunc():\n",
        "  global x\n",
        "  x = 300\n",
        "\n",
        "myfunc()\n",
        "\n",
        "print(x)"
      ],
      "metadata": {
        "colab": {
          "base_uri": "https://localhost:8080/"
        },
        "id": "KgBYHKe94j5W",
        "outputId": "9513582e-b41c-4013-8db3-9f4599715aca"
      },
      "execution_count": null,
      "outputs": [
        {
          "output_type": "stream",
          "name": "stdout",
          "text": [
            "300\n"
          ]
        }
      ]
    },
    {
      "cell_type": "code",
      "source": [
        "# To change the value of a global variable inside a function, refer to the variable by using the global keyword\n",
        "x = 300\n",
        "\n",
        "def myfunc():\n",
        "  global x\n",
        "  x = 200\n",
        "\n",
        "\n",
        "myfunc()\n",
        "\n",
        "print(x)"
      ],
      "metadata": {
        "colab": {
          "base_uri": "https://localhost:8080/"
        },
        "id": "W2S0IcJC4797",
        "outputId": "05d98a1b-3193-4b58-e331-fc9fe2ff98f7"
      },
      "execution_count": null,
      "outputs": [
        {
          "output_type": "stream",
          "name": "stdout",
          "text": [
            "200\n"
          ]
        }
      ]
    },
    {
      "cell_type": "markdown",
      "source": [
        "Python Modules\n",
        "\n",
        "Consider a module to be the same as a code library.\n",
        "\n",
        "A file containing a set of functions you want to include in your application.\n",
        "\n",
        "To create a module save the code you want in a file with the file extension .py"
      ],
      "metadata": {
        "id": "2u4Tq_jV5fEs"
      }
    },
    {
      "cell_type": "code",
      "source": [
        "# Example save the code you want in a file named mymodule.py\n",
        "\n",
        "def greeting(name):\n",
        "  print(\"Hello\" + name)"
      ],
      "metadata": {
        "id": "MLMMMOn75KOC"
      },
      "execution_count": null,
      "outputs": []
    },
    {
      "cell_type": "code",
      "source": [
        "# In order to use the module created, we use the import statement\n",
        "\n",
        "import mymodule\n",
        "\n",
        "mymodule.greeting(\"John\")"
      ],
      "metadata": {
        "id": "OdAAQOYA6LCC"
      },
      "execution_count": null,
      "outputs": []
    },
    {
      "cell_type": "markdown",
      "source": [
        "# Note: When using a function from a module, use the syntax: module_name.function_name."
      ],
      "metadata": {
        "id": "uWpzEMbS6cmQ"
      }
    },
    {
      "cell_type": "code",
      "source": [
        "# Variables in Module: The module can contain functions, as already described, but also variables of all types (arrays, dictionaries, objects etc)\n",
        "person1 = {\n",
        "    \"name\":\"John\",\n",
        "    \"lname\": \"Doe\",\n",
        "    \"age\": 37,\n",
        "    \"country\":\"Brazil\"\n",
        "}"
      ],
      "metadata": {
        "id": "Xs4ydU166iSi"
      },
      "execution_count": null,
      "outputs": []
    },
    {
      "cell_type": "code",
      "source": [
        "# Import the module named mymodule, and access the person1 dictionary\n",
        "\n",
        "import mymodule\n",
        "\n",
        "p1 = mymodule.person1[\"age\"]\n",
        "\n",
        "print(p1)"
      ],
      "metadata": {
        "id": "UY5BRRIu7A5k"
      },
      "execution_count": null,
      "outputs": []
    },
    {
      "cell_type": "code",
      "source": [
        "# Renaming a Module: One can create an alias when you import a module, by using the as keyword\n",
        "\n",
        "import mymodule as mx\n",
        "\n",
        "a = mx.personal1[\"age\"]\n",
        "print(a)"
      ],
      "metadata": {
        "id": "6c1F3PQ67ouI"
      },
      "execution_count": null,
      "outputs": []
    },
    {
      "cell_type": "code",
      "source": [
        "# Built-in Modules: There are several built-in modules in python, which one can import\n",
        "# Example Import and use the platform module\n",
        "\n",
        "import platform\n",
        "\n",
        "x = platform.system()\n",
        "print(x)"
      ],
      "metadata": {
        "colab": {
          "base_uri": "https://localhost:8080/"
        },
        "id": "92VZeujV7Nq0",
        "outputId": "738843ea-ba44-4e28-8b6c-0c0fa67c5fa8"
      },
      "execution_count": null,
      "outputs": [
        {
          "output_type": "stream",
          "name": "stdout",
          "text": [
            "Linux\n"
          ]
        }
      ]
    },
    {
      "cell_type": "code",
      "source": [
        "# Using the dir() function: There is a built-in function to list all the function names (or variable names) in a module. The dir() function\n",
        "# Note: The dir() function can be used on all modules, also the ones you create yourself.\n",
        "import platform\n",
        "\n",
        "x = dir(platform)\n",
        "print(x)"
      ],
      "metadata": {
        "colab": {
          "base_uri": "https://localhost:8080/"
        },
        "id": "1RUMI6TZ7isB",
        "outputId": "6717f235-f96e-4eed-a233-ccaccbb42198"
      },
      "execution_count": null,
      "outputs": [
        {
          "output_type": "stream",
          "name": "stdout",
          "text": [
            "['_Processor', '_WIN32_CLIENT_RELEASES', '_WIN32_SERVER_RELEASES', '__builtins__', '__cached__', '__copyright__', '__doc__', '__file__', '__loader__', '__name__', '__package__', '__spec__', '__version__', '_comparable_version', '_component_re', '_default_architecture', '_follow_symlinks', '_get_machine_win32', '_ironpython26_sys_version_parser', '_ironpython_sys_version_parser', '_java_getprop', '_libc_search', '_mac_ver_xml', '_node', '_norm_version', '_os_release_cache', '_os_release_candidates', '_os_release_line', '_os_release_unescape', '_parse_os_release', '_platform', '_platform_cache', '_pypy_sys_version_parser', '_sys_version', '_sys_version_cache', '_sys_version_parser', '_syscmd_file', '_syscmd_ver', '_uname_cache', '_unknown_as_blank', '_ver_output', '_ver_stages', 'architecture', 'collections', 'freedesktop_os_release', 'functools', 'itertools', 'java_ver', 'libc_ver', 'mac_ver', 'machine', 'node', 'os', 'platform', 'processor', 'python_branch', 'python_build', 'python_compiler', 'python_implementation', 'python_revision', 'python_version', 'python_version_tuple', 're', 'release', 'subprocess', 'sys', 'system', 'system_alias', 'uname', 'uname_result', 'version', 'win32_edition', 'win32_is_iot', 'win32_ver']\n"
          ]
        }
      ]
    },
    {
      "cell_type": "code",
      "source": [
        "# Import From Module\n",
        "# One can choose to import only parts from a module, by using the from keyword\n",
        "\n",
        "# mymodule contains below function and variable\n",
        "def greeting(name):\n",
        "  print(\"Hello\" + name)\n",
        "\n",
        "personal = {\n",
        "    \"name\": \"john\",\n",
        "    \"lname\": \"Doe\",\n",
        "    \"country\":\"Brazil\"\n",
        "}\n",
        "\n",
        "# To import personal1 dictionary from the module\n",
        "\n",
        "from mymodule import personal1\n",
        "\n",
        "print(personal1[\"age\"])"
      ],
      "metadata": {
        "id": "uQI4STu78JhB"
      },
      "execution_count": null,
      "outputs": []
    },
    {
      "cell_type": "markdown",
      "source": [
        "Note: When importing using the from keyword, do not use the module name when referring to elements in the module. Example: person1[\"age\"], not mymodule.person1[\"age\"]"
      ],
      "metadata": {
        "id": "ruS7TKWr9Iro"
      }
    },
    {
      "cell_type": "markdown",
      "source": [
        "# Python Datetime\n",
        "\n",
        "A date in Python is not a data type of its own, but we can import a module named datetime to work with dates as date objects.\n",
        "\n",
        "The date contains year, month, day, hour, minute, second, and microsecond.\n",
        "\n",
        "The datetime module has many methods to return information about the date object.\n"
      ],
      "metadata": {
        "id": "pU_hDpsu9VfA"
      }
    },
    {
      "cell_type": "code",
      "source": [
        "# Importing datetime module to show the current date\n",
        "\n",
        "import datetime\n",
        "\n",
        "x = datetime.datetime.now()\n",
        "print(x)\n",
        "\n"
      ],
      "metadata": {
        "colab": {
          "base_uri": "https://localhost:8080/"
        },
        "id": "mjM4VTNE9LCg",
        "outputId": "3e232597-447f-47b3-d1fd-c95fe322e6fe"
      },
      "execution_count": null,
      "outputs": [
        {
          "output_type": "stream",
          "name": "stdout",
          "text": [
            "2024-01-30 15:21:55.882294\n"
          ]
        }
      ]
    },
    {
      "cell_type": "code",
      "source": [
        "# Return the year and the name of the weekday\n",
        "\n",
        "import datetime\n",
        "\n",
        "x = datetime.datetime.now()\n",
        "\n",
        "print(x.year)\n",
        "print(x.strftime(\"%A\"))"
      ],
      "metadata": {
        "colab": {
          "base_uri": "https://localhost:8080/"
        },
        "id": "EadWpWuh9nOD",
        "outputId": "44b82c43-fdfa-40ee-fb7f-cd4b62d000cb"
      },
      "execution_count": null,
      "outputs": [
        {
          "output_type": "stream",
          "name": "stdout",
          "text": [
            "2024\n",
            "Tuesday\n"
          ]
        }
      ]
    },
    {
      "cell_type": "code",
      "source": [
        "# To create a Date Objects\n",
        "# To create a date, we can use the datetime() class (constructor) of the datetime module.\n",
        "# The datetime() class requires three parameters to create a date: year, month, day.\n",
        "# The datetime() class also takes parameters for time and timezone\n",
        "# (hour, minute, second, microsecond, tzone), but they are optional, and has a default value of 0, (None for timezone)\n",
        "\n",
        "import datetime\n",
        "\n",
        "x = datetime.datetime(2020,11,5)\n",
        "\n",
        "print(x)"
      ],
      "metadata": {
        "colab": {
          "base_uri": "https://localhost:8080/"
        },
        "id": "7kkWCwmd-FTm",
        "outputId": "d276fc3b-fb6d-43aa-b370-7acc4d201e54"
      },
      "execution_count": null,
      "outputs": [
        {
          "output_type": "stream",
          "name": "stdout",
          "text": [
            "2020-11-05 00:00:00\n"
          ]
        }
      ]
    },
    {
      "cell_type": "code",
      "source": [
        "# The strftime() Method: The datetime object has a method for formatting date objects into readable strings.\n",
        "# The method is called strftime(), and takes one parameter, format, to specify the format of the returned string\n",
        "\n",
        "import datetime\n",
        "\n",
        "x = datetime.datetime(2018,6,1)\n",
        "\n",
        "print(x.strftime(\"%B\"))"
      ],
      "metadata": {
        "colab": {
          "base_uri": "https://localhost:8080/"
        },
        "id": "_Vd-nO_EEuSf",
        "outputId": "c406a128-e6a8-47b8-ca50-e0e3218bc734"
      },
      "execution_count": null,
      "outputs": [
        {
          "output_type": "stream",
          "name": "stdout",
          "text": [
            "June\n"
          ]
        }
      ]
    },
    {
      "cell_type": "markdown",
      "source": [
        "A reference of all the legal format codes\n",
        "\n",
        "%a ==> Weekday, short version ==> Wed\n",
        "\n",
        "%A ==> Weekday, full version ==>\tWednesday\n",
        "\n",
        "%w ==>\tWeekday as a number 0-6, 0 is Sunday ==>\t3\n",
        "\n",
        "%d ==>\tDay of month 01-31 ==>\t31\n",
        "\n",
        "%b ==>\tMonth name, short version ==>\tDec\n",
        "\n",
        "%B ==>\tMonth name, full version ==>\tDecember\n",
        "\n",
        "%m ==>\tMonth as a number 01-12 ==>\t12\n",
        "\n",
        "%y ==>\tYear, short version, without century ==>\t18\n",
        "\n",
        "%Y ==>\tYear, full version ==>\t2018\n",
        "\n",
        "%H ==>\tHour 00-23 ==>\t17\n",
        "\n",
        "%I ==>\tHour 00-12 ==>\t05\n",
        "\n",
        "%p==> \tAM/PM ==>\tPM\n",
        "\n",
        "%M ==>\tMinute 00-59 ==>\t41\n",
        "\n",
        "%S ==>\tSecond 00-59 ==>\t08\n",
        "\n",
        "%f ==>\tMicrosecond 000000-999999 ==>\t548513\n",
        "\n",
        "%z ==>\tUTC offset ==>\t+0100\n",
        "\n",
        "%Z ==>\tTimezone ==>\tCST\n",
        "\n",
        "%j ==>\tDay number of year 001-366 ==>\t365\n",
        "\n",
        "%U ==>\tWeek number of year, Sunday as the first day of week,00-53 ==>\t52\n",
        "\n",
        "%W ==>\tWeek number of year, Monday as the first day of week, 00-53 ==>\t52\n",
        "\n",
        "%c ==>\tLocal version of date and time\tMon Dec 31 17:41:00 ==> 2018\n",
        "\n",
        "%C ==>\tCentury ==>\t20\n",
        "\n",
        "%x ==>\tLocal version of date ==>\t12/31/18\n",
        "\n",
        "%X ==>\tLocal version of time ==>\t17:41:00\n",
        "\n",
        "%% ==>\tA % character ==>\t%\n",
        "\n",
        "%G ==>\tISO 8601 year ==>\t2018\n",
        "\n",
        "%u ==>\tISO 8601 weekday (1-7) ==>\t1\n",
        "\n",
        "%V ==>\tISO 8601 weeknumber (01-53) ==>\t01"
      ],
      "metadata": {
        "id": "JJAn94lRFVD2"
      }
    },
    {
      "cell_type": "markdown",
      "source": [
        "# Python Math\n",
        "Python has a set of built-in math functions, including an extensive math module, that allows you to perform mathematical tasks on numbers.\n",
        "\n",
        "Python has also a built-in module called math, which extends the list of mathematical functions.\n",
        "\n",
        "When you have imported the math module, you can start using methods and constants of the module.\n",
        "\n",
        "The math.sqrt() method for example, returns the square root of a number\n",
        "\n",
        "The math.ceil() method rounds a number upwards to its nearest integer, and the math.floor() method rounds a number downwards to its nearest integer"
      ],
      "metadata": {
        "id": "Hl6HePsfGgiW"
      }
    },
    {
      "cell_type": "code",
      "source": [
        "# Built -in Math functions\n",
        "# The min() and max() functions can be used to find the lowest or highest value in an iterable\n",
        "\n",
        "y = min(5,6,7,8)\n",
        "w = max(10,11,12,13)\n",
        "\n",
        "print(y)\n",
        "print(w)"
      ],
      "metadata": {
        "colab": {
          "base_uri": "https://localhost:8080/"
        },
        "id": "2MeHM_5kFRKR",
        "outputId": "fdbc3ae3-f72b-40ce-a06c-2d7e9262be42"
      },
      "execution_count": null,
      "outputs": [
        {
          "output_type": "stream",
          "name": "stdout",
          "text": [
            "5\n",
            "13\n"
          ]
        }
      ]
    },
    {
      "cell_type": "code",
      "source": [
        "# The abs() function returns the absolute (positive) value of the specified number\n",
        "\n",
        "x = abs(-7.8)\n",
        "print(x)"
      ],
      "metadata": {
        "colab": {
          "base_uri": "https://localhost:8080/"
        },
        "id": "cYx_V90_G5ha",
        "outputId": "40d8491c-5fbb-403a-85d0-c2ee1cb7a5d1"
      },
      "execution_count": null,
      "outputs": [
        {
          "output_type": "stream",
          "name": "stdout",
          "text": [
            "7.8\n"
          ]
        }
      ]
    },
    {
      "cell_type": "code",
      "source": [
        "# The pow(x, y) function returns the value of x to the power of y (x^y)\n",
        "\n",
        "x = pow(4,5)\n",
        "print(x)"
      ],
      "metadata": {
        "colab": {
          "base_uri": "https://localhost:8080/"
        },
        "id": "3FwmPkgYHDnv",
        "outputId": "5c1053e3-7402-4da0-ffa3-537c9da0db0e"
      },
      "execution_count": null,
      "outputs": [
        {
          "output_type": "stream",
          "name": "stdout",
          "text": [
            "1024\n"
          ]
        }
      ]
    },
    {
      "cell_type": "code",
      "source": [
        "# The Math Module\n",
        "\n",
        "import math\n",
        "\n",
        "x = math.sqrt(64)\n",
        "print(x)"
      ],
      "metadata": {
        "colab": {
          "base_uri": "https://localhost:8080/"
        },
        "id": "8GogH0kYHMSl",
        "outputId": "baa4c583-1c0f-448e-a77a-b8b3022ba0ad"
      },
      "execution_count": null,
      "outputs": [
        {
          "output_type": "stream",
          "name": "stdout",
          "text": [
            "8.0\n"
          ]
        }
      ]
    },
    {
      "cell_type": "code",
      "source": [
        "# floor and ceil methods\n",
        "\n",
        "import math\n",
        "\n",
        "x = math.floor(1.4)\n",
        "y = math.ceil(1.6)\n",
        "\n",
        "print(x)\n",
        "print(y)"
      ],
      "metadata": {
        "colab": {
          "base_uri": "https://localhost:8080/"
        },
        "id": "2Cv17u-AIFoi",
        "outputId": "c9305583-b1d4-4fbe-e630-c851361a4ab7"
      },
      "execution_count": null,
      "outputs": [
        {
          "output_type": "stream",
          "name": "stdout",
          "text": [
            "1\n",
            "2\n"
          ]
        }
      ]
    },
    {
      "cell_type": "code",
      "source": [
        "# The math.pi constant, returns the value of PI (3.14...)\n",
        "\n",
        "x =math.pi\n",
        "\n",
        "print(x)"
      ],
      "metadata": {
        "colab": {
          "base_uri": "https://localhost:8080/"
        },
        "id": "7V4ZnYazIWDe",
        "outputId": "4aad25cb-44fb-486e-d189-4066138046e3"
      },
      "execution_count": null,
      "outputs": [
        {
          "output_type": "stream",
          "name": "stdout",
          "text": [
            "3.141592653589793\n"
          ]
        }
      ]
    },
    {
      "cell_type": "markdown",
      "source": [
        "# Python JSON\n",
        "JSON is a syntax for storing and exchanging data.\n",
        "\n",
        "The result will be a Python dictionary.\n",
        "\n",
        "JSON is text, written with JavaScript object notation.\n",
        "\n",
        "Parse JSON - Convert from JSON to Python\n",
        "If you have a JSON string, you can parse it by using the json.loads() method.\n",
        "\n",
        "You can convert Python objects of the following types, into JSON strings:\n",
        "\n",
        "dict\n",
        "list\n",
        "tuple\n",
        "string\n",
        "int\n",
        "float\n",
        "True\n",
        "False\n",
        "None\n",
        "\n",
        "\n",
        "# It is not very easy to read, with no indentations and line breaks.The json.dumps() method has parameters to make it easier to read the result."
      ],
      "metadata": {
        "id": "hpp4JteJIibO"
      }
    },
    {
      "cell_type": "code",
      "source": [
        "# JSON in Python\n",
        "\n",
        "import json\n",
        "\n",
        "# some JSON\n",
        "x = '{\"name\":\"john\",\"lname\":\"Doe\",\"age\":30,\"city\":\"New York\"}'\n",
        "\n",
        "# parse x\n",
        "y = json.loads(x)\n",
        "\n",
        "# The result is a python dictionary\n",
        "print(y[\"age\"])"
      ],
      "metadata": {
        "colab": {
          "base_uri": "https://localhost:8080/"
        },
        "id": "IQmDTgyPIcWA",
        "outputId": "2aed1ddd-1ebc-4b32-fe13-b33086fb07fb"
      },
      "execution_count": null,
      "outputs": [
        {
          "output_type": "stream",
          "name": "stdout",
          "text": [
            "30\n"
          ]
        }
      ]
    },
    {
      "cell_type": "code",
      "source": [
        "# Convert from python to json\n",
        "\n",
        "import json\n",
        "\n",
        "# a python object (dictionary)\n",
        "\n",
        "x = {\n",
        "    \"name\":\"john\",\n",
        "    \"lname\":\"Doe\",\n",
        "    \"age\":30,\n",
        "    \"city\":\"New York\"\n",
        "}\n",
        "\n",
        "# convert into JSON:\n",
        "y = json.dumps(x)\n",
        "\n",
        "# the result is a JSON string:\n",
        "print(y)"
      ],
      "metadata": {
        "colab": {
          "base_uri": "https://localhost:8080/"
        },
        "id": "3G1STFyUJZvT",
        "outputId": "28c9c4d8-9815-480f-9013-58a95c5e91a5"
      },
      "execution_count": null,
      "outputs": [
        {
          "output_type": "stream",
          "name": "stdout",
          "text": [
            "{\"name\": \"john\", \"lname\": \"Doe\", \"age\": 30, \"city\": \"New York\"}\n"
          ]
        }
      ]
    },
    {
      "cell_type": "code",
      "source": [
        "# Convert python objects into JSON strings, and print the value\n",
        "\n",
        "import json\n",
        "\n",
        "print(json.dumps({\"name\":\"john\",\"age\":36,\"country\":\"Brazil\"}))\n",
        "print(json.dumps([\"apple\",\"orange\"]))\n",
        "print(json.dumps(True))\n",
        "print(json.dumps(False))\n",
        "print(json.dumps(None))\n",
        "print(json.dumps(24))\n",
        "print(json.dumps(\"Hello\"))\n",
        "print(json.dumps(32.04))\n",
        "print(json.dumps((\"apple\",\"orange\",\"kiwi\")))"
      ],
      "metadata": {
        "colab": {
          "base_uri": "https://localhost:8080/"
        },
        "id": "QOZrShkDJzP-",
        "outputId": "23d21ec2-697d-4c40-d882-eddf88c77da8"
      },
      "execution_count": null,
      "outputs": [
        {
          "output_type": "stream",
          "name": "stdout",
          "text": [
            "{\"name\": \"john\", \"age\": 36, \"country\": \"Brazil\"}\n",
            "[\"apple\", \"orange\"]\n",
            "true\n",
            "false\n",
            "null\n",
            "24\n",
            "\"Hello\"\n",
            "32.04\n",
            "[\"apple\", \"orange\", \"kiwi\"]\n"
          ]
        }
      ]
    },
    {
      "cell_type": "code",
      "source": [
        "# Converting a python object containing all the legal data types\n",
        "\n",
        "x = {\n",
        "    \"name\":\"john\",\n",
        "    \"lname\":\"doe\",\n",
        "    \"year\":36,\n",
        "    \"married\": True,\n",
        "    \"divorce\": False,\n",
        "    \"children\":(\"Alex\",\"Billy\"),\n",
        "    \"pets\":None,\n",
        "    \"cars\":[{\"model\":\"BMW230\",\"mpg\":27.5},{\"model\":\"Ford Edge\",\"mpg\":24.1}]\n",
        "}\n",
        "\n",
        "print(json.dumps(x))"
      ],
      "metadata": {
        "colab": {
          "base_uri": "https://localhost:8080/"
        },
        "id": "JzazwwUWWgJ5",
        "outputId": "8bd9d64b-5619-4b39-e87b-f575bf734160"
      },
      "execution_count": null,
      "outputs": [
        {
          "output_type": "stream",
          "name": "stdout",
          "text": [
            "{\"name\": \"john\", \"lname\": \"doe\", \"year\": 36, \"married\": true, \"divorce\": false, \"children\": [\"Alex\", \"Billy\"], \"pets\": null, \"cars\": [{\"model\": \"BMW230\", \"mpg\": 27.5}, {\"model\": \"Ford Edge\", \"mpg\": 24.1}]}\n"
          ]
        }
      ]
    },
    {
      "cell_type": "code",
      "source": [
        "# Format the Result\n",
        "# Use the indent parameter to define the numbers of indents\n",
        "json.dumps(x,indent = 4)"
      ],
      "metadata": {
        "colab": {
          "base_uri": "https://localhost:8080/",
          "height": 72
        },
        "id": "p6Dz1iJsXhyM",
        "outputId": "6f3c993f-ca5c-4adf-8fd4-dea0a2c28552"
      },
      "execution_count": null,
      "outputs": [
        {
          "output_type": "execute_result",
          "data": {
            "text/plain": [
              "'{\\n    \"name\": \"john\",\\n    \"lname\": \"doe\",\\n    \"year\": 36,\\n    \"married\": true,\\n    \"divorce\": false,\\n    \"children\": [\\n        \"Alex\",\\n        \"Billy\"\\n    ],\\n    \"pets\": null,\\n    \"cars\": [\\n        {\\n            \"model\": \"BMW230\",\\n            \"mpg\": 27.5\\n        },\\n        {\\n            \"model\": \"Ford Edge\",\\n            \"mpg\": 24.1\\n        }\\n    ]\\n}'"
            ],
            "application/vnd.google.colaboratory.intrinsic+json": {
              "type": "string"
            }
          },
          "metadata": {},
          "execution_count": 40
        }
      ]
    },
    {
      "cell_type": "code",
      "source": [
        "# You can also define the separators, default value is (\", \", \": \"), which means using a comma and a space to separate each object,\n",
        "#and a colon and a space to separate keys from values\n",
        "\n",
        "json.dumps(x, indent = 4, separators = (\". \",\"= \"))"
      ],
      "metadata": {
        "colab": {
          "base_uri": "https://localhost:8080/",
          "height": 72
        },
        "id": "Ojd2A2j0YD0A",
        "outputId": "d2f0905e-c9f4-4639-bfc0-1cfaa9d6fb20"
      },
      "execution_count": null,
      "outputs": [
        {
          "output_type": "execute_result",
          "data": {
            "text/plain": [
              "'{\\n    \"name\"= \"john\". \\n    \"lname\"= \"doe\". \\n    \"year\"= 36. \\n    \"married\"= true. \\n    \"divorce\"= false. \\n    \"children\"= [\\n        \"Alex\". \\n        \"Billy\"\\n    ]. \\n    \"pets\"= null. \\n    \"cars\"= [\\n        {\\n            \"model\"= \"BMW230\". \\n            \"mpg\"= 27.5\\n        }. \\n        {\\n            \"model\"= \"Ford Edge\". \\n            \"mpg\"= 24.1\\n        }\\n    ]\\n}'"
            ],
            "application/vnd.google.colaboratory.intrinsic+json": {
              "type": "string"
            }
          },
          "metadata": {},
          "execution_count": 42
        }
      ]
    },
    {
      "cell_type": "code",
      "source": [
        "# The json.dumps() method has parameters to order the keys in the result\n",
        "json.dumps(x, indent=4, sort_keys = True)"
      ],
      "metadata": {
        "colab": {
          "base_uri": "https://localhost:8080/",
          "height": 72
        },
        "id": "8cat1PkCYYrB",
        "outputId": "413a577e-15a6-4a47-c017-883563ddce91"
      },
      "execution_count": null,
      "outputs": [
        {
          "output_type": "execute_result",
          "data": {
            "text/plain": [
              "'{\\n    \"cars\": [\\n        {\\n            \"model\": \"BMW230\",\\n            \"mpg\": 27.5\\n        },\\n        {\\n            \"model\": \"Ford Edge\",\\n            \"mpg\": 24.1\\n        }\\n    ],\\n    \"children\": [\\n        \"Alex\",\\n        \"Billy\"\\n    ],\\n    \"divorce\": false,\\n    \"lname\": \"doe\",\\n    \"married\": true,\\n    \"name\": \"john\",\\n    \"pets\": null,\\n    \"year\": 36\\n}'"
            ],
            "application/vnd.google.colaboratory.intrinsic+json": {
              "type": "string"
            }
          },
          "metadata": {},
          "execution_count": 43
        }
      ]
    },
    {
      "cell_type": "markdown",
      "source": [
        "Python PIP\n",
        "\n",
        "What is PIP? PIP is a package manager for Python packages, or modules.\n",
        "\n",
        "A package contains all the files you need for a module.\n",
        "\n",
        "Modules are Python code libraries you can include in your project.\n",
        "\n",
        "Check if the PIP is installed on your system, entering the script in the terminal\n",
        "\n",
        "pip --version\n",
        "\n",
        "Download a Package: Downloading a package is very easy. Open the command line interface and tell PIP to download the package you want. Navigate your command line to the location of Python's script directory, and type the following:\n",
        "\n",
        "pip install camelcase\n",
        "\n",
        "Remove a Package: Use the uninstall command to remove a package\n",
        "\n",
        "pip unistall camelcase\n",
        "\n",
        "List Packages: Use the list command to list all the packages installed on your system:\n",
        "\n",
        "pip list"
      ],
      "metadata": {
        "id": "MJWct1aNY8Mc"
      }
    },
    {
      "cell_type": "code",
      "source": [
        "# Using a package\n",
        "!pip install camelcase\n",
        "import camelcase\n",
        "\n",
        "c = camelcase.CamelCase()\n",
        "\n",
        "txt = \"hello world!\"\n",
        "\n",
        "print(c.hump(txt))"
      ],
      "metadata": {
        "colab": {
          "base_uri": "https://localhost:8080/"
        },
        "id": "_MayDwn5Zpo0",
        "outputId": "4ef6e786-e6a1-415e-fe63-6fe2365ad39b"
      },
      "execution_count": null,
      "outputs": [
        {
          "output_type": "stream",
          "name": "stdout",
          "text": [
            "Collecting camelcase\n",
            "  Downloading camelcase-0.2.tar.gz (1.3 kB)\n",
            "  Preparing metadata (setup.py) ... \u001b[?25l\u001b[?25hdone\n",
            "Building wheels for collected packages: camelcase\n",
            "  Building wheel for camelcase (setup.py) ... \u001b[?25l\u001b[?25hdone\n",
            "  Created wheel for camelcase: filename=camelcase-0.2-py3-none-any.whl size=1772 sha256=bb79d2f26ce4b83878847fe6bb64bd33cd1044fd1d6133b44f5f047c9a970e0a\n",
            "  Stored in directory: /root/.cache/pip/wheels/89/69/2b/bb16b6766a74942bfbd1e0db55e3c0f3d80c3463ad6b4dc4d4\n",
            "Successfully built camelcase\n",
            "Installing collected packages: camelcase\n",
            "Successfully installed camelcase-0.2\n",
            "Hello World!\n"
          ]
        }
      ]
    },
    {
      "cell_type": "markdown",
      "source": [
        "# Python Try Except\n",
        "\n",
        "The try block lets you test a block of code for errors.\n",
        "\n",
        "The except block lets you handle the error.\n",
        "\n",
        "The else block lets you execute code when there is no error.\n",
        "\n",
        "The finally block lets you execute code, regardless of the result of the try- and except blocks.\n",
        "\n",
        "Exception Handling: When an error occurs, or exception as we call it, Python will normally stop and generate an error message"
      ],
      "metadata": {
        "id": "fGr7CO6fbusT"
      }
    },
    {
      "cell_type": "code",
      "source": [
        "# Exception handling: Since the try block raises an error, the except block will be executed.\n",
        "# Without the try block, the program will crash and raise an error\n",
        "\n",
        "try:\n",
        "  print(z)\n",
        "except:\n",
        "  print(\"An exception occured\")"
      ],
      "metadata": {
        "colab": {
          "base_uri": "https://localhost:8080/"
        },
        "id": "LLlUuk6LbTQa",
        "outputId": "1a6d4f10-f828-4ae0-c8b1-526cf3a1b7af"
      },
      "execution_count": null,
      "outputs": [
        {
          "output_type": "stream",
          "name": "stdout",
          "text": [
            "An exception occured\n"
          ]
        }
      ]
    },
    {
      "cell_type": "code",
      "source": [
        "# Many Exveptions\n",
        "\n",
        "try:\n",
        "  print(z)\n",
        "except NameError:\n",
        "  print(\"Variable is not defined\")\n",
        "except:\n",
        "  print(\"Something else went wrong\")"
      ],
      "metadata": {
        "colab": {
          "base_uri": "https://localhost:8080/"
        },
        "id": "lNqM8JRppmZ4",
        "outputId": "53b81ddd-5324-47f0-e9ce-b5004a83c637"
      },
      "execution_count": null,
      "outputs": [
        {
          "output_type": "stream",
          "name": "stdout",
          "text": [
            "Variable is not defined\n"
          ]
        }
      ]
    },
    {
      "cell_type": "code",
      "source": [
        "# Else: You can use the else keyword to define a block of code to be executed if no errors were raised\n",
        "try:\n",
        "  print(\"Hello\")\n",
        "except:\n",
        "  print(\"Something went wrong!\")\n",
        "else:\n",
        "  print(\"Nothing went wrong\")"
      ],
      "metadata": {
        "colab": {
          "base_uri": "https://localhost:8080/"
        },
        "id": "McNIKjHdqBeF",
        "outputId": "026e9692-25fa-4784-cdc4-5bfe8b6363c7"
      },
      "execution_count": null,
      "outputs": [
        {
          "output_type": "stream",
          "name": "stdout",
          "text": [
            "Hello\n",
            "Nothing went wrong\n"
          ]
        }
      ]
    },
    {
      "cell_type": "code",
      "source": [
        "# Finally: The finally block, if specified, will be executed regardless if the try block raises an error or not\n",
        "try:\n",
        "  print(z)\n",
        "except:\n",
        "  print(\"Something went wrong\")\n",
        "finally:\n",
        "  print(\"The 'try except' is finished\")"
      ],
      "metadata": {
        "colab": {
          "base_uri": "https://localhost:8080/"
        },
        "id": "PlWDDdS8qV2o",
        "outputId": "cd95bbbe-46bc-4b7d-9c41-74bb0832e64f"
      },
      "execution_count": null,
      "outputs": [
        {
          "output_type": "stream",
          "name": "stdout",
          "text": [
            "Something went wrong\n",
            "The 'try except' is finished\n"
          ]
        }
      ]
    },
    {
      "cell_type": "code",
      "source": [
        "# example using all options above\n",
        "\n",
        "try:\n",
        "  f = open(\"demofile.txt\")\n",
        "  try:\n",
        "    f.write(\"Lorem Ipsum\")\n",
        "  except:\n",
        "    print(\"Something went wrong when writing to the file\")\n",
        "  finally:\n",
        "    f.close()\n",
        "except:\n",
        "  print(\"Something went wrong when opening the file\")"
      ],
      "metadata": {
        "colab": {
          "base_uri": "https://localhost:8080/"
        },
        "id": "xzycg36Aqzcj",
        "outputId": "f5f597bb-c0d8-4539-e9a1-590d635cc8b5"
      },
      "execution_count": null,
      "outputs": [
        {
          "output_type": "stream",
          "name": "stdout",
          "text": [
            "Something went wrong when opening the file\n"
          ]
        }
      ]
    },
    {
      "cell_type": "markdown",
      "source": [
        "Raise an exception\n",
        "\n",
        "As a Python developer you can choose to throw an exception if a condition occurs.\n",
        "\n",
        "To throw (or raise) an exception, use the raise keyword.You can define what kind of error to raise, and the text to print to the user"
      ],
      "metadata": {
        "id": "dbLNf_iIrf2z"
      }
    },
    {
      "cell_type": "code",
      "source": [
        "x = -1\n",
        "if x < 0:\n",
        "  raise Exception(\"Sorry, no numbers below zero!\")"
      ],
      "metadata": {
        "colab": {
          "base_uri": "https://localhost:8080/",
          "height": 216
        },
        "id": "S7Gz0EICrYf1",
        "outputId": "8063631e-7d53-43e0-a8f1-114ea8d5d095"
      },
      "execution_count": null,
      "outputs": [
        {
          "output_type": "error",
          "ename": "Exception",
          "evalue": "Sorry, no numbers below zero!",
          "traceback": [
            "\u001b[0;31m---------------------------------------------------------------------------\u001b[0m",
            "\u001b[0;31mException\u001b[0m                                 Traceback (most recent call last)",
            "\u001b[0;32m<ipython-input-56-f5a53e8b1b57>\u001b[0m in \u001b[0;36m<cell line: 2>\u001b[0;34m()\u001b[0m\n\u001b[1;32m      1\u001b[0m \u001b[0mx\u001b[0m \u001b[0;34m=\u001b[0m \u001b[0;34m-\u001b[0m\u001b[0;36m1\u001b[0m\u001b[0;34m\u001b[0m\u001b[0;34m\u001b[0m\u001b[0m\n\u001b[1;32m      2\u001b[0m \u001b[0;32mif\u001b[0m \u001b[0mx\u001b[0m \u001b[0;34m<\u001b[0m \u001b[0;36m0\u001b[0m\u001b[0;34m:\u001b[0m\u001b[0;34m\u001b[0m\u001b[0;34m\u001b[0m\u001b[0m\n\u001b[0;32m----> 3\u001b[0;31m   \u001b[0;32mraise\u001b[0m \u001b[0mException\u001b[0m\u001b[0;34m(\u001b[0m\u001b[0;34m\"Sorry, no numbers below zero!\"\u001b[0m\u001b[0;34m)\u001b[0m\u001b[0;34m\u001b[0m\u001b[0;34m\u001b[0m\u001b[0m\n\u001b[0m",
            "\u001b[0;31mException\u001b[0m: Sorry, no numbers below zero!"
          ]
        }
      ]
    },
    {
      "cell_type": "code",
      "source": [
        "x = \"hello\"\n",
        "if (type(x) is not int) or (not type(x) is int):\n",
        "  raise TypeError(\"Only integers are allowed\")"
      ],
      "metadata": {
        "colab": {
          "base_uri": "https://localhost:8080/",
          "height": 216
        },
        "id": "ZdwXOjXwryuL",
        "outputId": "24fdd3ca-1271-4d14-b457-44cd5f93504d"
      },
      "execution_count": null,
      "outputs": [
        {
          "output_type": "error",
          "ename": "TypeError",
          "evalue": "Only integers are allowed",
          "traceback": [
            "\u001b[0;31m---------------------------------------------------------------------------\u001b[0m",
            "\u001b[0;31mTypeError\u001b[0m                                 Traceback (most recent call last)",
            "\u001b[0;32m<ipython-input-62-f252309c54d1>\u001b[0m in \u001b[0;36m<cell line: 2>\u001b[0;34m()\u001b[0m\n\u001b[1;32m      1\u001b[0m \u001b[0mx\u001b[0m \u001b[0;34m=\u001b[0m \u001b[0;34m\"hello\"\u001b[0m\u001b[0;34m\u001b[0m\u001b[0;34m\u001b[0m\u001b[0m\n\u001b[1;32m      2\u001b[0m \u001b[0;32mif\u001b[0m \u001b[0;34m(\u001b[0m\u001b[0mtype\u001b[0m\u001b[0;34m(\u001b[0m\u001b[0mx\u001b[0m\u001b[0;34m)\u001b[0m \u001b[0;32mis\u001b[0m \u001b[0;32mnot\u001b[0m \u001b[0mint\u001b[0m\u001b[0;34m)\u001b[0m \u001b[0;32mor\u001b[0m \u001b[0;34m(\u001b[0m\u001b[0;32mnot\u001b[0m \u001b[0mtype\u001b[0m\u001b[0;34m(\u001b[0m\u001b[0mx\u001b[0m\u001b[0;34m)\u001b[0m \u001b[0;32mis\u001b[0m \u001b[0mint\u001b[0m\u001b[0;34m)\u001b[0m\u001b[0;34m:\u001b[0m\u001b[0;34m\u001b[0m\u001b[0;34m\u001b[0m\u001b[0m\n\u001b[0;32m----> 3\u001b[0;31m   \u001b[0;32mraise\u001b[0m \u001b[0mTypeError\u001b[0m\u001b[0;34m(\u001b[0m\u001b[0;34m\"Only integers are allowed\"\u001b[0m\u001b[0;34m)\u001b[0m\u001b[0;34m\u001b[0m\u001b[0;34m\u001b[0m\u001b[0m\n\u001b[0m",
            "\u001b[0;31mTypeError\u001b[0m: Only integers are allowed"
          ]
        }
      ]
    },
    {
      "cell_type": "markdown",
      "source": [
        "# Python User Input\n",
        "\n",
        "Python allows for user input.\n",
        "\n",
        "That means we are able to ask the user for input.\n",
        "\n",
        "The method is a bit different in Python 3.6 than Python 2.7.\n",
        "\n",
        "Python 3.6 uses the input() method.\n",
        "\n",
        "Python 2.7 uses the raw_input() method.\n",
        "\n",
        "Python stops executing when it comes to the input() function, and continues when the user has given some input"
      ],
      "metadata": {
        "id": "FCq_43mcsaT0"
      }
    },
    {
      "cell_type": "code",
      "source": [
        "username = input(\"What is your username? \")\n",
        "print(\"Username is \" + username)"
      ],
      "metadata": {
        "colab": {
          "base_uri": "https://localhost:8080/"
        },
        "id": "Vy2bxV3ssACt",
        "outputId": "1280ddd2-e2e6-44cb-e3ef-c6ae0aa12310"
      },
      "execution_count": null,
      "outputs": [
        {
          "output_type": "stream",
          "name": "stdout",
          "text": [
            "What is your username? Texhex\n",
            "Username is Texhex\n"
          ]
        }
      ]
    },
    {
      "cell_type": "markdown",
      "source": [
        "# Python String Format\n",
        "\n",
        "To make sure a string will display as expected, we can format the result with the format() method.\n",
        "\n",
        "The format() method allows you to format selected parts of a string.\n",
        "\n",
        "Sometimes there are parts of a text that you do not control, maybe they come from a database, or user input?\n",
        "\n",
        "To control such values, add placeholders (curly brackets {}) in the text, and run the values through the format() method\n"
      ],
      "metadata": {
        "id": "aj44I_UKtA3u"
      }
    },
    {
      "cell_type": "code",
      "source": [
        "price = 49\n",
        "txt = \"The price is {} dollars.\"\n",
        "print(txt.format(price))"
      ],
      "metadata": {
        "colab": {
          "base_uri": "https://localhost:8080/"
        },
        "id": "ArWDy3ufs3VM",
        "outputId": "f21dace7-7fdc-47a8-e63c-7c1579024ce4"
      },
      "execution_count": null,
      "outputs": [
        {
          "output_type": "stream",
          "name": "stdout",
          "text": [
            "The price is 49 dollars.\n"
          ]
        }
      ]
    },
    {
      "cell_type": "code",
      "source": [
        "# You can add parameters inside the curly brackets to specify how to convert the value.\n",
        "# Format the price to be displayed as a number with two decimals\n",
        "\n",
        "price = 49\n",
        "txt = \"The price is {:.2f} dollars\"\n",
        "print(txt.format(price))"
      ],
      "metadata": {
        "colab": {
          "base_uri": "https://localhost:8080/"
        },
        "id": "N-qqgvyTtc6d",
        "outputId": "10d65422-ecc7-4608-acc6-102d8eadcbdd"
      },
      "execution_count": null,
      "outputs": [
        {
          "output_type": "stream",
          "name": "stdout",
          "text": [
            "The price is 49.00 dollars\n"
          ]
        }
      ]
    },
    {
      "cell_type": "code",
      "source": [
        "# Multiple Values\n",
        "quantity = 3\n",
        "itemno = 567\n",
        "price = 49\n",
        "mytxt = \"I want {} peices of item number {} for {:.2f} dollars\"\n",
        "print(mytxt.format(quantity,itemno,price))"
      ],
      "metadata": {
        "colab": {
          "base_uri": "https://localhost:8080/"
        },
        "id": "PrppUKbDtqiI",
        "outputId": "db5ac8e8-e06f-4370-904d-1ffa62fa7014"
      },
      "execution_count": null,
      "outputs": [
        {
          "output_type": "stream",
          "name": "stdout",
          "text": [
            "I want 3 peices of item number 567 for 49.00 dollars\n"
          ]
        }
      ]
    },
    {
      "cell_type": "code",
      "source": [
        "# Index Number: You can use index numbers (a number inside the curly brackets {0}) to be sure the values are placed in the correct placeholders\n",
        "quantity = 3\n",
        "itemno = 670\n",
        "price = 49\n",
        "mytext = \"I want {0} pieces of  item number {1} for {2:.2f} dollars\"\n",
        "print(mytext.format(quantity,itemno,price))"
      ],
      "metadata": {
        "colab": {
          "base_uri": "https://localhost:8080/"
        },
        "id": "Wf8KEuAXuLGT",
        "outputId": "b4f36981-d986-42f0-a16e-65840f613a61"
      },
      "execution_count": null,
      "outputs": [
        {
          "output_type": "stream",
          "name": "stdout",
          "text": [
            "I want 3 pieces of  item number 670 for 49.00 dollars\n"
          ]
        }
      ]
    },
    {
      "cell_type": "code",
      "source": [
        "# if you want to refer to the same value more than once, use the index number\n",
        "\n",
        "age = 36\n",
        "name = \"John\"\n",
        "text = \"His name is {0}. {0} is {1} year old\"\n",
        "print(text.format(name,age))"
      ],
      "metadata": {
        "colab": {
          "base_uri": "https://localhost:8080/"
        },
        "id": "JItwxs9Cuuev",
        "outputId": "2192a215-7a7a-41b3-9ad6-4f3fc1d9c02e"
      },
      "execution_count": null,
      "outputs": [
        {
          "output_type": "stream",
          "name": "stdout",
          "text": [
            "His name is John. John is 36 year old\n"
          ]
        }
      ]
    },
    {
      "cell_type": "code",
      "source": [
        "# Named Indexes: one can also use named indexes by entering a name inside the curly brackets {carname},\n",
        "# but then one must use names when one passes the parameter values txt.format(carname = \"Ford\")\n",
        "\n",
        "myorder = \"I have a {carname}, it is a {model}\"\n",
        "myorder.format(carname = \"Ford\", model = \"Mustang\")"
      ],
      "metadata": {
        "colab": {
          "base_uri": "https://localhost:8080/",
          "height": 36
        },
        "id": "EITdnMSrvC5k",
        "outputId": "2faf5bbc-52e4-42e1-831f-e81fc486710d"
      },
      "execution_count": null,
      "outputs": [
        {
          "output_type": "execute_result",
          "data": {
            "text/plain": [
              "'I have a Ford, it is a Mustang'"
            ],
            "application/vnd.google.colaboratory.intrinsic+json": {
              "type": "string"
            }
          },
          "metadata": {},
          "execution_count": 72
        }
      ]
    },
    {
      "cell_type": "markdown",
      "source": [
        "# Python File open\n",
        "\n",
        "File handling is an important part of any web application.\n",
        "\n",
        "Python has several functions for creating, reading, updating, and deleting files.\n",
        "\n",
        "File Handling\n",
        "\n",
        "The key function for working with files in Python is the open() function.\n",
        "\n",
        "The open() function takes two parameters; filename, and mode.\n",
        "\n",
        "There are four different methods (modes) for opening a file:\n",
        "\n",
        "\"r\" - Read - Default value. Opens a file for reading, error if the file does not exist\n",
        "\n",
        "\"a\" - Append - Opens a file for appending, creates the file if it does not exist\n",
        "\n",
        "\"w\" - Write - Opens a file for writing, creates the file if it does not exist\n",
        "\n",
        "\"x\" - Create - Creates the specified file, returns an error if the file exists\n",
        "\n",
        "In addition you can specify if the file should be handled as binary or text mode:\n",
        "\n",
        "\"t\" - Text - Default value. Text mode\n",
        "\n",
        "\"b\" - Binary - Binary mode (e.g. images)"
      ],
      "metadata": {
        "id": "ADmR8dI5voqq"
      }
    },
    {
      "cell_type": "code",
      "source": [
        "# Syntax: Open a file for reading\n",
        "f = open(\"mydemo.txt\")\n",
        "# or \"r\" for read, and \"t\" for text are the default values\n",
        "f = open(\"mydemo.txt\",\"rt\")"
      ],
      "metadata": {
        "id": "7hJ45G7Mvf3e"
      },
      "execution_count": null,
      "outputs": []
    },
    {
      "cell_type": "markdown",
      "source": [
        "# Python File Open\n",
        "to open the file, use the built-in open() function, which returns a file object, which has a read() method for reading the content of the file.\n"
      ],
      "metadata": {
        "id": "VMbnMBiRwiQb"
      }
    },
    {
      "cell_type": "code",
      "source": [
        "f = open(\"demo.txt\",\"r\")\n",
        "print(f.read())"
      ],
      "metadata": {
        "id": "kLkh6a75wi0m"
      },
      "execution_count": null,
      "outputs": []
    },
    {
      "cell_type": "code",
      "source": [
        "# If file is located in a different location, one will have to specify the file path\n",
        "d = open(\"D:\\\\myfiles\\welcome.txt\",\"r\")\n",
        "print(f.read())"
      ],
      "metadata": {
        "id": "RoqdYMNw8ynW"
      },
      "execution_count": null,
      "outputs": []
    },
    {
      "cell_type": "code",
      "source": [
        "# By default the read() method returns the whole text, but one can specift how many characters one want to return\n",
        "f = open(\"D:\\\\myfiles\\welcome.txt\",\"r\")\n",
        "print(f.read(5))"
      ],
      "metadata": {
        "id": "mn2nip2h9HG2"
      },
      "execution_count": null,
      "outputs": []
    },
    {
      "cell_type": "code",
      "source": [
        "# One can read one line by using readline() method\n",
        "f = open(\"demofile.txt\",\"r\")\n",
        "print(f.readline())"
      ],
      "metadata": {
        "id": "3c5y6AiN9epy"
      },
      "execution_count": null,
      "outputs": []
    },
    {
      "cell_type": "code",
      "source": [
        "# By calling readline() two times, one can read the two first lines\n",
        "f = open(\"demofile.txt\",\"r\")\n",
        "pint(f.readline())\n",
        "print(f.readline())"
      ],
      "metadata": {
        "id": "JEXY5zgc9uM6"
      },
      "execution_count": null,
      "outputs": []
    },
    {
      "cell_type": "code",
      "source": [
        "# By looping through the lines of the file, one can read the whole file line by line\n",
        "f = open(\"demotext.txt\",\"r\")\n",
        "for x in f:\n",
        "  print(x)"
      ],
      "metadata": {
        "id": "D-cBmH4R98dc"
      },
      "execution_count": null,
      "outputs": []
    },
    {
      "cell_type": "code",
      "source": [
        "# Close Files: one should always close the files, as in some cases, due to buffering, the changes made to afile may not show til the file is closed\n",
        "f = open(\"demofile.txt\",\"r\")\n",
        "print(f.readline())\n",
        "f.close()"
      ],
      "metadata": {
        "id": "lxlWBalQ-Plt"
      },
      "execution_count": null,
      "outputs": []
    },
    {
      "cell_type": "markdown",
      "source": [
        "# Python File Write\n",
        "to write to an existing file, one must add a parameter to the open() function:\n",
        "\"a\": append, which will append to the end of the file\n",
        "\"w\": write, which overwrite any existing content"
      ],
      "metadata": {
        "id": "yttiZE7I-0w6"
      }
    },
    {
      "cell_type": "code",
      "source": [
        "f = open(\"demofile.txt\",\"a\")\n",
        "f.write(\"Now the file has more content!\")\n",
        "f.close()\n",
        "# Open and read the file after the appending\n",
        "f = open(\"demofile.txt\",\"r\")\n",
        "print(f.read())"
      ],
      "metadata": {
        "id": "6QE5amWN-vqm"
      },
      "execution_count": null,
      "outputs": []
    },
    {
      "cell_type": "code",
      "source": [
        "# Overwrite the content\n",
        "f = open(\"demofile.txt\",\"w\")\n",
        "f.write(\"Woops! I have deleted the content!\")\n",
        "f.close()\n",
        "# Open and read the file after overwriting\n",
        "f = open(\"demofile.txt\",\"r\")\n",
        "print(f.read())"
      ],
      "metadata": {
        "id": "-OHg6nT2_bmd"
      },
      "execution_count": null,
      "outputs": []
    },
    {
      "cell_type": "markdown",
      "source": [
        "Create a new file\n",
        "\n",
        "to create a new file in python, use the open() method, with one of the following parameters:\n",
        "\n",
        "\"x\": will create a file and return an error if the file exists.\n",
        "\n",
        "\"a\": append-will create a file if the specified file does not exist.\n",
        "\n",
        "\"w\": write-will create a file if the specified file does not exist."
      ],
      "metadata": {
        "id": "YdHw9B0A_zF1"
      }
    },
    {
      "cell_type": "code",
      "source": [
        "# Create a file called \"myfile.txt\"\n",
        "\n",
        "f = open(\"myfile.txt\",\"x\")"
      ],
      "metadata": {
        "id": "-HzLhZLyAXZ_"
      },
      "execution_count": null,
      "outputs": []
    },
    {
      "cell_type": "code",
      "source": [
        "# Crate a file if it does not exist\n",
        "f = open(\"myfile.txt\",\"w\")"
      ],
      "metadata": {
        "id": "MmJ7tSuRAjD4"
      },
      "execution_count": null,
      "outputs": []
    },
    {
      "cell_type": "code",
      "source": [
        "# python Delete File: to delete a file, one must import the OS module, and run its os.remove() function\n",
        "# Remove the file \"demofile.txt\"\n",
        "\n",
        "import os\n",
        "os.remove(\"demofile.txt\")"
      ],
      "metadata": {
        "id": "ePa9N6paAy-A"
      },
      "execution_count": null,
      "outputs": []
    },
    {
      "cell_type": "code",
      "source": [
        "# Check if the file exists, then delete it\n",
        "import os\n",
        "if os.path.exists(\"demofile.txt\"):\n",
        "  os.remove(\"demofile.txt\")\n",
        "else:\n",
        "  print(\"The file does not exists\")"
      ],
      "metadata": {
        "id": "yLH_K_05BJyZ"
      },
      "execution_count": null,
      "outputs": []
    },
    {
      "cell_type": "code",
      "source": [
        "# Delete Folder: to delete an entire folder, use the os.rmdir() method\n",
        "# One can only remove an empty folder.\n",
        "import os\n",
        "os.rmdir(\"myfolder\")"
      ],
      "metadata": {
        "id": "zQIxUhN2BZaH"
      },
      "execution_count": null,
      "outputs": []
    },
    {
      "cell_type": "markdown",
      "source": [
        "# Python RegEx\n",
        "A RegEx, or regular expression, is a sequence of characters that forms a search pattern.\n",
        "RegEx can be used to check if a string contains the specified search pattern.\n",
        "\n",
        "RegEx in Python\n",
        "\n",
        "When one import the re module, one can start using regular expressions"
      ],
      "metadata": {
        "id": "vpNyDdZaCFkP"
      }
    },
    {
      "cell_type": "code",
      "source": [
        "# Search the string to see if it starts with \"The\" and ends with \"Spain\"\n",
        "import re\n",
        "txt = \"The rain in Spain\"\n",
        "x = re.search(\"^The.*Spain$\", txt)\n",
        "\n",
        "if x:\n",
        "  print(\"YES! We have a match!\")\n",
        "else:\n",
        "  print(\"No match\")"
      ],
      "metadata": {
        "colab": {
          "base_uri": "https://localhost:8080/"
        },
        "id": "RAE3JchjCFBx",
        "outputId": "32626270-4ce9-4b66-a1e2-dd844ee12f90"
      },
      "execution_count": null,
      "outputs": [
        {
          "output_type": "stream",
          "name": "stdout",
          "text": [
            "YES! We have a match!\n"
          ]
        }
      ]
    },
    {
      "cell_type": "markdown",
      "source": [
        "# RegEx Functions\n",
        "\n",
        "The re module offers a set of functions that allows one to search a string for a match\n",
        "\n",
        "findall: returns a list containing all matches\n",
        "\n",
        "search: returns a match object if there is a match anywhere in the string\n",
        "\n",
        "split: returns a list where the string has been split at each match\n",
        "\n",
        "sub: replaces one or many matches witha string\n",
        "\n",
        "# Metacharacters\n",
        "\n",
        "Metacharacters are characters with a special meaning\n",
        "\n",
        "[] ==> A set of characters ==> \"[a-m]\"\n",
        "\n",
        "\\ ==> Signals a special sequence (can also be used to escape special character) ==>  \"\\d\"\n",
        "\n",
        ". ==> any character(except newline character) ==> \"he..o\"\n",
        "\n",
        "^ ==> starts with ==> \"^hello\"\n",
        "\n",
        "$ ==> Ends with ==> \"plants$\"\n",
        "\n",
        "* ==> Zero or more ==> \"he.*o\"\n",
        "\n",
        "+ ==> One or more occurance ==> \"he.+o\"\n",
        "\n",
        "? ==> Zero or one occurrences ==> \"he.?o\"\n",
        "\n",
        "{} ==> Exactly specified number of occurances ==> \"he.{2}o\"\n",
        "\n",
        "| ==> Either or ==> \"falls|stays\"\n",
        "\n",
        "() ==> Capture and group\n"
      ],
      "metadata": {
        "id": "txZEmUYqDXiM"
      }
    },
    {
      "cell_type": "markdown",
      "source": [
        "# Special Sequence\n",
        "\n",
        "A special sequence is a \\ folowed by one of the characters in the list below, and has a special meaning:\n",
        "\n",
        "\\A ==> returns a match if the specified characters are at the beginning of the string ==> \"\\AThe\"\n",
        "\n",
        "\\b ==> returns a match where the specified characters are at the beginning or at the end of a word (the \"r\" in the beginning is making sure that the string is being treated as a \"raw string\") ==> r\"\\bain\"  r\"ain\\b\"\n",
        "\n",
        "\\B ==> returns a match where the specified characters are present, but not at the beginning (or at the end) of a word (the \"r\" in the beginning is making sure that the string treated as a \"raw string\") ==> r\"\\Bain\" r\"ain\\B\"\n",
        "\n",
        "\\d ==> returns a match where the string contains digits(numbers from 0-9) ==> \"\\d\"\n",
        "\n",
        "\\D ==> returns a match where the string DOES NOT contain digits ==> \"\\D\"\n",
        "\n",
        "\\s ==> returns a match where the string contains a white space character ==> \"\\s\"\n",
        "\n",
        "\\S ==> returns a match where the string DOES NOT contain a white space character ==> \"\\S\"\n",
        "\n",
        "\\w ==> returns a match where the string contains any word characters(characters from a to Z, digits from 0-9, and the underscore _ character) ==> \"\\w\"\n",
        "\n",
        "\\W ==> returns a match where the string DOES NOT contain any word characters ==> \"\\W\"\n",
        "\n",
        "\\Z ==> returns a match if the specified characters are at the end of the string ==> \"Spain\\Z\"\n",
        "\n"
      ],
      "metadata": {
        "id": "L94Ln5XxEFCE"
      }
    },
    {
      "cell_type": "markdown",
      "source": [
        "# Sets\n",
        "\n",
        "A set is a set of characters inside a pair of squarebrackets [] with a special meaning\n",
        "\n",
        "[arn] ==> returns a match where one of the specified characters (a,r, or n) is present\n",
        "\n",
        "\n",
        "[a-n] ==> returns a match for any lowercase character, alphabetically between a and n\n",
        "\n",
        "[^arn] ==> returns a match for any character EXCEPT a, r, and n\n",
        "\n",
        "[0123] ==> returns a match where any of the specified digits (0,1,2, or 3) are present\n",
        "\n",
        "[0-9] ==> returns a match for any digit between 0 and 9\n",
        "\n",
        "[0-5][0-9] ==> returns a match for any two digit numbers from 00 and 59\n",
        "\n",
        "[a-zA-Z] ==> returns a match for any character alphabetically between a and z, lower case OR upper case\n",
        "\n",
        "[+] ==> in sets, + , * , . , | , () , $ , {} has no special meaning, so [+] means: return a match for any + character in the string"
      ],
      "metadata": {
        "id": "5NX34o_8KKxU"
      }
    },
    {
      "cell_type": "markdown",
      "source": [],
      "metadata": {
        "id": "mbMaD8nJLbOQ"
      }
    },
    {
      "cell_type": "code",
      "source": [
        "txt = \"The rain in Spain\"\n",
        "x = re.search(\"^The.*Spain$\", txt)\n",
        "\n",
        "if x:\n",
        "  print(\"YES! We have a match!\")\n",
        "else:\n",
        "  print(\"No match\")"
      ],
      "metadata": {
        "colab": {
          "base_uri": "https://localhost:8080/"
        },
        "id": "3S35-JG9DWF3",
        "outputId": "4c8878f5-8d3a-46fe-9d55-e1e68fe46c3e"
      },
      "execution_count": null,
      "outputs": [
        {
          "output_type": "stream",
          "name": "stdout",
          "text": [
            "YES! We have a match!\n"
          ]
        }
      ]
    },
    {
      "cell_type": "code",
      "source": [
        "import re\n",
        "\n",
        "txt = \"The rain in Spain\"\n",
        "\n",
        "#Check if the string has any characters between a and n:\n",
        "\n",
        "x = re.findall(\"[a-n]\", txt)\n",
        "\n",
        "print(x)\n",
        "\n",
        "if x:\n",
        "  print(\"Yes, there is at least one match!\")\n",
        "else:\n",
        "  print(\"No match\")"
      ],
      "metadata": {
        "colab": {
          "base_uri": "https://localhost:8080/"
        },
        "id": "dqWesQKFLmMh",
        "outputId": "ada3fd93-9993-4cb4-d4c5-378b7e807905"
      },
      "execution_count": null,
      "outputs": [
        {
          "output_type": "stream",
          "name": "stdout",
          "text": [
            "['h', 'e', 'a', 'i', 'n', 'i', 'n', 'a', 'i', 'n']\n",
            "Yes, there is at least one match!\n"
          ]
        }
      ]
    },
    {
      "cell_type": "code",
      "source": [
        "import re\n",
        "\n",
        "txt = \"The rain in Spain\"\n",
        "\n",
        "#Check if the string has other characters than a, r, or n:\n",
        "\n",
        "x = re.findall(\"[^arn]\", txt)\n",
        "\n",
        "print(x)\n",
        "\n",
        "if x:\n",
        "  print(\"Yes, there is at least one match!\")\n",
        "else:\n",
        "  print(\"No match\")"
      ],
      "metadata": {
        "colab": {
          "base_uri": "https://localhost:8080/"
        },
        "id": "71GSARfOLqVU",
        "outputId": "24407d19-0010-4748-cf86-f6fa14653f54"
      },
      "execution_count": null,
      "outputs": [
        {
          "output_type": "stream",
          "name": "stdout",
          "text": [
            "['T', 'h', 'e', ' ', 'i', ' ', 'i', ' ', 'S', 'p', 'i']\n",
            "Yes, there is at least one match!\n"
          ]
        }
      ]
    },
    {
      "cell_type": "code",
      "source": [
        "import re\n",
        "\n",
        "txt = \"The rain in Spain\"\n",
        "\n",
        "#Check if the string has any 0, 1, 2, or 3 digits:\n",
        "\n",
        "x = re.findall(\"[0123]\", txt)\n",
        "\n",
        "print(x)\n",
        "\n",
        "if x:\n",
        "  print(\"Yes, there is at least one match!\")\n",
        "else:\n",
        "  print(\"No match\")"
      ],
      "metadata": {
        "colab": {
          "base_uri": "https://localhost:8080/"
        },
        "id": "hqxU8QzDLvNs",
        "outputId": "47412542-6c55-45e7-f4b5-d0ce861db3af"
      },
      "execution_count": null,
      "outputs": [
        {
          "output_type": "stream",
          "name": "stdout",
          "text": [
            "[]\n",
            "No match\n"
          ]
        }
      ]
    },
    {
      "cell_type": "code",
      "source": [
        "import re\n",
        "\n",
        "txt = \"8 times before 11:45 AM\"\n",
        "\n",
        "#Check if the string has any digits:\n",
        "\n",
        "x = re.findall(\"[0-9]\", txt)\n",
        "\n",
        "print(x)\n",
        "\n",
        "if x:\n",
        "  print(\"Yes, there is at least one match!\")\n",
        "else:\n",
        "  print(\"No match\")"
      ],
      "metadata": {
        "colab": {
          "base_uri": "https://localhost:8080/"
        },
        "id": "4sQlI275LzTQ",
        "outputId": "1b7a8930-b5fc-410c-d438-34804ea19e36"
      },
      "execution_count": null,
      "outputs": [
        {
          "output_type": "stream",
          "name": "stdout",
          "text": [
            "['8', '1', '1', '4', '5']\n",
            "Yes, there is at least one match!\n"
          ]
        }
      ]
    },
    {
      "cell_type": "code",
      "source": [
        "import re\n",
        "\n",
        "txt = \"8 times before 11:45 AM\"\n",
        "\n",
        "#Check if the string has any two-digit numbers, from 00 to 59:\n",
        "\n",
        "x = re.findall(\"[0-5][0-9]\", txt)\n",
        "\n",
        "print(x)\n",
        "\n",
        "if x:\n",
        "  print(\"Yes, there is at least one match!\")\n",
        "else:\n",
        "  print(\"No match\")"
      ],
      "metadata": {
        "colab": {
          "base_uri": "https://localhost:8080/"
        },
        "id": "00fXnMGnL2D6",
        "outputId": "565528f8-a09e-42d7-e398-869b05baacaa"
      },
      "execution_count": null,
      "outputs": [
        {
          "output_type": "stream",
          "name": "stdout",
          "text": [
            "['11', '45']\n",
            "Yes, there is at least one match!\n"
          ]
        }
      ]
    },
    {
      "cell_type": "code",
      "source": [
        "import re\n",
        "\n",
        "txt = \"8 times before 11:45 AM\"\n",
        "\n",
        "#Check if the string has any characters from a to z lower case, and A to Z upper case:\n",
        "\n",
        "x = re.findall(\"[a-zA-Z]\", txt)\n",
        "\n",
        "print(x)\n",
        "\n",
        "if x:\n",
        "  print(\"Yes, there is at least one match!\")\n",
        "else:\n",
        "  print(\"No match\")\n"
      ],
      "metadata": {
        "colab": {
          "base_uri": "https://localhost:8080/"
        },
        "id": "ePTkVLCuL-i5",
        "outputId": "3ece9640-724c-4842-ec46-d4aab1f488e0"
      },
      "execution_count": null,
      "outputs": [
        {
          "output_type": "stream",
          "name": "stdout",
          "text": [
            "['t', 'i', 'm', 'e', 's', 'b', 'e', 'f', 'o', 'r', 'e', 'A', 'M']\n",
            "Yes, there is at least one match!\n"
          ]
        }
      ]
    },
    {
      "cell_type": "code",
      "source": [
        "import re\n",
        "\n",
        "txt = \"8 times before 11:45 AM\"\n",
        "\n",
        "#Check if the string has any + characters:\n",
        "\n",
        "x = re.findall(\"[+]\", txt)\n",
        "\n",
        "print(x)\n",
        "\n",
        "if x:\n",
        "  print(\"Yes, there is at least one match!\")\n",
        "else:\n",
        "  print(\"No match\")"
      ],
      "metadata": {
        "colab": {
          "base_uri": "https://localhost:8080/"
        },
        "id": "pHBZb3LHMCVf",
        "outputId": "266e9daa-e4d6-46de-e5cc-f2d265016645"
      },
      "execution_count": null,
      "outputs": [
        {
          "output_type": "stream",
          "name": "stdout",
          "text": [
            "[]\n",
            "No match\n"
          ]
        }
      ]
    },
    {
      "cell_type": "code",
      "source": [
        "# The findall() function: returns a list containing all matches\n",
        "# The list contains the matches in the order they are found\n",
        "# If no matches are found, an empty list is returned\n",
        "\n",
        "import re\n",
        "\n",
        "txt = \"The rain in Spain\"\n",
        "x = re.findall(\"ai\",txt)\n",
        "print(x)"
      ],
      "metadata": {
        "colab": {
          "base_uri": "https://localhost:8080/"
        },
        "id": "W1NTKClhMGHj",
        "outputId": "2f6b6536-edd0-4d3e-bd82-b3bcfc9648f4"
      },
      "execution_count": null,
      "outputs": [
        {
          "output_type": "stream",
          "name": "stdout",
          "text": [
            "['ai', 'ai']\n"
          ]
        }
      ]
    },
    {
      "cell_type": "code",
      "source": [
        "import re\n",
        "txt = \"The rain in Spain\"\n",
        "x = re.findall(\"portugal\",txt)\n",
        "print(x)"
      ],
      "metadata": {
        "colab": {
          "base_uri": "https://localhost:8080/"
        },
        "id": "1Cx8te3GMY7J",
        "outputId": "45a14864-508f-409e-ca85-d4321447b9c5"
      },
      "execution_count": null,
      "outputs": [
        {
          "output_type": "stream",
          "name": "stdout",
          "text": [
            "[]\n"
          ]
        }
      ]
    },
    {
      "cell_type": "code",
      "source": [
        "# The search() function searches the string for a match, and returns a match object if there is a match.\n",
        "# if there is more than one match, only the first occurance of the match will be returned\n",
        "# if no match found, the value None is returned\n",
        "# Search for the first white-space character in the string\n",
        "import re\n",
        "txt = \"The rain in Spain\"\n",
        "x = re.search(\"\\s\",txt)\n",
        "print(\"The first white-space character is located in position\", x.start())\n"
      ],
      "metadata": {
        "colab": {
          "base_uri": "https://localhost:8080/"
        },
        "id": "Svn5E7-eMuZg",
        "outputId": "2ff10a96-dc02-4eaa-986b-70c068eb45b9"
      },
      "execution_count": null,
      "outputs": [
        {
          "output_type": "stream",
          "name": "stdout",
          "text": [
            "The first white-space character is located in position 3\n"
          ]
        }
      ]
    },
    {
      "cell_type": "code",
      "source": [
        "import re\n",
        "txt = \"The rain in Spain\"\n",
        "x = re.search(\"Portugal\",txt)\n",
        "print(x)"
      ],
      "metadata": {
        "colab": {
          "base_uri": "https://localhost:8080/"
        },
        "id": "UawVuNZ6NPMX",
        "outputId": "c662743d-f7eb-40f7-bb62-717be384cd53"
      },
      "execution_count": null,
      "outputs": [
        {
          "output_type": "stream",
          "name": "stdout",
          "text": [
            "None\n"
          ]
        }
      ]
    },
    {
      "cell_type": "code",
      "source": [
        "# The split() Function\n",
        "# The split() function returns a list, where the string has been split at each match\n",
        "\n",
        "# split at each white-space character\n",
        "import re\n",
        "txt = \"The rain in Spain\"\n",
        "x = re.split(\"\\s\",txt)\n",
        "print(x)"
      ],
      "metadata": {
        "colab": {
          "base_uri": "https://localhost:8080/"
        },
        "id": "L8S3PnzNNmg5",
        "outputId": "50b48734-a7ae-4709-c4e8-262cad53dfd7"
      },
      "execution_count": null,
      "outputs": [
        {
          "output_type": "stream",
          "name": "stdout",
          "text": [
            "['The', 'rain', 'in', 'Spain']\n"
          ]
        }
      ]
    },
    {
      "cell_type": "code",
      "source": [
        "# One can control the number of occurances by specifying the maxsplit parameter\n",
        "\n",
        "# split the string only at the first occurance\n",
        "\n",
        "import re\n",
        "txt = \"The rain in Spain\"\n",
        "x = re.split(\"\\s\",txt,1)\n",
        "print(x)"
      ],
      "metadata": {
        "colab": {
          "base_uri": "https://localhost:8080/"
        },
        "id": "YzK75tztOEvj",
        "outputId": "d9288b6f-c2a0-4214-d6f4-4b3cfcba00fe"
      },
      "execution_count": null,
      "outputs": [
        {
          "output_type": "stream",
          "name": "stdout",
          "text": [
            "['The', 'rain in Spain']\n"
          ]
        }
      ]
    },
    {
      "cell_type": "code",
      "source": [
        "# The sub() function: the sub() function replaces the matches with the text of one's choice\n",
        "\n",
        "# Replace every white-space character with the number 9\n",
        "\n",
        "import re\n",
        "txt = \"The rain in Spain\"\n",
        "x = re.sub(\"\\s\",\"9\",txt)\n",
        "print(x)"
      ],
      "metadata": {
        "colab": {
          "base_uri": "https://localhost:8080/"
        },
        "id": "Dd7cSRC3ObA4",
        "outputId": "bf6f5586-6413-45b6-a5da-ec93028c6a25"
      },
      "execution_count": null,
      "outputs": [
        {
          "output_type": "stream",
          "name": "stdout",
          "text": [
            "The9rain9in9Spain\n"
          ]
        }
      ]
    },
    {
      "cell_type": "code",
      "source": [
        "# One can control the number of replacements by specifying the count parameter\n",
        "\n",
        "# Replace the first 2 occurances\n",
        "\n",
        "import re\n",
        "\n",
        "txt = \"The rain in Spain\"\n",
        "x = re.sub(\"\\s\",\"9\",txt,2)\n",
        "print(x)"
      ],
      "metadata": {
        "colab": {
          "base_uri": "https://localhost:8080/"
        },
        "id": "CbbdIGbrOzhB",
        "outputId": "bc7a3c40-d09a-4b4f-d4fd-0e3bed81a610"
      },
      "execution_count": null,
      "outputs": [
        {
          "output_type": "stream",
          "name": "stdout",
          "text": [
            "The9rain9in Spain\n"
          ]
        }
      ]
    },
    {
      "cell_type": "code",
      "source": [
        "# Match Object: a match object is an object containing information about the search and the result.\n",
        "# if there is no match, the value None will be returned, instead of the match object\n",
        "\n",
        "# Do a search that will return a Match Object\n",
        "\n",
        "import re\n",
        "txt = \"The rain in Spain\"\n",
        "x = re.search(\"ai\",txt)\n",
        "print(x)"
      ],
      "metadata": {
        "colab": {
          "base_uri": "https://localhost:8080/"
        },
        "id": "0SB6WgxoPLHv",
        "outputId": "ac35a513-5c6f-4db2-bf51-a17108b74b7d"
      },
      "execution_count": null,
      "outputs": [
        {
          "output_type": "stream",
          "name": "stdout",
          "text": [
            "<re.Match object; span=(5, 7), match='ai'>\n"
          ]
        }
      ]
    },
    {
      "cell_type": "markdown",
      "source": [
        "The Match Object has properties and methods used to retrieve information about the search and the result:\n",
        "\n",
        ".span() ==> returns a tuple containing the start-, and end positions of the match\n",
        "\n",
        ".string ==> returns the string passed into a function\n",
        "\n",
        ".group() returns the part of the string where there was a match\n",
        "\n"
      ],
      "metadata": {
        "id": "oM1Yn4tEPq4D"
      }
    },
    {
      "cell_type": "code",
      "source": [
        "# Print the position of the fisrt match occurance (start and end position)\n",
        "# The regular expression looks for any words that starts with an upper case \"S\"\n",
        "\n",
        "import re\n",
        "txt = \"The rain in Spain\"\n",
        "x = re.search(r\"\\bS\\w+\",txt)\n",
        "print(x.span())"
      ],
      "metadata": {
        "colab": {
          "base_uri": "https://localhost:8080/"
        },
        "id": "DZmTxLEsPkfy",
        "outputId": "71402366-d5e2-49b5-c745-053322d076e8"
      },
      "execution_count": null,
      "outputs": [
        {
          "output_type": "stream",
          "name": "stdout",
          "text": [
            "(12, 17)\n"
          ]
        }
      ]
    },
    {
      "cell_type": "code",
      "source": [
        "# print the string passed into the function\n",
        "\n",
        "import re\n",
        "txt = \"The rain in Spain\"\n",
        "x = re.search(r\"\\bS\\w+\",txt)\n",
        "print(x.string)"
      ],
      "metadata": {
        "colab": {
          "base_uri": "https://localhost:8080/"
        },
        "id": "1I-jZehQQk6L",
        "outputId": "535dccb2-48d0-4101-a5ce-66318ed0ea80"
      },
      "execution_count": null,
      "outputs": [
        {
          "output_type": "stream",
          "name": "stdout",
          "text": [
            "The rain in Spain\n"
          ]
        }
      ]
    },
    {
      "cell_type": "code",
      "source": [
        "# print the part of the string where there was a match\n",
        "# The regular expression looks for any words that starts with an upper case \"S\"\n",
        "# if there is no match, the value None will be returned, instead of the Match Object\n",
        "import re\n",
        "txt = \"The rain in Spain\"\n",
        "x = re.search(r\"\\bS\\w+\",txt)\n",
        "print(x.group())"
      ],
      "metadata": {
        "colab": {
          "base_uri": "https://localhost:8080/"
        },
        "id": "2ZZeu9HJQzwx",
        "outputId": "3063d9da-e5e1-40c8-b88e-b7c8b3f1874a"
      },
      "execution_count": null,
      "outputs": [
        {
          "output_type": "stream",
          "name": "stdout",
          "text": [
            "Spain\n"
          ]
        }
      ]
    },
    {
      "cell_type": "code",
      "source": [],
      "metadata": {
        "id": "gP2M38h7RKhn"
      },
      "execution_count": null,
      "outputs": []
    }
  ]
}